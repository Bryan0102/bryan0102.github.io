{
 "cells": [
  {
   "cell_type": "markdown",
   "metadata": {},
   "source": [
    "# Basketball Analysis"
   ]
  },
  {
   "cell_type": "markdown",
   "metadata": {},
   "source": [
    "### Import two .csv files, merge them, and bust out some py charts!"
   ]
  },
  {
   "cell_type": "code",
   "execution_count": 42,
   "metadata": {
    "collapsed": true
   },
   "outputs": [],
   "source": [
    "import pandas as pd\n",
    "import numpy as np\n",
    "import matplotlib.pyplot as plt\n",
    "import matplotlib\n",
    "matplotlib.style.use('ggplot')\n"
   ]
  },
  {
   "cell_type": "markdown",
   "metadata": {},
   "source": [
    "First we will load our two .csv files since they are incomplete versions of each other."
   ]
  },
  {
   "cell_type": "code",
   "execution_count": 4,
   "metadata": {},
   "outputs": [
    {
     "name": "stdout",
     "output_type": "stream",
     "text": [
      "<class 'pandas.core.frame.DataFrame'>\n"
     ]
    },
    {
     "data": {
      "text/plain": [
       "<bound method NDFrame.head of       name  pointspergame  assistspergame\n",
       "0      Jon           20.4             1.3\n",
       "1      Rob           15.5             8.0\n",
       "2   Sharon           30.1            11.2\n",
       "3     Alex            8.2             0.5\n",
       "4  Rebecca           12.3            17.0\n",
       "5   Ariane           18.1             3.0\n",
       "6    Bryon           16.0             8.5\n",
       "7     Matt           13.0             2.1>"
      ]
     },
     "execution_count": 4,
     "metadata": {},
     "output_type": "execute_result"
    }
   ],
   "source": [
    "bball = pd.read_csv('./data/datadotworldbballstats.csv')\n",
    "print(type(bball))\n",
    "bball.head"
   ]
  },
  {
   "cell_type": "code",
   "execution_count": 5,
   "metadata": {},
   "outputs": [
    {
     "name": "stdout",
     "output_type": "stream",
     "text": [
      "<class 'pandas.core.frame.DataFrame'>\n"
     ]
    },
    {
     "data": {
      "text/plain": [
       "<bound method NDFrame.head of       name  height handedness\n",
       "0      Jon    6'5\"      Right\n",
       "1      Rob  6'7.5\"       Left\n",
       "2   Sharon    6'3\"      Right\n",
       "3     Alex    6'2\"      Right\n",
       "4  Rebecca      7'      Right\n",
       "5   Ariane    5'8\"       Left\n",
       "6    Bryon      7'      Right\n",
       "7    Brett      6'      Right\n",
       "8     Matt    5'5\"      Right>"
      ]
     },
     "execution_count": 5,
     "metadata": {},
     "output_type": "execute_result"
    }
   ],
   "source": [
    "bball2 = pd.read_csv('./data/datadotworldbballteam.csv')\n",
    "print(type(bball2))\n",
    "bball2.head"
   ]
  },
  {
   "cell_type": "markdown",
   "metadata": {},
   "source": [
    "Then we will merge them together in to one. "
   ]
  },
  {
   "cell_type": "code",
   "execution_count": 6,
   "metadata": {},
   "outputs": [
    {
     "data": {
      "text/html": [
       "<div>\n",
       "<style>\n",
       "    .dataframe thead tr:only-child th {\n",
       "        text-align: right;\n",
       "    }\n",
       "\n",
       "    .dataframe thead th {\n",
       "        text-align: left;\n",
       "    }\n",
       "\n",
       "    .dataframe tbody tr th {\n",
       "        vertical-align: top;\n",
       "    }\n",
       "</style>\n",
       "<table border=\"1\" class=\"dataframe\">\n",
       "  <thead>\n",
       "    <tr style=\"text-align: right;\">\n",
       "      <th></th>\n",
       "      <th>name</th>\n",
       "      <th>pointspergame</th>\n",
       "      <th>assistspergame</th>\n",
       "      <th>height</th>\n",
       "      <th>handedness</th>\n",
       "    </tr>\n",
       "  </thead>\n",
       "  <tbody>\n",
       "    <tr>\n",
       "      <th>0</th>\n",
       "      <td>Jon</td>\n",
       "      <td>20.4</td>\n",
       "      <td>1.3</td>\n",
       "      <td>6'5\"</td>\n",
       "      <td>Right</td>\n",
       "    </tr>\n",
       "    <tr>\n",
       "      <th>1</th>\n",
       "      <td>Rob</td>\n",
       "      <td>15.5</td>\n",
       "      <td>8.0</td>\n",
       "      <td>6'7.5\"</td>\n",
       "      <td>Left</td>\n",
       "    </tr>\n",
       "    <tr>\n",
       "      <th>2</th>\n",
       "      <td>Sharon</td>\n",
       "      <td>30.1</td>\n",
       "      <td>11.2</td>\n",
       "      <td>6'3\"</td>\n",
       "      <td>Right</td>\n",
       "    </tr>\n",
       "    <tr>\n",
       "      <th>3</th>\n",
       "      <td>Alex</td>\n",
       "      <td>8.2</td>\n",
       "      <td>0.5</td>\n",
       "      <td>6'2\"</td>\n",
       "      <td>Right</td>\n",
       "    </tr>\n",
       "    <tr>\n",
       "      <th>4</th>\n",
       "      <td>Rebecca</td>\n",
       "      <td>12.3</td>\n",
       "      <td>17.0</td>\n",
       "      <td>7'</td>\n",
       "      <td>Right</td>\n",
       "    </tr>\n",
       "  </tbody>\n",
       "</table>\n",
       "</div>"
      ],
      "text/plain": [
       "      name  pointspergame  assistspergame  height handedness\n",
       "0      Jon           20.4             1.3    6'5\"      Right\n",
       "1      Rob           15.5             8.0  6'7.5\"       Left\n",
       "2   Sharon           30.1            11.2    6'3\"      Right\n",
       "3     Alex            8.2             0.5    6'2\"      Right\n",
       "4  Rebecca           12.3            17.0      7'      Right"
      ]
     },
     "execution_count": 6,
     "metadata": {},
     "output_type": "execute_result"
    }
   ],
   "source": [
    "bball3 = pd.merge(bball, bball2, how='inner')\n",
    "bball3.head()"
   ]
  },
  {
   "cell_type": "markdown",
   "metadata": {},
   "source": [
    "Wow! Look how little code it took to execute that. Now let's export this newly merged dataframe to a complete .csv file for safekeeping - then well load that and go from there:"
   ]
  },
  {
   "cell_type": "code",
   "execution_count": 8,
   "metadata": {},
   "outputs": [],
   "source": [
    "bball3.to_csv('basketballstats.csv', sep=',')"
   ]
  },
  {
   "cell_type": "code",
   "execution_count": 10,
   "metadata": {},
   "outputs": [
    {
     "data": {
      "text/html": [
       "<div>\n",
       "<style>\n",
       "    .dataframe thead tr:only-child th {\n",
       "        text-align: right;\n",
       "    }\n",
       "\n",
       "    .dataframe thead th {\n",
       "        text-align: left;\n",
       "    }\n",
       "\n",
       "    .dataframe tbody tr th {\n",
       "        vertical-align: top;\n",
       "    }\n",
       "</style>\n",
       "<table border=\"1\" class=\"dataframe\">\n",
       "  <thead>\n",
       "    <tr style=\"text-align: right;\">\n",
       "      <th></th>\n",
       "      <th>name</th>\n",
       "      <th>pointspergame</th>\n",
       "      <th>assistspergame</th>\n",
       "      <th>height</th>\n",
       "      <th>handedness</th>\n",
       "    </tr>\n",
       "  </thead>\n",
       "  <tbody>\n",
       "    <tr>\n",
       "      <th>0</th>\n",
       "      <td>Jon</td>\n",
       "      <td>20.4</td>\n",
       "      <td>1.3</td>\n",
       "      <td>6'5\"</td>\n",
       "      <td>Right</td>\n",
       "    </tr>\n",
       "    <tr>\n",
       "      <th>1</th>\n",
       "      <td>Rob</td>\n",
       "      <td>15.5</td>\n",
       "      <td>8.0</td>\n",
       "      <td>6'7.5\"</td>\n",
       "      <td>Left</td>\n",
       "    </tr>\n",
       "    <tr>\n",
       "      <th>2</th>\n",
       "      <td>Sharon</td>\n",
       "      <td>30.1</td>\n",
       "      <td>11.2</td>\n",
       "      <td>6'3\"</td>\n",
       "      <td>Right</td>\n",
       "    </tr>\n",
       "    <tr>\n",
       "      <th>3</th>\n",
       "      <td>Alex</td>\n",
       "      <td>8.2</td>\n",
       "      <td>0.5</td>\n",
       "      <td>6'2\"</td>\n",
       "      <td>Right</td>\n",
       "    </tr>\n",
       "    <tr>\n",
       "      <th>4</th>\n",
       "      <td>Rebecca</td>\n",
       "      <td>12.3</td>\n",
       "      <td>17.0</td>\n",
       "      <td>7'</td>\n",
       "      <td>Right</td>\n",
       "    </tr>\n",
       "  </tbody>\n",
       "</table>\n",
       "</div>"
      ],
      "text/plain": [
       "      name  pointspergame  assistspergame  height handedness\n",
       "0      Jon           20.4             1.3    6'5\"      Right\n",
       "1      Rob           15.5             8.0  6'7.5\"       Left\n",
       "2   Sharon           30.1            11.2    6'3\"      Right\n",
       "3     Alex            8.2             0.5    6'2\"      Right\n",
       "4  Rebecca           12.3            17.0      7'      Right"
      ]
     },
     "execution_count": 10,
     "metadata": {},
     "output_type": "execute_result"
    }
   ],
   "source": [
    "bball3.head()"
   ]
  },
  {
   "cell_type": "code",
   "execution_count": 11,
   "metadata": {},
   "outputs": [
    {
     "data": {
      "text/plain": [
       "Index(['name', 'pointspergame', 'assistspergame', 'height', 'handedness'], dtype='object')"
      ]
     },
     "execution_count": 11,
     "metadata": {},
     "output_type": "execute_result"
    }
   ],
   "source": [
    "bball3.columns"
   ]
  },
  {
   "cell_type": "markdown",
   "metadata": {},
   "source": [
    "Now we can create visualisations using basic data."
   ]
  },
  {
   "cell_type": "code",
   "execution_count": 23,
   "metadata": {},
   "outputs": [
    {
     "data": {
      "text/plain": [
       "<matplotlib.axes._subplots.AxesSubplot at 0x7f194d43de48>"
      ]
     },
     "execution_count": 23,
     "metadata": {},
     "output_type": "execute_result"
    },
    {
     "data": {
      "image/png": "[encoded data removed]",
      "text/plain": [
       "<matplotlib.figure.Figure at 0x7f194ce502b0>"
      ]
     },
     "metadata": {},
     "output_type": "display_data"
    }
   ],
   "source": [
    "%matplotlib inline\n",
    "\n",
    "bball3.boxplot(column='pointspergame', figsize=(5, 10))"
   ]
  },
  {
   "cell_type": "code",
   "execution_count": 25,
   "metadata": {},
   "outputs": [
    {
     "data": {
      "text/plain": [
       "array([[<matplotlib.axes._subplots.AxesSubplot object at 0x7f194d35eac8>]], dtype=object)"
      ]
     },
     "execution_count": 25,
     "metadata": {},
     "output_type": "execute_result"
    },
    {
     "data": {
      "image/png": "[encoded data removed]",
      "text/plain": [
       "<matplotlib.figure.Figure at 0x7f194d3ac160>"
      ]
     },
     "metadata": {},
     "output_type": "display_data"
    }
   ],
   "source": [
    "bball3.hist(column='pointspergame', figsize=(10,5))"
   ]
  },
  {
   "cell_type": "code",
   "execution_count": 21,
   "metadata": {},
   "outputs": [
    {
     "data": {
      "text/plain": [
       "count     8.000000\n",
       "mean     16.700000\n",
       "std       6.573105\n",
       "min       8.200000\n",
       "25%      12.825000\n",
       "50%      15.750000\n",
       "75%      18.675000\n",
       "max      30.100000\n",
       "Name: pointspergame, dtype: float64"
      ]
     },
     "execution_count": 21,
     "metadata": {},
     "output_type": "execute_result"
    }
   ],
   "source": [
    "bball3['pointspergame'].describe()"
   ]
  },
  {
   "cell_type": "markdown",
   "metadata": {},
   "source": [
    "Look at you Sharon!"
   ]
  },
  {
   "cell_type": "code",
   "execution_count": 26,
   "metadata": {},
   "outputs": [
    {
     "data": {
      "text/plain": [
       "<matplotlib.axes._subplots.AxesSubplot at 0x7f194d374438>"
      ]
     },
     "execution_count": 26,
     "metadata": {},
     "output_type": "execute_result"
    },
    {
     "data": {
      "image/png": "[encoded data removed]",
      "text/plain": [
       "<matplotlib.figure.Figure at 0x7f194d28b3c8>"
      ]
     },
     "metadata": {},
     "output_type": "display_data"
    }
   ],
   "source": [
    "bball3.boxplot(column='assistspergame', figsize=(5, 10))"
   ]
  },
  {
   "cell_type": "code",
   "execution_count": 29,
   "metadata": {},
   "outputs": [
    {
     "data": {
      "text/plain": [
       "array([[<matplotlib.axes._subplots.AxesSubplot object at 0x7f194d246668>]], dtype=object)"
      ]
     },
     "execution_count": 29,
     "metadata": {},
     "output_type": "execute_result"
    },
    {
     "data": {
      "image/png": "[encoded data removed]",
      "text/plain": [
       "<matplotlib.figure.Figure at 0x7f194d28b908>"
      ]
     },
     "metadata": {},
     "output_type": "display_data"
    }
   ],
   "source": [
    "bball3.hist(column='assistspergame', figsize=(10,5))"
   ]
  },
  {
   "cell_type": "code",
   "execution_count": 28,
   "metadata": {},
   "outputs": [
    {
     "data": {
      "text/plain": [
       "count     8.0000\n",
       "mean      6.4500\n",
       "std       5.7721\n",
       "min       0.5000\n",
       "25%       1.9000\n",
       "50%       5.5000\n",
       "75%       9.1750\n",
       "max      17.0000\n",
       "Name: assistspergame, dtype: float64"
      ]
     },
     "execution_count": 28,
     "metadata": {},
     "output_type": "execute_result"
    }
   ],
   "source": [
    "bball3['assistspergame'].describe()"
   ]
  },
  {
   "cell_type": "code",
   "execution_count": 46,
   "metadata": {},
   "outputs": [
    {
     "data": {
      "text/plain": [
       "<bound method NDFrame.head of       name  pointspergame  assistspergame  height handedness\n",
       "0      Jon           20.4             1.3    6'5\"      Right\n",
       "1      Rob           15.5             8.0  6'7.5\"       Left\n",
       "2   Sharon           30.1            11.2    6'3\"      Right\n",
       "3     Alex            8.2             0.5    6'2\"      Right\n",
       "4  Rebecca           12.3            17.0      7'      Right\n",
       "5   Ariane           18.1             3.0    5'8\"       Left\n",
       "6    Bryon           16.0             8.5      7'      Right\n",
       "7     Matt           13.0             2.1    5'5\"      Right>"
      ]
     },
     "execution_count": 46,
     "metadata": {},
     "output_type": "execute_result"
    }
   ],
   "source": [
    "bball3.head"
   ]
  },
  {
   "cell_type": "markdown",
   "metadata": {},
   "source": [
    "https://plot.ly/~bryanb0102/36 <- here is an interactive scatter plot."
   ]
  }
 ],
 "metadata": {
  "kernelspec": {
   "display_name": "Python 3",
   "language": "python",
   "name": "python3"
  },
  "language_info": {
   "codemirror_mode": {
    "name": "ipython",
    "version": 3
   },
   "file_extension": ".py",
   "mimetype": "text/x-python",
   "name": "python",
   "nbconvert_exporter": "python",
   "pygments_lexer": "ipython3",
   "version": "3.6.3"
  }
 },
 "nbformat": 4,
 "nbformat_minor": 2
}
