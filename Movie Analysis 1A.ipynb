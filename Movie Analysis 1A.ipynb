{
 "cells": [
  {
   "cell_type": "markdown",
   "metadata": {},
   "source": [
    "# Movie Data Analysis in Python 3 "
   ]
  },
  {
   "cell_type": "markdown",
   "metadata": {},
   "source": [
    "## Today, we will be examining .csv files from MovieLens. This will include exploration, cleaning, and visualisation of datasets."
   ]
  },
  {
   "cell_type": "markdown",
   "metadata": {},
   "source": [
    "#### Import Libraries"
   ]
  },
  {
   "cell_type": "code",
   "execution_count": 1,
   "metadata": {
    "collapsed": true
   },
   "outputs": [],
   "source": [
    "import pandas as pd"
   ]
  },
  {
   "cell_type": "markdown",
   "metadata": {},
   "source": [
    "#### Import MovieLens Library "
   ]
  },
  {
   "cell_type": "markdown",
   "metadata": {},
   "source": [
    "Examine the file names within the folder with the !ls command."
   ]
  },
  {
   "cell_type": "code",
   "execution_count": 2,
   "metadata": {},
   "outputs": [
    {
     "name": "stdout",
     "output_type": "stream",
     "text": [
      "genome-scores.csv  imdbpy-master  movies.csv   README.txt\r\n",
      "genome-tags.csv    links.csv\t  ratings.csv  tags.csv\r\n"
     ]
    }
   ],
   "source": [
    "!ls ./movielens/ml-latest/"
   ]
  },
  {
   "cell_type": "markdown",
   "metadata": {},
   "source": [
    "!cat command with -wc will explore the lengths of each .csv"
   ]
  },
  {
   "cell_type": "code",
   "execution_count": 4,
   "metadata": {},
   "outputs": [
    {
     "name": "stdout",
     "output_type": "stream",
     "text": [
      "45844\r\n"
     ]
    }
   ],
   "source": [
    "!cat ./movielens/ml-latest/movies.csv | wc -l"
   ]
  },
  {
   "cell_type": "code",
   "execution_count": 5,
   "metadata": {},
   "outputs": [
    {
     "name": "stdout",
     "output_type": "stream",
     "text": [
      "753171\r\n"
     ]
    }
   ],
   "source": [
    "!cat ./movielens/ml-latest/tags.csv | wc -l"
   ]
  },
  {
   "cell_type": "markdown",
   "metadata": {},
   "source": [
    "#### Read Dataset with pandas pd command and assign variable 'movies' to file."
   ]
  },
  {
   "cell_type": "code",
   "execution_count": 6,
   "metadata": {},
   "outputs": [
    {
     "name": "stdout",
     "output_type": "stream",
     "text": [
      "<class 'pandas.core.frame.DataFrame'>\n"
     ]
    },
    {
     "data": {
      "text/html": [
       "<div>\n",
       "<style>\n",
       "    .dataframe thead tr:only-child th {\n",
       "        text-align: right;\n",
       "    }\n",
       "\n",
       "    .dataframe thead th {\n",
       "        text-align: left;\n",
       "    }\n",
       "\n",
       "    .dataframe tbody tr th {\n",
       "        vertical-align: top;\n",
       "    }\n",
       "</style>\n",
       "<table border=\"1\" class=\"dataframe\">\n",
       "  <thead>\n",
       "    <tr style=\"text-align: right;\">\n",
       "      <th></th>\n",
       "      <th>movieId</th>\n",
       "      <th>title</th>\n",
       "      <th>genres</th>\n",
       "    </tr>\n",
       "  </thead>\n",
       "  <tbody>\n",
       "    <tr>\n",
       "      <th>0</th>\n",
       "      <td>1</td>\n",
       "      <td>Toy Story (1995)</td>\n",
       "      <td>Adventure|Animation|Children|Comedy|Fantasy</td>\n",
       "    </tr>\n",
       "    <tr>\n",
       "      <th>1</th>\n",
       "      <td>2</td>\n",
       "      <td>Jumanji (1995)</td>\n",
       "      <td>Adventure|Children|Fantasy</td>\n",
       "    </tr>\n",
       "    <tr>\n",
       "      <th>2</th>\n",
       "      <td>3</td>\n",
       "      <td>Grumpier Old Men (1995)</td>\n",
       "      <td>Comedy|Romance</td>\n",
       "    </tr>\n",
       "    <tr>\n",
       "      <th>3</th>\n",
       "      <td>4</td>\n",
       "      <td>Waiting to Exhale (1995)</td>\n",
       "      <td>Comedy|Drama|Romance</td>\n",
       "    </tr>\n",
       "    <tr>\n",
       "      <th>4</th>\n",
       "      <td>5</td>\n",
       "      <td>Father of the Bride Part II (1995)</td>\n",
       "      <td>Comedy</td>\n",
       "    </tr>\n",
       "  </tbody>\n",
       "</table>\n",
       "</div>"
      ],
      "text/plain": [
       "   movieId                               title  \\\n",
       "0        1                    Toy Story (1995)   \n",
       "1        2                      Jumanji (1995)   \n",
       "2        3             Grumpier Old Men (1995)   \n",
       "3        4            Waiting to Exhale (1995)   \n",
       "4        5  Father of the Bride Part II (1995)   \n",
       "\n",
       "                                        genres  \n",
       "0  Adventure|Animation|Children|Comedy|Fantasy  \n",
       "1                   Adventure|Children|Fantasy  \n",
       "2                               Comedy|Romance  \n",
       "3                         Comedy|Drama|Romance  \n",
       "4                                       Comedy  "
      ]
     },
     "execution_count": 6,
     "metadata": {},
     "output_type": "execute_result"
    }
   ],
   "source": [
    "#Sep indicates , as seperator value. \n",
    "movies = pd.read_csv('./movielens/ml-latest/movies.csv', sep=',')\n",
    "print(type(movies))\n",
    "movies.head()"
   ]
  },
  {
   "cell_type": "code",
   "execution_count": 7,
   "metadata": {},
   "outputs": [
    {
     "data": {
      "text/html": [
       "<div>\n",
       "<style>\n",
       "    .dataframe thead tr:only-child th {\n",
       "        text-align: right;\n",
       "    }\n",
       "\n",
       "    .dataframe thead th {\n",
       "        text-align: left;\n",
       "    }\n",
       "\n",
       "    .dataframe tbody tr th {\n",
       "        vertical-align: top;\n",
       "    }\n",
       "</style>\n",
       "<table border=\"1\" class=\"dataframe\">\n",
       "  <thead>\n",
       "    <tr style=\"text-align: right;\">\n",
       "      <th></th>\n",
       "      <th>userId</th>\n",
       "      <th>movieId</th>\n",
       "      <th>tag</th>\n",
       "      <th>timestamp</th>\n",
       "    </tr>\n",
       "  </thead>\n",
       "  <tbody>\n",
       "    <tr>\n",
       "      <th>0</th>\n",
       "      <td>1</td>\n",
       "      <td>318</td>\n",
       "      <td>narrated</td>\n",
       "      <td>1425942391</td>\n",
       "    </tr>\n",
       "    <tr>\n",
       "      <th>1</th>\n",
       "      <td>20</td>\n",
       "      <td>4306</td>\n",
       "      <td>Dreamworks</td>\n",
       "      <td>1459855607</td>\n",
       "    </tr>\n",
       "    <tr>\n",
       "      <th>2</th>\n",
       "      <td>20</td>\n",
       "      <td>89302</td>\n",
       "      <td>England</td>\n",
       "      <td>1400778834</td>\n",
       "    </tr>\n",
       "    <tr>\n",
       "      <th>3</th>\n",
       "      <td>20</td>\n",
       "      <td>89302</td>\n",
       "      <td>espionage</td>\n",
       "      <td>1400778836</td>\n",
       "    </tr>\n",
       "    <tr>\n",
       "      <th>4</th>\n",
       "      <td>20</td>\n",
       "      <td>89302</td>\n",
       "      <td>jazz</td>\n",
       "      <td>1400778841</td>\n",
       "    </tr>\n",
       "  </tbody>\n",
       "</table>\n",
       "</div>"
      ],
      "text/plain": [
       "   userId  movieId         tag   timestamp\n",
       "0       1      318    narrated  1425942391\n",
       "1      20     4306  Dreamworks  1459855607\n",
       "2      20    89302     England  1400778834\n",
       "3      20    89302   espionage  1400778836\n",
       "4      20    89302        jazz  1400778841"
      ]
     },
     "execution_count": 7,
     "metadata": {},
     "output_type": "execute_result"
    }
   ],
   "source": [
    "tags = pd.read_csv('./movielens/ml-latest/tags.csv', sep=',')\n",
    "tags.head()"
   ]
  },
  {
   "cell_type": "code",
   "execution_count": 8,
   "metadata": {},
   "outputs": [
    {
     "data": {
      "text/html": [
       "<div>\n",
       "<style>\n",
       "    .dataframe thead tr:only-child th {\n",
       "        text-align: right;\n",
       "    }\n",
       "\n",
       "    .dataframe thead th {\n",
       "        text-align: left;\n",
       "    }\n",
       "\n",
       "    .dataframe tbody tr th {\n",
       "        vertical-align: top;\n",
       "    }\n",
       "</style>\n",
       "<table border=\"1\" class=\"dataframe\">\n",
       "  <thead>\n",
       "    <tr style=\"text-align: right;\">\n",
       "      <th></th>\n",
       "      <th>userId</th>\n",
       "      <th>movieId</th>\n",
       "      <th>rating</th>\n",
       "      <th>timestamp</th>\n",
       "    </tr>\n",
       "  </thead>\n",
       "  <tbody>\n",
       "    <tr>\n",
       "      <th>0</th>\n",
       "      <td>1</td>\n",
       "      <td>110</td>\n",
       "      <td>1.0</td>\n",
       "      <td>1425941529</td>\n",
       "    </tr>\n",
       "    <tr>\n",
       "      <th>1</th>\n",
       "      <td>1</td>\n",
       "      <td>147</td>\n",
       "      <td>4.5</td>\n",
       "      <td>1425942435</td>\n",
       "    </tr>\n",
       "    <tr>\n",
       "      <th>2</th>\n",
       "      <td>1</td>\n",
       "      <td>858</td>\n",
       "      <td>5.0</td>\n",
       "      <td>1425941523</td>\n",
       "    </tr>\n",
       "    <tr>\n",
       "      <th>3</th>\n",
       "      <td>1</td>\n",
       "      <td>1221</td>\n",
       "      <td>5.0</td>\n",
       "      <td>1425941546</td>\n",
       "    </tr>\n",
       "    <tr>\n",
       "      <th>4</th>\n",
       "      <td>1</td>\n",
       "      <td>1246</td>\n",
       "      <td>5.0</td>\n",
       "      <td>1425941556</td>\n",
       "    </tr>\n",
       "  </tbody>\n",
       "</table>\n",
       "</div>"
      ],
      "text/plain": [
       "   userId  movieId  rating   timestamp\n",
       "0       1      110     1.0  1425941529\n",
       "1       1      147     4.5  1425942435\n",
       "2       1      858     5.0  1425941523\n",
       "3       1     1221     5.0  1425941546\n",
       "4       1     1246     5.0  1425941556"
      ]
     },
     "execution_count": 8,
     "metadata": {},
     "output_type": "execute_result"
    }
   ],
   "source": [
    "ratings = pd.read_csv('./movielens/ml-latest/ratings.csv', sep=',')\n",
    "ratings.head()"
   ]
  },
  {
   "cell_type": "markdown",
   "metadata": {},
   "source": [
    "The column 'timestamp' in the ratings and tags files aren't really important to us, so we will delete them."
   ]
  },
  {
   "cell_type": "code",
   "execution_count": 9,
   "metadata": {
    "collapsed": true
   },
   "outputs": [],
   "source": [
    "del ratings['timestamp']\n",
    "del tags['timestamp']"
   ]
  },
  {
   "cell_type": "markdown",
   "metadata": {},
   "source": [
    "This is verified by calling on the Index of each column. "
   ]
  },
  {
   "cell_type": "code",
   "execution_count": 10,
   "metadata": {},
   "outputs": [
    {
     "data": {
      "text/plain": [
       "Index(['userId', 'movieId', 'tag'], dtype='object')"
      ]
     },
     "execution_count": 10,
     "metadata": {},
     "output_type": "execute_result"
    }
   ],
   "source": [
    "tags.columns"
   ]
  },
  {
   "cell_type": "code",
   "execution_count": 11,
   "metadata": {},
   "outputs": [
    {
     "data": {
      "text/plain": [
       "Index(['userId', 'movieId', 'rating'], dtype='object')"
      ]
     },
     "execution_count": 11,
     "metadata": {},
     "output_type": "execute_result"
    }
   ],
   "source": [
    "ratings.columns"
   ]
  },
  {
   "cell_type": "code",
   "execution_count": 13,
   "metadata": {},
   "outputs": [
    {
     "data": {
      "text/plain": [
       "Index(['movieId', 'title', 'genres'], dtype='object')"
      ]
     },
     "execution_count": 13,
     "metadata": {},
     "output_type": "execute_result"
    }
   ],
   "source": [
    "movies.columns"
   ]
  },
  {
   "cell_type": "markdown",
   "metadata": {},
   "source": [
    "We can use easy functions such as 'describe' to tell us more about out datasets. "
   ]
  },
  {
   "cell_type": "code",
   "execution_count": 14,
   "metadata": {},
   "outputs": [
    {
     "data": {
      "text/plain": [
       "count    2.602429e+07\n",
       "mean     3.528090e+00\n",
       "std      1.065443e+00\n",
       "min      5.000000e-01\n",
       "25%      3.000000e+00\n",
       "50%      3.500000e+00\n",
       "75%      4.000000e+00\n",
       "max      5.000000e+00\n",
       "Name: rating, dtype: float64"
      ]
     },
     "execution_count": 14,
     "metadata": {},
     "output_type": "execute_result"
    }
   ],
   "source": [
    "ratings['rating'].describe()"
   ]
  },
  {
   "cell_type": "markdown",
   "metadata": {},
   "source": [
    "Here we can see some useful numbers, like the average movie rating being 3.53. We can also easily look for coorelations."
   ]
  },
  {
   "cell_type": "code",
   "execution_count": 15,
   "metadata": {},
   "outputs": [
    {
     "data": {
      "text/html": [
       "<div>\n",
       "<style>\n",
       "    .dataframe thead tr:only-child th {\n",
       "        text-align: right;\n",
       "    }\n",
       "\n",
       "    .dataframe thead th {\n",
       "        text-align: left;\n",
       "    }\n",
       "\n",
       "    .dataframe tbody tr th {\n",
       "        vertical-align: top;\n",
       "    }\n",
       "</style>\n",
       "<table border=\"1\" class=\"dataframe\">\n",
       "  <thead>\n",
       "    <tr style=\"text-align: right;\">\n",
       "      <th></th>\n",
       "      <th>userId</th>\n",
       "      <th>movieId</th>\n",
       "      <th>rating</th>\n",
       "    </tr>\n",
       "  </thead>\n",
       "  <tbody>\n",
       "    <tr>\n",
       "      <th>userId</th>\n",
       "      <td>1.000000</td>\n",
       "      <td>-0.001410</td>\n",
       "      <td>-0.000159</td>\n",
       "    </tr>\n",
       "    <tr>\n",
       "      <th>movieId</th>\n",
       "      <td>-0.001410</td>\n",
       "      <td>1.000000</td>\n",
       "      <td>-0.002841</td>\n",
       "    </tr>\n",
       "    <tr>\n",
       "      <th>rating</th>\n",
       "      <td>-0.000159</td>\n",
       "      <td>-0.002841</td>\n",
       "      <td>1.000000</td>\n",
       "    </tr>\n",
       "  </tbody>\n",
       "</table>\n",
       "</div>"
      ],
      "text/plain": [
       "           userId   movieId    rating\n",
       "userId   1.000000 -0.001410 -0.000159\n",
       "movieId -0.001410  1.000000 -0.002841\n",
       "rating  -0.000159 -0.002841  1.000000"
      ]
     },
     "execution_count": 15,
     "metadata": {},
     "output_type": "execute_result"
    }
   ],
   "source": [
    "ratings.corr()"
   ]
  },
  {
   "cell_type": "markdown",
   "metadata": {},
   "source": [
    "### Now we will look to clean our data"
   ]
  },
  {
   "cell_type": "markdown",
   "metadata": {},
   "source": [
    "This includes looking at the datasets for anything that sticks out. Getting rid of duplicates, or null values, for example."
   ]
  },
  {
   "cell_type": "code",
   "execution_count": 16,
   "metadata": {},
   "outputs": [
    {
     "data": {
      "text/plain": [
       "(45843, 3)"
      ]
     },
     "execution_count": 16,
     "metadata": {},
     "output_type": "execute_result"
    }
   ],
   "source": [
    "movies.shape"
   ]
  },
  {
   "cell_type": "markdown",
   "metadata": {},
   "source": [
    "We can look to see if there are any null entries by running 'isnull'."
   ]
  },
  {
   "cell_type": "code",
   "execution_count": 17,
   "metadata": {},
   "outputs": [
    {
     "data": {
      "text/plain": [
       "movieId    False\n",
       "title      False\n",
       "genres     False\n",
       "dtype: bool"
      ]
     },
     "execution_count": 17,
     "metadata": {},
     "output_type": "execute_result"
    }
   ],
   "source": [
    "movies.isnull().any()"
   ]
  },
  {
   "cell_type": "markdown",
   "metadata": {},
   "source": [
    "Now we will move on to our tags file:"
   ]
  },
  {
   "cell_type": "code",
   "execution_count": 18,
   "metadata": {},
   "outputs": [
    {
     "data": {
      "text/plain": [
       "(753170, 3)"
      ]
     },
     "execution_count": 18,
     "metadata": {},
     "output_type": "execute_result"
    }
   ],
   "source": [
    "tags.shape"
   ]
  },
  {
   "cell_type": "code",
   "execution_count": 19,
   "metadata": {},
   "outputs": [
    {
     "data": {
      "text/plain": [
       "userId     False\n",
       "movieId    False\n",
       "tag         True\n",
       "dtype: bool"
      ]
     },
     "execution_count": 19,
     "metadata": {},
     "output_type": "execute_result"
    }
   ],
   "source": [
    "tags.isnull().any()"
   ]
  },
  {
   "cell_type": "markdown",
   "metadata": {},
   "source": [
    "We can easily take care of this by running the 'dropna' function."
   ]
  },
  {
   "cell_type": "code",
   "execution_count": 21,
   "metadata": {
    "collapsed": true
   },
   "outputs": [],
   "source": [
    "tags = tags.dropna()"
   ]
  },
  {
   "cell_type": "code",
   "execution_count": 22,
   "metadata": {},
   "outputs": [
    {
     "data": {
      "text/plain": [
       "(753154, 3)"
      ]
     },
     "execution_count": 22,
     "metadata": {},
     "output_type": "execute_result"
    }
   ],
   "source": [
    "tags.shape"
   ]
  },
  {
   "cell_type": "code",
   "execution_count": 23,
   "metadata": {},
   "outputs": [
    {
     "data": {
      "text/plain": [
       "16"
      ]
     },
     "execution_count": 23,
     "metadata": {},
     "output_type": "execute_result"
    }
   ],
   "source": [
    "753170 - 753154 "
   ]
  },
  {
   "cell_type": "markdown",
   "metadata": {},
   "source": [
    "We can run the function 'isnull' again to confirm that the 16 null tags were indeed dropped."
   ]
  },
  {
   "cell_type": "code",
   "execution_count": 24,
   "metadata": {},
   "outputs": [
    {
     "data": {
      "text/plain": [
       "userId     False\n",
       "movieId    False\n",
       "tag        False\n",
       "dtype: bool"
      ]
     },
     "execution_count": 24,
     "metadata": {},
     "output_type": "execute_result"
    }
   ],
   "source": [
    "tags.isnull().any()"
   ]
  },
  {
   "cell_type": "markdown",
   "metadata": {},
   "source": [
    "## Next we will explore and merge our data."
   ]
  },
  {
   "cell_type": "code",
   "execution_count": 25,
   "metadata": {},
   "outputs": [
    {
     "data": {
      "text/html": [
       "<div>\n",
       "<style>\n",
       "    .dataframe thead tr:only-child th {\n",
       "        text-align: right;\n",
       "    }\n",
       "\n",
       "    .dataframe thead th {\n",
       "        text-align: left;\n",
       "    }\n",
       "\n",
       "    .dataframe tbody tr th {\n",
       "        vertical-align: top;\n",
       "    }\n",
       "</style>\n",
       "<table border=\"1\" class=\"dataframe\">\n",
       "  <thead>\n",
       "    <tr style=\"text-align: right;\">\n",
       "      <th></th>\n",
       "      <th>userId</th>\n",
       "      <th>movieId</th>\n",
       "      <th>tag</th>\n",
       "    </tr>\n",
       "  </thead>\n",
       "  <tbody>\n",
       "    <tr>\n",
       "      <th>0</th>\n",
       "      <td>1</td>\n",
       "      <td>318</td>\n",
       "      <td>narrated</td>\n",
       "    </tr>\n",
       "    <tr>\n",
       "      <th>1</th>\n",
       "      <td>20</td>\n",
       "      <td>4306</td>\n",
       "      <td>Dreamworks</td>\n",
       "    </tr>\n",
       "    <tr>\n",
       "      <th>2</th>\n",
       "      <td>20</td>\n",
       "      <td>89302</td>\n",
       "      <td>England</td>\n",
       "    </tr>\n",
       "    <tr>\n",
       "      <th>3</th>\n",
       "      <td>20</td>\n",
       "      <td>89302</td>\n",
       "      <td>espionage</td>\n",
       "    </tr>\n",
       "    <tr>\n",
       "      <th>4</th>\n",
       "      <td>20</td>\n",
       "      <td>89302</td>\n",
       "      <td>jazz</td>\n",
       "    </tr>\n",
       "  </tbody>\n",
       "</table>\n",
       "</div>"
      ],
      "text/plain": [
       "   userId  movieId         tag\n",
       "0       1      318    narrated\n",
       "1      20     4306  Dreamworks\n",
       "2      20    89302     England\n",
       "3      20    89302   espionage\n",
       "4      20    89302        jazz"
      ]
     },
     "execution_count": 25,
     "metadata": {},
     "output_type": "execute_result"
    }
   ],
   "source": [
    "tags.head()"
   ]
  },
  {
   "cell_type": "code",
   "execution_count": 26,
   "metadata": {},
   "outputs": [
    {
     "data": {
      "text/plain": [
       "<pandas.core.groupby.DataFrameGroupBy object at 0x7f0c117b4a58>"
      ]
     },
     "execution_count": 26,
     "metadata": {},
     "output_type": "execute_result"
    }
   ],
   "source": [
    "tags.groupby('movieId')"
   ]
  },
  {
   "cell_type": "code",
   "execution_count": 27,
   "metadata": {},
   "outputs": [
    {
     "data": {
      "text/html": [
       "<div>\n",
       "<style>\n",
       "    .dataframe thead tr:only-child th {\n",
       "        text-align: right;\n",
       "    }\n",
       "\n",
       "    .dataframe thead th {\n",
       "        text-align: left;\n",
       "    }\n",
       "\n",
       "    .dataframe tbody tr th {\n",
       "        vertical-align: top;\n",
       "    }\n",
       "</style>\n",
       "<table border=\"1\" class=\"dataframe\">\n",
       "  <thead>\n",
       "    <tr style=\"text-align: right;\">\n",
       "      <th></th>\n",
       "      <th>userId</th>\n",
       "      <th>movieId</th>\n",
       "      <th>tag</th>\n",
       "    </tr>\n",
       "  </thead>\n",
       "  <tbody>\n",
       "    <tr>\n",
       "      <th>0</th>\n",
       "      <td>1</td>\n",
       "      <td>318</td>\n",
       "      <td>narrated</td>\n",
       "    </tr>\n",
       "    <tr>\n",
       "      <th>1</th>\n",
       "      <td>20</td>\n",
       "      <td>4306</td>\n",
       "      <td>Dreamworks</td>\n",
       "    </tr>\n",
       "    <tr>\n",
       "      <th>2</th>\n",
       "      <td>20</td>\n",
       "      <td>89302</td>\n",
       "      <td>England</td>\n",
       "    </tr>\n",
       "    <tr>\n",
       "      <th>3</th>\n",
       "      <td>20</td>\n",
       "      <td>89302</td>\n",
       "      <td>espionage</td>\n",
       "    </tr>\n",
       "    <tr>\n",
       "      <th>4</th>\n",
       "      <td>20</td>\n",
       "      <td>89302</td>\n",
       "      <td>jazz</td>\n",
       "    </tr>\n",
       "  </tbody>\n",
       "</table>\n",
       "</div>"
      ],
      "text/plain": [
       "   userId  movieId         tag\n",
       "0       1      318    narrated\n",
       "1      20     4306  Dreamworks\n",
       "2      20    89302     England\n",
       "3      20    89302   espionage\n",
       "4      20    89302        jazz"
      ]
     },
     "execution_count": 27,
     "metadata": {},
     "output_type": "execute_result"
    }
   ],
   "source": [
    "tags.head()"
   ]
  },
  {
   "cell_type": "code",
   "execution_count": 28,
   "metadata": {},
   "outputs": [
    {
     "data": {
      "text/html": [
       "<div>\n",
       "<style>\n",
       "    .dataframe thead tr:only-child th {\n",
       "        text-align: right;\n",
       "    }\n",
       "\n",
       "    .dataframe thead th {\n",
       "        text-align: left;\n",
       "    }\n",
       "\n",
       "    .dataframe tbody tr th {\n",
       "        vertical-align: top;\n",
       "    }\n",
       "</style>\n",
       "<table border=\"1\" class=\"dataframe\">\n",
       "  <thead>\n",
       "    <tr style=\"text-align: right;\">\n",
       "      <th></th>\n",
       "      <th>title</th>\n",
       "      <th>genres</th>\n",
       "    </tr>\n",
       "  </thead>\n",
       "  <tbody>\n",
       "    <tr>\n",
       "      <th>0</th>\n",
       "      <td>Toy Story (1995)</td>\n",
       "      <td>Adventure|Animation|Children|Comedy|Fantasy</td>\n",
       "    </tr>\n",
       "    <tr>\n",
       "      <th>1</th>\n",
       "      <td>Jumanji (1995)</td>\n",
       "      <td>Adventure|Children|Fantasy</td>\n",
       "    </tr>\n",
       "    <tr>\n",
       "      <th>2</th>\n",
       "      <td>Grumpier Old Men (1995)</td>\n",
       "      <td>Comedy|Romance</td>\n",
       "    </tr>\n",
       "    <tr>\n",
       "      <th>3</th>\n",
       "      <td>Waiting to Exhale (1995)</td>\n",
       "      <td>Comedy|Drama|Romance</td>\n",
       "    </tr>\n",
       "    <tr>\n",
       "      <th>4</th>\n",
       "      <td>Father of the Bride Part II (1995)</td>\n",
       "      <td>Comedy</td>\n",
       "    </tr>\n",
       "  </tbody>\n",
       "</table>\n",
       "</div>"
      ],
      "text/plain": [
       "                                title  \\\n",
       "0                    Toy Story (1995)   \n",
       "1                      Jumanji (1995)   \n",
       "2             Grumpier Old Men (1995)   \n",
       "3            Waiting to Exhale (1995)   \n",
       "4  Father of the Bride Part II (1995)   \n",
       "\n",
       "                                        genres  \n",
       "0  Adventure|Animation|Children|Comedy|Fantasy  \n",
       "1                   Adventure|Children|Fantasy  \n",
       "2                               Comedy|Romance  \n",
       "3                         Comedy|Drama|Romance  \n",
       "4                                       Comedy  "
      ]
     },
     "execution_count": 28,
     "metadata": {},
     "output_type": "execute_result"
    }
   ],
   "source": [
    "movies[['title','genres']].head()"
   ]
  },
  {
   "cell_type": "code",
   "execution_count": 29,
   "metadata": {},
   "outputs": [
    {
     "data": {
      "text/html": [
       "<div>\n",
       "<style>\n",
       "    .dataframe thead tr:only-child th {\n",
       "        text-align: right;\n",
       "    }\n",
       "\n",
       "    .dataframe thead th {\n",
       "        text-align: left;\n",
       "    }\n",
       "\n",
       "    .dataframe tbody tr th {\n",
       "        vertical-align: top;\n",
       "    }\n",
       "</style>\n",
       "<table border=\"1\" class=\"dataframe\">\n",
       "  <thead>\n",
       "    <tr style=\"text-align: right;\">\n",
       "      <th></th>\n",
       "      <th>movieId</th>\n",
       "    </tr>\n",
       "    <tr>\n",
       "      <th>rating</th>\n",
       "      <th></th>\n",
       "    </tr>\n",
       "  </thead>\n",
       "  <tbody>\n",
       "    <tr>\n",
       "      <th>0.5</th>\n",
       "      <td>404897</td>\n",
       "    </tr>\n",
       "    <tr>\n",
       "      <th>1.0</th>\n",
       "      <td>843310</td>\n",
       "    </tr>\n",
       "    <tr>\n",
       "      <th>1.5</th>\n",
       "      <td>403607</td>\n",
       "    </tr>\n",
       "    <tr>\n",
       "      <th>2.0</th>\n",
       "      <td>1762440</td>\n",
       "    </tr>\n",
       "    <tr>\n",
       "      <th>2.5</th>\n",
       "      <td>1255358</td>\n",
       "    </tr>\n",
       "    <tr>\n",
       "      <th>3.0</th>\n",
       "      <td>5256722</td>\n",
       "    </tr>\n",
       "    <tr>\n",
       "      <th>3.5</th>\n",
       "      <td>3116213</td>\n",
       "    </tr>\n",
       "    <tr>\n",
       "      <th>4.0</th>\n",
       "      <td>6998802</td>\n",
       "    </tr>\n",
       "    <tr>\n",
       "      <th>4.5</th>\n",
       "      <td>2170441</td>\n",
       "    </tr>\n",
       "    <tr>\n",
       "      <th>5.0</th>\n",
       "      <td>3812499</td>\n",
       "    </tr>\n",
       "  </tbody>\n",
       "</table>\n",
       "</div>"
      ],
      "text/plain": [
       "        movieId\n",
       "rating         \n",
       "0.5      404897\n",
       "1.0      843310\n",
       "1.5      403607\n",
       "2.0     1762440\n",
       "2.5     1255358\n",
       "3.0     5256722\n",
       "3.5     3116213\n",
       "4.0     6998802\n",
       "4.5     2170441\n",
       "5.0     3812499"
      ]
     },
     "execution_count": 29,
     "metadata": {},
     "output_type": "execute_result"
    }
   ],
   "source": [
    "ratings_count = ratings[['movieId','rating']].groupby('rating').count()\n",
    "ratings_count"
   ]
  },
  {
   "cell_type": "code",
   "execution_count": 30,
   "metadata": {},
   "outputs": [
    {
     "data": {
      "text/html": [
       "<div>\n",
       "<style>\n",
       "    .dataframe thead tr:only-child th {\n",
       "        text-align: right;\n",
       "    }\n",
       "\n",
       "    .dataframe thead th {\n",
       "        text-align: left;\n",
       "    }\n",
       "\n",
       "    .dataframe tbody tr th {\n",
       "        vertical-align: top;\n",
       "    }\n",
       "</style>\n",
       "<table border=\"1\" class=\"dataframe\">\n",
       "  <thead>\n",
       "    <tr style=\"text-align: right;\">\n",
       "      <th></th>\n",
       "      <th>rating</th>\n",
       "    </tr>\n",
       "    <tr>\n",
       "      <th>movieId</th>\n",
       "      <th></th>\n",
       "    </tr>\n",
       "  </thead>\n",
       "  <tbody>\n",
       "    <tr>\n",
       "      <th>176267</th>\n",
       "      <td>4.0</td>\n",
       "    </tr>\n",
       "    <tr>\n",
       "      <th>176269</th>\n",
       "      <td>3.5</td>\n",
       "    </tr>\n",
       "    <tr>\n",
       "      <th>176271</th>\n",
       "      <td>5.0</td>\n",
       "    </tr>\n",
       "    <tr>\n",
       "      <th>176273</th>\n",
       "      <td>1.0</td>\n",
       "    </tr>\n",
       "    <tr>\n",
       "      <th>176275</th>\n",
       "      <td>3.0</td>\n",
       "    </tr>\n",
       "  </tbody>\n",
       "</table>\n",
       "</div>"
      ],
      "text/plain": [
       "         rating\n",
       "movieId        \n",
       "176267      4.0\n",
       "176269      3.5\n",
       "176271      5.0\n",
       "176273      1.0\n",
       "176275      3.0"
      ]
     },
     "execution_count": 30,
     "metadata": {},
     "output_type": "execute_result"
    }
   ],
   "source": [
    "average_rating = ratings[['movieId','rating']].groupby('movieId').mean()\n",
    "average_rating.tail()"
   ]
  },
  {
   "cell_type": "code",
   "execution_count": 31,
   "metadata": {},
   "outputs": [
    {
     "data": {
      "text/html": [
       "<div>\n",
       "<style>\n",
       "    .dataframe thead tr:only-child th {\n",
       "        text-align: right;\n",
       "    }\n",
       "\n",
       "    .dataframe thead th {\n",
       "        text-align: left;\n",
       "    }\n",
       "\n",
       "    .dataframe tbody tr th {\n",
       "        vertical-align: top;\n",
       "    }\n",
       "</style>\n",
       "<table border=\"1\" class=\"dataframe\">\n",
       "  <thead>\n",
       "    <tr style=\"text-align: right;\">\n",
       "      <th></th>\n",
       "      <th>rating</th>\n",
       "    </tr>\n",
       "    <tr>\n",
       "      <th>movieId</th>\n",
       "      <th></th>\n",
       "    </tr>\n",
       "  </thead>\n",
       "  <tbody>\n",
       "    <tr>\n",
       "      <th>1</th>\n",
       "      <td>66008</td>\n",
       "    </tr>\n",
       "    <tr>\n",
       "      <th>2</th>\n",
       "      <td>26060</td>\n",
       "    </tr>\n",
       "    <tr>\n",
       "      <th>3</th>\n",
       "      <td>15497</td>\n",
       "    </tr>\n",
       "    <tr>\n",
       "      <th>4</th>\n",
       "      <td>2981</td>\n",
       "    </tr>\n",
       "    <tr>\n",
       "      <th>5</th>\n",
       "      <td>15258</td>\n",
       "    </tr>\n",
       "  </tbody>\n",
       "</table>\n",
       "</div>"
      ],
      "text/plain": [
       "         rating\n",
       "movieId        \n",
       "1         66008\n",
       "2         26060\n",
       "3         15497\n",
       "4          2981\n",
       "5         15258"
      ]
     },
     "execution_count": 31,
     "metadata": {},
     "output_type": "execute_result"
    }
   ],
   "source": [
    "movie_count = ratings[['movieId','rating']].groupby('movieId').count()\n",
    "movie_count.head()"
   ]
  },
  {
   "cell_type": "code",
   "execution_count": 32,
   "metadata": {},
   "outputs": [
    {
     "data": {
      "text/html": [
       "<div>\n",
       "<style>\n",
       "    .dataframe thead tr:only-child th {\n",
       "        text-align: right;\n",
       "    }\n",
       "\n",
       "    .dataframe thead th {\n",
       "        text-align: left;\n",
       "    }\n",
       "\n",
       "    .dataframe tbody tr th {\n",
       "        vertical-align: top;\n",
       "    }\n",
       "</style>\n",
       "<table border=\"1\" class=\"dataframe\">\n",
       "  <thead>\n",
       "    <tr style=\"text-align: right;\">\n",
       "      <th></th>\n",
       "      <th>rating</th>\n",
       "    </tr>\n",
       "    <tr>\n",
       "      <th>movieId</th>\n",
       "      <th></th>\n",
       "    </tr>\n",
       "  </thead>\n",
       "  <tbody>\n",
       "    <tr>\n",
       "      <th>176267</th>\n",
       "      <td>1</td>\n",
       "    </tr>\n",
       "    <tr>\n",
       "      <th>176269</th>\n",
       "      <td>1</td>\n",
       "    </tr>\n",
       "    <tr>\n",
       "      <th>176271</th>\n",
       "      <td>1</td>\n",
       "    </tr>\n",
       "    <tr>\n",
       "      <th>176273</th>\n",
       "      <td>1</td>\n",
       "    </tr>\n",
       "    <tr>\n",
       "      <th>176275</th>\n",
       "      <td>1</td>\n",
       "    </tr>\n",
       "  </tbody>\n",
       "</table>\n",
       "</div>"
      ],
      "text/plain": [
       "         rating\n",
       "movieId        \n",
       "176267        1\n",
       "176269        1\n",
       "176271        1\n",
       "176273        1\n",
       "176275        1"
      ]
     },
     "execution_count": 32,
     "metadata": {},
     "output_type": "execute_result"
    }
   ],
   "source": [
    "movie_count = ratings[['movieId','rating']].groupby('movieId').count()\n",
    "movie_count.tail()"
   ]
  },
  {
   "cell_type": "code",
   "execution_count": 33,
   "metadata": {},
   "outputs": [
    {
     "data": {
      "text/html": [
       "<div>\n",
       "<style>\n",
       "    .dataframe thead tr:only-child th {\n",
       "        text-align: right;\n",
       "    }\n",
       "\n",
       "    .dataframe thead th {\n",
       "        text-align: left;\n",
       "    }\n",
       "\n",
       "    .dataframe tbody tr th {\n",
       "        vertical-align: top;\n",
       "    }\n",
       "</style>\n",
       "<table border=\"1\" class=\"dataframe\">\n",
       "  <thead>\n",
       "    <tr style=\"text-align: right;\">\n",
       "      <th></th>\n",
       "      <th>userId</th>\n",
       "      <th>movieId</th>\n",
       "      <th>rating</th>\n",
       "    </tr>\n",
       "  </thead>\n",
       "  <tbody>\n",
       "    <tr>\n",
       "      <th>0</th>\n",
       "      <td>1</td>\n",
       "      <td>110</td>\n",
       "      <td>1.0</td>\n",
       "    </tr>\n",
       "    <tr>\n",
       "      <th>1</th>\n",
       "      <td>1</td>\n",
       "      <td>147</td>\n",
       "      <td>4.5</td>\n",
       "    </tr>\n",
       "    <tr>\n",
       "      <th>2</th>\n",
       "      <td>1</td>\n",
       "      <td>858</td>\n",
       "      <td>5.0</td>\n",
       "    </tr>\n",
       "    <tr>\n",
       "      <th>3</th>\n",
       "      <td>1</td>\n",
       "      <td>1221</td>\n",
       "      <td>5.0</td>\n",
       "    </tr>\n",
       "    <tr>\n",
       "      <th>4</th>\n",
       "      <td>1</td>\n",
       "      <td>1246</td>\n",
       "      <td>5.0</td>\n",
       "    </tr>\n",
       "  </tbody>\n",
       "</table>\n",
       "</div>"
      ],
      "text/plain": [
       "   userId  movieId  rating\n",
       "0       1      110     1.0\n",
       "1       1      147     4.5\n",
       "2       1      858     5.0\n",
       "3       1     1221     5.0\n",
       "4       1     1246     5.0"
      ]
     },
     "execution_count": 33,
     "metadata": {},
     "output_type": "execute_result"
    }
   ],
   "source": [
    "ratings.head()"
   ]
  },
  {
   "cell_type": "code",
   "execution_count": 34,
   "metadata": {
    "collapsed": true
   },
   "outputs": [],
   "source": [
    "del ratings['userId']"
   ]
  },
  {
   "cell_type": "code",
   "execution_count": 35,
   "metadata": {},
   "outputs": [
    {
     "data": {
      "text/html": [
       "<div>\n",
       "<style>\n",
       "    .dataframe thead tr:only-child th {\n",
       "        text-align: right;\n",
       "    }\n",
       "\n",
       "    .dataframe thead th {\n",
       "        text-align: left;\n",
       "    }\n",
       "\n",
       "    .dataframe tbody tr th {\n",
       "        vertical-align: top;\n",
       "    }\n",
       "</style>\n",
       "<table border=\"1\" class=\"dataframe\">\n",
       "  <thead>\n",
       "    <tr style=\"text-align: right;\">\n",
       "      <th></th>\n",
       "      <th>movieId</th>\n",
       "      <th>rating</th>\n",
       "    </tr>\n",
       "  </thead>\n",
       "  <tbody>\n",
       "    <tr>\n",
       "      <th>0</th>\n",
       "      <td>110</td>\n",
       "      <td>1.0</td>\n",
       "    </tr>\n",
       "    <tr>\n",
       "      <th>1</th>\n",
       "      <td>147</td>\n",
       "      <td>4.5</td>\n",
       "    </tr>\n",
       "    <tr>\n",
       "      <th>2</th>\n",
       "      <td>858</td>\n",
       "      <td>5.0</td>\n",
       "    </tr>\n",
       "    <tr>\n",
       "      <th>3</th>\n",
       "      <td>1221</td>\n",
       "      <td>5.0</td>\n",
       "    </tr>\n",
       "    <tr>\n",
       "      <th>4</th>\n",
       "      <td>1246</td>\n",
       "      <td>5.0</td>\n",
       "    </tr>\n",
       "  </tbody>\n",
       "</table>\n",
       "</div>"
      ],
      "text/plain": [
       "   movieId  rating\n",
       "0      110     1.0\n",
       "1      147     4.5\n",
       "2      858     5.0\n",
       "3     1221     5.0\n",
       "4     1246     5.0"
      ]
     },
     "execution_count": 35,
     "metadata": {},
     "output_type": "execute_result"
    }
   ],
   "source": [
    "ratings.head()"
   ]
  },
  {
   "cell_type": "code",
   "execution_count": 36,
   "metadata": {},
   "outputs": [
    {
     "data": {
      "text/html": [
       "<div>\n",
       "<style>\n",
       "    .dataframe thead tr:only-child th {\n",
       "        text-align: right;\n",
       "    }\n",
       "\n",
       "    .dataframe thead th {\n",
       "        text-align: left;\n",
       "    }\n",
       "\n",
       "    .dataframe tbody tr th {\n",
       "        vertical-align: top;\n",
       "    }\n",
       "</style>\n",
       "<table border=\"1\" class=\"dataframe\">\n",
       "  <thead>\n",
       "    <tr style=\"text-align: right;\">\n",
       "      <th></th>\n",
       "      <th>movieId</th>\n",
       "      <th>title</th>\n",
       "      <th>genres</th>\n",
       "      <th>userId</th>\n",
       "      <th>tag</th>\n",
       "    </tr>\n",
       "  </thead>\n",
       "  <tbody>\n",
       "    <tr>\n",
       "      <th>0</th>\n",
       "      <td>1</td>\n",
       "      <td>Toy Story (1995)</td>\n",
       "      <td>Adventure|Animation|Children|Comedy|Fantasy</td>\n",
       "      <td>1250</td>\n",
       "      <td>Pixar</td>\n",
       "    </tr>\n",
       "    <tr>\n",
       "      <th>1</th>\n",
       "      <td>1</td>\n",
       "      <td>Toy Story (1995)</td>\n",
       "      <td>Adventure|Animation|Children|Comedy|Fantasy</td>\n",
       "      <td>1250</td>\n",
       "      <td>time travel</td>\n",
       "    </tr>\n",
       "    <tr>\n",
       "      <th>2</th>\n",
       "      <td>1</td>\n",
       "      <td>Toy Story (1995)</td>\n",
       "      <td>Adventure|Animation|Children|Comedy|Fantasy</td>\n",
       "      <td>1652</td>\n",
       "      <td>computer animation</td>\n",
       "    </tr>\n",
       "    <tr>\n",
       "      <th>3</th>\n",
       "      <td>1</td>\n",
       "      <td>Toy Story (1995)</td>\n",
       "      <td>Adventure|Animation|Children|Comedy|Fantasy</td>\n",
       "      <td>1652</td>\n",
       "      <td>funny</td>\n",
       "    </tr>\n",
       "    <tr>\n",
       "      <th>4</th>\n",
       "      <td>1</td>\n",
       "      <td>Toy Story (1995)</td>\n",
       "      <td>Adventure|Animation|Children|Comedy|Fantasy</td>\n",
       "      <td>1652</td>\n",
       "      <td>Pixar</td>\n",
       "    </tr>\n",
       "  </tbody>\n",
       "</table>\n",
       "</div>"
      ],
      "text/plain": [
       "   movieId             title                                       genres  \\\n",
       "0        1  Toy Story (1995)  Adventure|Animation|Children|Comedy|Fantasy   \n",
       "1        1  Toy Story (1995)  Adventure|Animation|Children|Comedy|Fantasy   \n",
       "2        1  Toy Story (1995)  Adventure|Animation|Children|Comedy|Fantasy   \n",
       "3        1  Toy Story (1995)  Adventure|Animation|Children|Comedy|Fantasy   \n",
       "4        1  Toy Story (1995)  Adventure|Animation|Children|Comedy|Fantasy   \n",
       "\n",
       "   userId                 tag  \n",
       "0    1250               Pixar  \n",
       "1    1250         time travel  \n",
       "2    1652  computer animation  \n",
       "3    1652               funny  \n",
       "4    1652               Pixar  "
      ]
     },
     "execution_count": 36,
     "metadata": {},
     "output_type": "execute_result"
    }
   ],
   "source": [
    "movies_tags = pd.merge(movies, tags, how='inner')\n",
    "movies_tags.head()"
   ]
  },
  {
   "cell_type": "code",
   "execution_count": 37,
   "metadata": {},
   "outputs": [
    {
     "data": {
      "text/html": [
       "<div>\n",
       "<style>\n",
       "    .dataframe thead tr:only-child th {\n",
       "        text-align: right;\n",
       "    }\n",
       "\n",
       "    .dataframe thead th {\n",
       "        text-align: left;\n",
       "    }\n",
       "\n",
       "    .dataframe tbody tr th {\n",
       "        vertical-align: top;\n",
       "    }\n",
       "</style>\n",
       "<table border=\"1\" class=\"dataframe\">\n",
       "  <thead>\n",
       "    <tr style=\"text-align: right;\">\n",
       "      <th></th>\n",
       "      <th>movieId</th>\n",
       "      <th>rating</th>\n",
       "    </tr>\n",
       "  </thead>\n",
       "  <tbody>\n",
       "    <tr>\n",
       "      <th>0</th>\n",
       "      <td>1</td>\n",
       "      <td>3.888157</td>\n",
       "    </tr>\n",
       "    <tr>\n",
       "      <th>1</th>\n",
       "      <td>2</td>\n",
       "      <td>3.236953</td>\n",
       "    </tr>\n",
       "    <tr>\n",
       "      <th>2</th>\n",
       "      <td>3</td>\n",
       "      <td>3.175550</td>\n",
       "    </tr>\n",
       "    <tr>\n",
       "      <th>3</th>\n",
       "      <td>4</td>\n",
       "      <td>2.875713</td>\n",
       "    </tr>\n",
       "    <tr>\n",
       "      <th>4</th>\n",
       "      <td>5</td>\n",
       "      <td>3.079565</td>\n",
       "    </tr>\n",
       "  </tbody>\n",
       "</table>\n",
       "</div>"
      ],
      "text/plain": [
       "   movieId    rating\n",
       "0        1  3.888157\n",
       "1        2  3.236953\n",
       "2        3  3.175550\n",
       "3        4  2.875713\n",
       "4        5  3.079565"
      ]
     },
     "execution_count": 37,
     "metadata": {},
     "output_type": "execute_result"
    }
   ],
   "source": [
    "avg_ratings = ratings.groupby('movieId', as_index=False).mean()\n",
    "avg_ratings.head()"
   ]
  },
  {
   "cell_type": "code",
   "execution_count": 38,
   "metadata": {},
   "outputs": [
    {
     "data": {
      "text/html": [
       "<div>\n",
       "<style>\n",
       "    .dataframe thead tr:only-child th {\n",
       "        text-align: right;\n",
       "    }\n",
       "\n",
       "    .dataframe thead th {\n",
       "        text-align: left;\n",
       "    }\n",
       "\n",
       "    .dataframe tbody tr th {\n",
       "        vertical-align: top;\n",
       "    }\n",
       "</style>\n",
       "<table border=\"1\" class=\"dataframe\">\n",
       "  <thead>\n",
       "    <tr style=\"text-align: right;\">\n",
       "      <th></th>\n",
       "      <th>movieId</th>\n",
       "      <th>title</th>\n",
       "      <th>genres</th>\n",
       "      <th>userId</th>\n",
       "      <th>tag</th>\n",
       "      <th>rating</th>\n",
       "    </tr>\n",
       "  </thead>\n",
       "  <tbody>\n",
       "    <tr>\n",
       "      <th>0</th>\n",
       "      <td>1</td>\n",
       "      <td>Toy Story (1995)</td>\n",
       "      <td>Adventure|Animation|Children|Comedy|Fantasy</td>\n",
       "      <td>1250</td>\n",
       "      <td>Pixar</td>\n",
       "      <td>3.888157</td>\n",
       "    </tr>\n",
       "    <tr>\n",
       "      <th>1</th>\n",
       "      <td>1</td>\n",
       "      <td>Toy Story (1995)</td>\n",
       "      <td>Adventure|Animation|Children|Comedy|Fantasy</td>\n",
       "      <td>1250</td>\n",
       "      <td>time travel</td>\n",
       "      <td>3.888157</td>\n",
       "    </tr>\n",
       "    <tr>\n",
       "      <th>2</th>\n",
       "      <td>1</td>\n",
       "      <td>Toy Story (1995)</td>\n",
       "      <td>Adventure|Animation|Children|Comedy|Fantasy</td>\n",
       "      <td>1652</td>\n",
       "      <td>computer animation</td>\n",
       "      <td>3.888157</td>\n",
       "    </tr>\n",
       "    <tr>\n",
       "      <th>3</th>\n",
       "      <td>1</td>\n",
       "      <td>Toy Story (1995)</td>\n",
       "      <td>Adventure|Animation|Children|Comedy|Fantasy</td>\n",
       "      <td>1652</td>\n",
       "      <td>funny</td>\n",
       "      <td>3.888157</td>\n",
       "    </tr>\n",
       "    <tr>\n",
       "      <th>4</th>\n",
       "      <td>1</td>\n",
       "      <td>Toy Story (1995)</td>\n",
       "      <td>Adventure|Animation|Children|Comedy|Fantasy</td>\n",
       "      <td>1652</td>\n",
       "      <td>Pixar</td>\n",
       "      <td>3.888157</td>\n",
       "    </tr>\n",
       "  </tbody>\n",
       "</table>\n",
       "</div>"
      ],
      "text/plain": [
       "   movieId             title                                       genres  \\\n",
       "0        1  Toy Story (1995)  Adventure|Animation|Children|Comedy|Fantasy   \n",
       "1        1  Toy Story (1995)  Adventure|Animation|Children|Comedy|Fantasy   \n",
       "2        1  Toy Story (1995)  Adventure|Animation|Children|Comedy|Fantasy   \n",
       "3        1  Toy Story (1995)  Adventure|Animation|Children|Comedy|Fantasy   \n",
       "4        1  Toy Story (1995)  Adventure|Animation|Children|Comedy|Fantasy   \n",
       "\n",
       "   userId                 tag    rating  \n",
       "0    1250               Pixar  3.888157  \n",
       "1    1250         time travel  3.888157  \n",
       "2    1652  computer animation  3.888157  \n",
       "3    1652               funny  3.888157  \n",
       "4    1652               Pixar  3.888157  "
      ]
     },
     "execution_count": 38,
     "metadata": {},
     "output_type": "execute_result"
    }
   ],
   "source": [
    "movies_tags_ratings = movies_tags.merge(avg_ratings, on='movieId', how='inner')\n",
    "movies_tags_ratings.head()"
   ]
  },
  {
   "cell_type": "markdown",
   "metadata": {},
   "source": [
    "So that is our final merged .csv with all the colums we need. We will export this later as a master file. Let's say though, that we'd like to compare two tags and see how they stack up when they are compared by their ratings? We would want to filter out the non-selected tagged movies. This optimization is important, especially when dealing with large datasets (such as this one, with nearing 1m entries). "
   ]
  },
  {
   "cell_type": "markdown",
   "metadata": {},
   "source": [
    "There are a few things to think about when selecting possible tags for our 'ratings battle'. First, we want to make sure there are enough movies within the tag to compare:"
   ]
  },
  {
   "cell_type": "code",
   "execution_count": 52,
   "metadata": {},
   "outputs": [
    {
     "data": {
      "text/plain": [
       "635"
      ]
     },
     "execution_count": 52,
     "metadata": {},
     "output_type": "execute_result"
    }
   ],
   "source": [
    "tag_counts = movies_tags_ratings['tag'].value_counts()\n",
    "tag_counts['feel-good']"
   ]
  },
  {
   "cell_type": "code",
   "execution_count": 53,
   "metadata": {},
   "outputs": [
    {
     "data": {
      "text/plain": [
       "6"
      ]
     },
     "execution_count": 53,
     "metadata": {},
     "output_type": "execute_result"
    }
   ],
   "source": [
    "tag_counts = movies_tags_ratings['tag'].value_counts()\n",
    "tag_counts['Tyler Perry']"
   ]
  },
  {
   "cell_type": "markdown",
   "metadata": {},
   "source": [
    "As you can see, it wouldn't be valuable to compare 'feel-good' movies with 'Tyler Perry' because there aren't enough to provide reliable data. Conversely, there is also the problem of oversaturated tags, or inaccurate tags:"
   ]
  },
  {
   "cell_type": "code",
   "execution_count": 54,
   "metadata": {},
   "outputs": [
    {
     "data": {
      "text/plain": [
       "8040"
      ]
     },
     "execution_count": 54,
     "metadata": {},
     "output_type": "execute_result"
    }
   ],
   "source": [
    "tag_counts = movies_tags_ratings['tag'].value_counts()\n",
    "tag_counts['sci-fi']"
   ]
  },
  {
   "cell_type": "markdown",
   "metadata": {},
   "source": [
    "You can see it wouldn't be a great comparison to compare any of the above three catagories together. The last problem would be data integrity:"
   ]
  },
  {
   "cell_type": "code",
   "execution_count": 59,
   "metadata": {},
   "outputs": [
    {
     "data": {
      "text/plain": [
       "movieId                        1732\n",
       "title      Big Lebowski, The (1998)\n",
       "genres                 Comedy|Crime\n",
       "userId                         7806\n",
       "tag                    black comedy\n",
       "rating                      3.95432\n",
       "Name: 143727, dtype: object"
      ]
     },
     "execution_count": 59,
     "metadata": {},
     "output_type": "execute_result"
    }
   ],
   "source": [
    "movies_tags_ratings.iloc[143727]"
   ]
  },
  {
   "cell_type": "markdown",
   "metadata": {},
   "source": [
    "I can tell you that \"The Big Lebowski\" for example, is not a 'black comedy'. This would make one question the integrity of the entire dataset, but the simpliest solution would be to possibly use a 'tighter', more accurate, and concise catagory. This is a reason why initial data exploration is very important, and certainly at least a slight familiarity with the topic comes in use. In this case of movies, I don't have the time to analyze all the movies I'm unfamiliar with, so I'll probably use tagged actors, assuming the dataset at least contains the actor tagged, as opposed to more nuanced catagories such as 'black comedy'. "
   ]
  },
  {
   "cell_type": "code",
   "execution_count": 62,
   "metadata": {},
   "outputs": [
    {
     "data": {
      "text/plain": [
       "127"
      ]
     },
     "execution_count": 62,
     "metadata": {},
     "output_type": "execute_result"
    }
   ],
   "source": [
    "tag_counts = movies_tags_ratings['tag'].value_counts()\n",
    "tag_counts['John Goodman']"
   ]
  },
  {
   "cell_type": "code",
   "execution_count": 63,
   "metadata": {},
   "outputs": [
    {
     "data": {
      "text/plain": [
       "657"
      ]
     },
     "execution_count": 63,
     "metadata": {},
     "output_type": "execute_result"
    }
   ],
   "source": [
    "tag_counts = movies_tags_ratings['tag'].value_counts()\n",
    "tag_counts['Tom Cruise']"
   ]
  },
  {
   "cell_type": "code",
   "execution_count": 65,
   "metadata": {},
   "outputs": [
    {
     "data": {
      "text/plain": [
       "909"
      ]
     },
     "execution_count": 65,
     "metadata": {},
     "output_type": "execute_result"
    }
   ],
   "source": [
    "tag_counts = movies_tags_ratings['tag'].value_counts()\n",
    "tag_counts['Brad Pitt']"
   ]
  },
  {
   "cell_type": "code",
   "execution_count": 66,
   "metadata": {},
   "outputs": [
    {
     "data": {
      "text/plain": [
       "52"
      ]
     },
     "execution_count": 66,
     "metadata": {},
     "output_type": "execute_result"
    }
   ],
   "source": [
    "tag_counts = movies_tags_ratings['tag'].value_counts()\n",
    "tag_counts['Steven Seagal']"
   ]
  },
  {
   "cell_type": "markdown",
   "metadata": {},
   "source": [
    "Why not? Let's take a look at a slice of a particular data frame:"
   ]
  },
  {
   "cell_type": "code",
   "execution_count": 68,
   "metadata": {},
   "outputs": [
    {
     "data": {
      "text/html": [
       "<div>\n",
       "<style>\n",
       "    .dataframe thead tr:only-child th {\n",
       "        text-align: right;\n",
       "    }\n",
       "\n",
       "    .dataframe thead th {\n",
       "        text-align: left;\n",
       "    }\n",
       "\n",
       "    .dataframe tbody tr th {\n",
       "        vertical-align: top;\n",
       "    }\n",
       "</style>\n",
       "<table border=\"1\" class=\"dataframe\">\n",
       "  <thead>\n",
       "    <tr style=\"text-align: right;\">\n",
       "      <th></th>\n",
       "      <th>movieId</th>\n",
       "      <th>title</th>\n",
       "      <th>genres</th>\n",
       "      <th>userId</th>\n",
       "      <th>tag</th>\n",
       "      <th>rating</th>\n",
       "    </tr>\n",
       "  </thead>\n",
       "  <tbody>\n",
       "    <tr>\n",
       "      <th>126124</th>\n",
       "      <td>1382</td>\n",
       "      <td>Marked for Death (1990)</td>\n",
       "      <td>Action|Drama</td>\n",
       "      <td>172330</td>\n",
       "      <td>Steven Seagal</td>\n",
       "      <td>2.747428</td>\n",
       "    </tr>\n",
       "    <tr>\n",
       "      <th>126128</th>\n",
       "      <td>1382</td>\n",
       "      <td>Marked for Death (1990)</td>\n",
       "      <td>Action|Drama</td>\n",
       "      <td>270123</td>\n",
       "      <td>Steven Seagal</td>\n",
       "      <td>2.747428</td>\n",
       "    </tr>\n",
       "    <tr>\n",
       "      <th>126137</th>\n",
       "      <td>1385</td>\n",
       "      <td>Under Siege (1992)</td>\n",
       "      <td>Action|Drama|Thriller</td>\n",
       "      <td>71947</td>\n",
       "      <td>Steven Seagal</td>\n",
       "      <td>3.115369</td>\n",
       "    </tr>\n",
       "    <tr>\n",
       "      <th>126147</th>\n",
       "      <td>1385</td>\n",
       "      <td>Under Siege (1992)</td>\n",
       "      <td>Action|Drama|Thriller</td>\n",
       "      <td>79623</td>\n",
       "      <td>Steven Seagal</td>\n",
       "      <td>3.115369</td>\n",
       "    </tr>\n",
       "    <tr>\n",
       "      <th>126154</th>\n",
       "      <td>1385</td>\n",
       "      <td>Under Siege (1992)</td>\n",
       "      <td>Action|Drama|Thriller</td>\n",
       "      <td>172330</td>\n",
       "      <td>Steven Seagal</td>\n",
       "      <td>3.115369</td>\n",
       "    </tr>\n",
       "    <tr>\n",
       "      <th>126160</th>\n",
       "      <td>1385</td>\n",
       "      <td>Under Siege (1992)</td>\n",
       "      <td>Action|Drama|Thriller</td>\n",
       "      <td>210476</td>\n",
       "      <td>Steven Seagal</td>\n",
       "      <td>3.115369</td>\n",
       "    </tr>\n",
       "    <tr>\n",
       "      <th>136067</th>\n",
       "      <td>1626</td>\n",
       "      <td>Fire Down Below (1997)</td>\n",
       "      <td>Action|Drama|Thriller</td>\n",
       "      <td>172330</td>\n",
       "      <td>Steven Seagal</td>\n",
       "      <td>2.451911</td>\n",
       "    </tr>\n",
       "    <tr>\n",
       "      <th>136069</th>\n",
       "      <td>1626</td>\n",
       "      <td>Fire Down Below (1997)</td>\n",
       "      <td>Action|Drama|Thriller</td>\n",
       "      <td>230606</td>\n",
       "      <td>Steven Seagal</td>\n",
       "      <td>2.451911</td>\n",
       "    </tr>\n",
       "    <tr>\n",
       "      <th>253481</th>\n",
       "      <td>4224</td>\n",
       "      <td>Exit Wounds (2001)</td>\n",
       "      <td>Action|Thriller</td>\n",
       "      <td>172330</td>\n",
       "      <td>Steven Seagal</td>\n",
       "      <td>2.649660</td>\n",
       "    </tr>\n",
       "    <tr>\n",
       "      <th>263044</th>\n",
       "      <td>4466</td>\n",
       "      <td>Above the Law (1988)</td>\n",
       "      <td>Action|Crime|Drama</td>\n",
       "      <td>930</td>\n",
       "      <td>Steven Seagal</td>\n",
       "      <td>2.808451</td>\n",
       "    </tr>\n",
       "  </tbody>\n",
       "</table>\n",
       "</div>"
      ],
      "text/plain": [
       "        movieId                    title                 genres  userId  \\\n",
       "126124     1382  Marked for Death (1990)           Action|Drama  172330   \n",
       "126128     1382  Marked for Death (1990)           Action|Drama  270123   \n",
       "126137     1385       Under Siege (1992)  Action|Drama|Thriller   71947   \n",
       "126147     1385       Under Siege (1992)  Action|Drama|Thriller   79623   \n",
       "126154     1385       Under Siege (1992)  Action|Drama|Thriller  172330   \n",
       "126160     1385       Under Siege (1992)  Action|Drama|Thriller  210476   \n",
       "136067     1626   Fire Down Below (1997)  Action|Drama|Thriller  172330   \n",
       "136069     1626   Fire Down Below (1997)  Action|Drama|Thriller  230606   \n",
       "253481     4224       Exit Wounds (2001)        Action|Thriller  172330   \n",
       "263044     4466     Above the Law (1988)     Action|Crime|Drama     930   \n",
       "\n",
       "                  tag    rating  \n",
       "126124  Steven Seagal  2.747428  \n",
       "126128  Steven Seagal  2.747428  \n",
       "126137  Steven Seagal  3.115369  \n",
       "126147  Steven Seagal  3.115369  \n",
       "126154  Steven Seagal  3.115369  \n",
       "126160  Steven Seagal  3.115369  \n",
       "136067  Steven Seagal  2.451911  \n",
       "136069  Steven Seagal  2.451911  \n",
       "253481  Steven Seagal  2.649660  \n",
       "263044  Steven Seagal  2.808451  "
      ]
     },
     "execution_count": 68,
     "metadata": {},
     "output_type": "execute_result"
    }
   ],
   "source": [
    "is_seagal = movies_tags_ratings['tag'].str.contains('Steven Seagal')\n",
    "movies_tags_ratings[is_seagal][5:15]"
   ]
  },
  {
   "cell_type": "code",
   "execution_count": 72,
   "metadata": {},
   "outputs": [
    {
     "data": {
      "text/html": [
       "<div>\n",
       "<style>\n",
       "    .dataframe thead tr:only-child th {\n",
       "        text-align: right;\n",
       "    }\n",
       "\n",
       "    .dataframe thead th {\n",
       "        text-align: left;\n",
       "    }\n",
       "\n",
       "    .dataframe tbody tr th {\n",
       "        vertical-align: top;\n",
       "    }\n",
       "</style>\n",
       "<table border=\"1\" class=\"dataframe\">\n",
       "  <thead>\n",
       "    <tr style=\"text-align: right;\">\n",
       "      <th></th>\n",
       "      <th>movieId</th>\n",
       "      <th>title</th>\n",
       "      <th>genres</th>\n",
       "      <th>userId</th>\n",
       "      <th>tag</th>\n",
       "      <th>rating</th>\n",
       "    </tr>\n",
       "  </thead>\n",
       "  <tbody>\n",
       "    <tr>\n",
       "      <th>3494</th>\n",
       "      <td>32</td>\n",
       "      <td>Twelve Monkeys (a.k.a. 12 Monkeys) (1995)</td>\n",
       "      <td>Mystery|Sci-Fi|Thriller</td>\n",
       "      <td>30558</td>\n",
       "      <td>Brad Pitt</td>\n",
       "      <td>3.888769</td>\n",
       "    </tr>\n",
       "    <tr>\n",
       "      <th>3515</th>\n",
       "      <td>32</td>\n",
       "      <td>Twelve Monkeys (a.k.a. 12 Monkeys) (1995)</td>\n",
       "      <td>Mystery|Sci-Fi|Thriller</td>\n",
       "      <td>35246</td>\n",
       "      <td>Brad Pitt</td>\n",
       "      <td>3.888769</td>\n",
       "    </tr>\n",
       "    <tr>\n",
       "      <th>3519</th>\n",
       "      <td>32</td>\n",
       "      <td>Twelve Monkeys (a.k.a. 12 Monkeys) (1995)</td>\n",
       "      <td>Mystery|Sci-Fi|Thriller</td>\n",
       "      <td>35787</td>\n",
       "      <td>Brad Pitt</td>\n",
       "      <td>3.888769</td>\n",
       "    </tr>\n",
       "    <tr>\n",
       "      <th>3536</th>\n",
       "      <td>32</td>\n",
       "      <td>Twelve Monkeys (a.k.a. 12 Monkeys) (1995)</td>\n",
       "      <td>Mystery|Sci-Fi|Thriller</td>\n",
       "      <td>39928</td>\n",
       "      <td>Brad Pitt</td>\n",
       "      <td>3.888769</td>\n",
       "    </tr>\n",
       "    <tr>\n",
       "      <th>3548</th>\n",
       "      <td>32</td>\n",
       "      <td>Twelve Monkeys (a.k.a. 12 Monkeys) (1995)</td>\n",
       "      <td>Mystery|Sci-Fi|Thriller</td>\n",
       "      <td>39981</td>\n",
       "      <td>Brad Pitt</td>\n",
       "      <td>3.888769</td>\n",
       "    </tr>\n",
       "    <tr>\n",
       "      <th>3565</th>\n",
       "      <td>32</td>\n",
       "      <td>Twelve Monkeys (a.k.a. 12 Monkeys) (1995)</td>\n",
       "      <td>Mystery|Sci-Fi|Thriller</td>\n",
       "      <td>40251</td>\n",
       "      <td>Brad Pitt</td>\n",
       "      <td>3.888769</td>\n",
       "    </tr>\n",
       "    <tr>\n",
       "      <th>3600</th>\n",
       "      <td>32</td>\n",
       "      <td>Twelve Monkeys (a.k.a. 12 Monkeys) (1995)</td>\n",
       "      <td>Mystery|Sci-Fi|Thriller</td>\n",
       "      <td>46686</td>\n",
       "      <td>Brad Pitt</td>\n",
       "      <td>3.888769</td>\n",
       "    </tr>\n",
       "    <tr>\n",
       "      <th>3668</th>\n",
       "      <td>32</td>\n",
       "      <td>Twelve Monkeys (a.k.a. 12 Monkeys) (1995)</td>\n",
       "      <td>Mystery|Sci-Fi|Thriller</td>\n",
       "      <td>55884</td>\n",
       "      <td>Brad Pitt</td>\n",
       "      <td>3.888769</td>\n",
       "    </tr>\n",
       "    <tr>\n",
       "      <th>3692</th>\n",
       "      <td>32</td>\n",
       "      <td>Twelve Monkeys (a.k.a. 12 Monkeys) (1995)</td>\n",
       "      <td>Mystery|Sci-Fi|Thriller</td>\n",
       "      <td>59525</td>\n",
       "      <td>Brad Pitt</td>\n",
       "      <td>3.888769</td>\n",
       "    </tr>\n",
       "    <tr>\n",
       "      <th>3724</th>\n",
       "      <td>32</td>\n",
       "      <td>Twelve Monkeys (a.k.a. 12 Monkeys) (1995)</td>\n",
       "      <td>Mystery|Sci-Fi|Thriller</td>\n",
       "      <td>63234</td>\n",
       "      <td>Brad Pitt</td>\n",
       "      <td>3.888769</td>\n",
       "    </tr>\n",
       "  </tbody>\n",
       "</table>\n",
       "</div>"
      ],
      "text/plain": [
       "      movieId                                      title  \\\n",
       "3494       32  Twelve Monkeys (a.k.a. 12 Monkeys) (1995)   \n",
       "3515       32  Twelve Monkeys (a.k.a. 12 Monkeys) (1995)   \n",
       "3519       32  Twelve Monkeys (a.k.a. 12 Monkeys) (1995)   \n",
       "3536       32  Twelve Monkeys (a.k.a. 12 Monkeys) (1995)   \n",
       "3548       32  Twelve Monkeys (a.k.a. 12 Monkeys) (1995)   \n",
       "3565       32  Twelve Monkeys (a.k.a. 12 Monkeys) (1995)   \n",
       "3600       32  Twelve Monkeys (a.k.a. 12 Monkeys) (1995)   \n",
       "3668       32  Twelve Monkeys (a.k.a. 12 Monkeys) (1995)   \n",
       "3692       32  Twelve Monkeys (a.k.a. 12 Monkeys) (1995)   \n",
       "3724       32  Twelve Monkeys (a.k.a. 12 Monkeys) (1995)   \n",
       "\n",
       "                       genres  userId        tag    rating  \n",
       "3494  Mystery|Sci-Fi|Thriller   30558  Brad Pitt  3.888769  \n",
       "3515  Mystery|Sci-Fi|Thriller   35246  Brad Pitt  3.888769  \n",
       "3519  Mystery|Sci-Fi|Thriller   35787  Brad Pitt  3.888769  \n",
       "3536  Mystery|Sci-Fi|Thriller   39928  Brad Pitt  3.888769  \n",
       "3548  Mystery|Sci-Fi|Thriller   39981  Brad Pitt  3.888769  \n",
       "3565  Mystery|Sci-Fi|Thriller   40251  Brad Pitt  3.888769  \n",
       "3600  Mystery|Sci-Fi|Thriller   46686  Brad Pitt  3.888769  \n",
       "3668  Mystery|Sci-Fi|Thriller   55884  Brad Pitt  3.888769  \n",
       "3692  Mystery|Sci-Fi|Thriller   59525  Brad Pitt  3.888769  \n",
       "3724  Mystery|Sci-Fi|Thriller   63234  Brad Pitt  3.888769  "
      ]
     },
     "execution_count": 72,
     "metadata": {},
     "output_type": "execute_result"
    }
   ],
   "source": [
    "is_pitt = movies_tags_ratings['tag'].str.contains('Brad Pitt')\n",
    "movies_tags_ratings[is_pitt][5:15]"
   ]
  },
  {
   "cell_type": "code",
   "execution_count": 73,
   "metadata": {},
   "outputs": [
    {
     "data": {
      "text/html": [
       "<div>\n",
       "<style>\n",
       "    .dataframe thead tr:only-child th {\n",
       "        text-align: right;\n",
       "    }\n",
       "\n",
       "    .dataframe thead th {\n",
       "        text-align: left;\n",
       "    }\n",
       "\n",
       "    .dataframe tbody tr th {\n",
       "        vertical-align: top;\n",
       "    }\n",
       "</style>\n",
       "<table border=\"1\" class=\"dataframe\">\n",
       "  <thead>\n",
       "    <tr style=\"text-align: right;\">\n",
       "      <th></th>\n",
       "      <th>movieId</th>\n",
       "      <th>title</th>\n",
       "      <th>genres</th>\n",
       "      <th>userId</th>\n",
       "      <th>tag</th>\n",
       "      <th>rating</th>\n",
       "    </tr>\n",
       "  </thead>\n",
       "  <tbody>\n",
       "    <tr>\n",
       "      <th>18250</th>\n",
       "      <td>253</td>\n",
       "      <td>Interview with the Vampire: The Vampire Chroni...</td>\n",
       "      <td>Drama|Horror</td>\n",
       "      <td>103577</td>\n",
       "      <td>Tom Cruise</td>\n",
       "      <td>3.50193</td>\n",
       "    </tr>\n",
       "    <tr>\n",
       "      <th>18259</th>\n",
       "      <td>253</td>\n",
       "      <td>Interview with the Vampire: The Vampire Chroni...</td>\n",
       "      <td>Drama|Horror</td>\n",
       "      <td>104338</td>\n",
       "      <td>Tom Cruise</td>\n",
       "      <td>3.50193</td>\n",
       "    </tr>\n",
       "    <tr>\n",
       "      <th>18322</th>\n",
       "      <td>253</td>\n",
       "      <td>Interview with the Vampire: The Vampire Chroni...</td>\n",
       "      <td>Drama|Horror</td>\n",
       "      <td>147125</td>\n",
       "      <td>Tom Cruise</td>\n",
       "      <td>3.50193</td>\n",
       "    </tr>\n",
       "    <tr>\n",
       "      <th>18331</th>\n",
       "      <td>253</td>\n",
       "      <td>Interview with the Vampire: The Vampire Chroni...</td>\n",
       "      <td>Drama|Horror</td>\n",
       "      <td>150936</td>\n",
       "      <td>Tom Cruise</td>\n",
       "      <td>3.50193</td>\n",
       "    </tr>\n",
       "    <tr>\n",
       "      <th>18334</th>\n",
       "      <td>253</td>\n",
       "      <td>Interview with the Vampire: The Vampire Chroni...</td>\n",
       "      <td>Drama|Horror</td>\n",
       "      <td>151016</td>\n",
       "      <td>Tom Cruise</td>\n",
       "      <td>3.50193</td>\n",
       "    </tr>\n",
       "    <tr>\n",
       "      <th>18338</th>\n",
       "      <td>253</td>\n",
       "      <td>Interview with the Vampire: The Vampire Chroni...</td>\n",
       "      <td>Drama|Horror</td>\n",
       "      <td>151340</td>\n",
       "      <td>Tom Cruise</td>\n",
       "      <td>3.50193</td>\n",
       "    </tr>\n",
       "    <tr>\n",
       "      <th>18351</th>\n",
       "      <td>253</td>\n",
       "      <td>Interview with the Vampire: The Vampire Chroni...</td>\n",
       "      <td>Drama|Horror</td>\n",
       "      <td>156347</td>\n",
       "      <td>Tom Cruise</td>\n",
       "      <td>3.50193</td>\n",
       "    </tr>\n",
       "    <tr>\n",
       "      <th>18359</th>\n",
       "      <td>253</td>\n",
       "      <td>Interview with the Vampire: The Vampire Chroni...</td>\n",
       "      <td>Drama|Horror</td>\n",
       "      <td>162958</td>\n",
       "      <td>Tom Cruise</td>\n",
       "      <td>3.50193</td>\n",
       "    </tr>\n",
       "    <tr>\n",
       "      <th>18395</th>\n",
       "      <td>253</td>\n",
       "      <td>Interview with the Vampire: The Vampire Chroni...</td>\n",
       "      <td>Drama|Horror</td>\n",
       "      <td>186921</td>\n",
       "      <td>Tom Cruise</td>\n",
       "      <td>3.50193</td>\n",
       "    </tr>\n",
       "    <tr>\n",
       "      <th>18434</th>\n",
       "      <td>253</td>\n",
       "      <td>Interview with the Vampire: The Vampire Chroni...</td>\n",
       "      <td>Drama|Horror</td>\n",
       "      <td>196358</td>\n",
       "      <td>Tom Cruise</td>\n",
       "      <td>3.50193</td>\n",
       "    </tr>\n",
       "  </tbody>\n",
       "</table>\n",
       "</div>"
      ],
      "text/plain": [
       "       movieId                                              title  \\\n",
       "18250      253  Interview with the Vampire: The Vampire Chroni...   \n",
       "18259      253  Interview with the Vampire: The Vampire Chroni...   \n",
       "18322      253  Interview with the Vampire: The Vampire Chroni...   \n",
       "18331      253  Interview with the Vampire: The Vampire Chroni...   \n",
       "18334      253  Interview with the Vampire: The Vampire Chroni...   \n",
       "18338      253  Interview with the Vampire: The Vampire Chroni...   \n",
       "18351      253  Interview with the Vampire: The Vampire Chroni...   \n",
       "18359      253  Interview with the Vampire: The Vampire Chroni...   \n",
       "18395      253  Interview with the Vampire: The Vampire Chroni...   \n",
       "18434      253  Interview with the Vampire: The Vampire Chroni...   \n",
       "\n",
       "             genres  userId         tag   rating  \n",
       "18250  Drama|Horror  103577  Tom Cruise  3.50193  \n",
       "18259  Drama|Horror  104338  Tom Cruise  3.50193  \n",
       "18322  Drama|Horror  147125  Tom Cruise  3.50193  \n",
       "18331  Drama|Horror  150936  Tom Cruise  3.50193  \n",
       "18334  Drama|Horror  151016  Tom Cruise  3.50193  \n",
       "18338  Drama|Horror  151340  Tom Cruise  3.50193  \n",
       "18351  Drama|Horror  156347  Tom Cruise  3.50193  \n",
       "18359  Drama|Horror  162958  Tom Cruise  3.50193  \n",
       "18395  Drama|Horror  186921  Tom Cruise  3.50193  \n",
       "18434  Drama|Horror  196358  Tom Cruise  3.50193  "
      ]
     },
     "execution_count": 73,
     "metadata": {},
     "output_type": "execute_result"
    }
   ],
   "source": [
    "is_cruise = movies_tags_ratings['tag'].str.contains('Tom Cruise')\n",
    "movies_tags_ratings[is_cruise][5:15]"
   ]
  },
  {
   "cell_type": "code",
   "execution_count": 80,
   "metadata": {},
   "outputs": [
    {
     "data": {
      "text/html": [
       "<div>\n",
       "<style>\n",
       "    .dataframe thead tr:only-child th {\n",
       "        text-align: right;\n",
       "    }\n",
       "\n",
       "    .dataframe thead th {\n",
       "        text-align: left;\n",
       "    }\n",
       "\n",
       "    .dataframe tbody tr th {\n",
       "        vertical-align: top;\n",
       "    }\n",
       "</style>\n",
       "<table border=\"1\" class=\"dataframe\">\n",
       "  <thead>\n",
       "    <tr style=\"text-align: right;\">\n",
       "      <th></th>\n",
       "      <th>movieId</th>\n",
       "      <th>title</th>\n",
       "      <th>genres</th>\n",
       "      <th>tag</th>\n",
       "      <th>rating</th>\n",
       "    </tr>\n",
       "  </thead>\n",
       "  <tbody>\n",
       "    <tr>\n",
       "      <th>143735</th>\n",
       "      <td>1732</td>\n",
       "      <td>Big Lebowski, The (1998)</td>\n",
       "      <td>Comedy|Crime</td>\n",
       "      <td>John Goodman</td>\n",
       "      <td>3.954323</td>\n",
       "    </tr>\n",
       "    <tr>\n",
       "      <th>143757</th>\n",
       "      <td>1732</td>\n",
       "      <td>Big Lebowski, The (1998)</td>\n",
       "      <td>Comedy|Crime</td>\n",
       "      <td>John Goodman</td>\n",
       "      <td>3.954323</td>\n",
       "    </tr>\n",
       "    <tr>\n",
       "      <th>143802</th>\n",
       "      <td>1732</td>\n",
       "      <td>Big Lebowski, The (1998)</td>\n",
       "      <td>Comedy|Crime</td>\n",
       "      <td>John Goodman</td>\n",
       "      <td>3.954323</td>\n",
       "    </tr>\n",
       "    <tr>\n",
       "      <th>143810</th>\n",
       "      <td>1732</td>\n",
       "      <td>Big Lebowski, The (1998)</td>\n",
       "      <td>Comedy|Crime</td>\n",
       "      <td>John Goodman</td>\n",
       "      <td>3.954323</td>\n",
       "    </tr>\n",
       "    <tr>\n",
       "      <th>143845</th>\n",
       "      <td>1732</td>\n",
       "      <td>Big Lebowski, The (1998)</td>\n",
       "      <td>Comedy|Crime</td>\n",
       "      <td>John Goodman</td>\n",
       "      <td>3.954323</td>\n",
       "    </tr>\n",
       "    <tr>\n",
       "      <th>143872</th>\n",
       "      <td>1732</td>\n",
       "      <td>Big Lebowski, The (1998)</td>\n",
       "      <td>Comedy|Crime</td>\n",
       "      <td>John Goodman</td>\n",
       "      <td>3.954323</td>\n",
       "    </tr>\n",
       "    <tr>\n",
       "      <th>143895</th>\n",
       "      <td>1732</td>\n",
       "      <td>Big Lebowski, The (1998)</td>\n",
       "      <td>Comedy|Crime</td>\n",
       "      <td>John Goodman</td>\n",
       "      <td>3.954323</td>\n",
       "    </tr>\n",
       "    <tr>\n",
       "      <th>143927</th>\n",
       "      <td>1732</td>\n",
       "      <td>Big Lebowski, The (1998)</td>\n",
       "      <td>Comedy|Crime</td>\n",
       "      <td>John Goodman</td>\n",
       "      <td>3.954323</td>\n",
       "    </tr>\n",
       "    <tr>\n",
       "      <th>143993</th>\n",
       "      <td>1732</td>\n",
       "      <td>Big Lebowski, The (1998)</td>\n",
       "      <td>Comedy|Crime</td>\n",
       "      <td>John Goodman</td>\n",
       "      <td>3.954323</td>\n",
       "    </tr>\n",
       "    <tr>\n",
       "      <th>144026</th>\n",
       "      <td>1732</td>\n",
       "      <td>Big Lebowski, The (1998)</td>\n",
       "      <td>Comedy|Crime</td>\n",
       "      <td>John Goodman</td>\n",
       "      <td>3.954323</td>\n",
       "    </tr>\n",
       "  </tbody>\n",
       "</table>\n",
       "</div>"
      ],
      "text/plain": [
       "        movieId                     title        genres           tag  \\\n",
       "143735     1732  Big Lebowski, The (1998)  Comedy|Crime  John Goodman   \n",
       "143757     1732  Big Lebowski, The (1998)  Comedy|Crime  John Goodman   \n",
       "143802     1732  Big Lebowski, The (1998)  Comedy|Crime  John Goodman   \n",
       "143810     1732  Big Lebowski, The (1998)  Comedy|Crime  John Goodman   \n",
       "143845     1732  Big Lebowski, The (1998)  Comedy|Crime  John Goodman   \n",
       "143872     1732  Big Lebowski, The (1998)  Comedy|Crime  John Goodman   \n",
       "143895     1732  Big Lebowski, The (1998)  Comedy|Crime  John Goodman   \n",
       "143927     1732  Big Lebowski, The (1998)  Comedy|Crime  John Goodman   \n",
       "143993     1732  Big Lebowski, The (1998)  Comedy|Crime  John Goodman   \n",
       "144026     1732  Big Lebowski, The (1998)  Comedy|Crime  John Goodman   \n",
       "\n",
       "          rating  \n",
       "143735  3.954323  \n",
       "143757  3.954323  \n",
       "143802  3.954323  \n",
       "143810  3.954323  \n",
       "143845  3.954323  \n",
       "143872  3.954323  \n",
       "143895  3.954323  \n",
       "143927  3.954323  \n",
       "143993  3.954323  \n",
       "144026  3.954323  "
      ]
     },
     "execution_count": 80,
     "metadata": {},
     "output_type": "execute_result"
    }
   ],
   "source": [
    "is_goodman = movies_tags_ratings['tag'].str.contains('John Goodman')\n",
    "movies_tags_ratings[is_goodman][5:15]"
   ]
  },
  {
   "cell_type": "markdown",
   "metadata": {},
   "source": [
    "### Export to .csv"
   ]
  },
  {
   "cell_type": "code",
   "execution_count": 84,
   "metadata": {
    "collapsed": true
   },
   "outputs": [],
   "source": [
    "movies_tags_ratings.to_csv('out.csv', sep=',')\n",
    "movies_tags_ratings[is_goodman].to_csv('goodman.csv', sep=',')\n",
    "movies_tags_ratings[is_cruise].to_csv('cruise.csv', sep=',')\n",
    "movies_tags_ratings[is_pitt].to_csv('pitt.csv', sep=',')\n",
    "movies_tags_ratings[is_seagal].to_csv('seagal.csv', sep=',')"
   ]
  },
  {
   "cell_type": "markdown",
   "metadata": {},
   "source": [
    "### Now Plot "
   ]
  },
  {
   "cell_type": "code",
   "execution_count": 85,
   "metadata": {
    "collapsed": true
   },
   "outputs": [],
   "source": [
    "import plotly.plotly as py\n",
    "from plotly.graph_objs import *\n",
    "py.sign_in('bryanb0102', 'CDElHcn7VTYhiLEjjJSV')\n",
    "trace1 = {\n",
    "  \"x\": [\"Steven Seagal\", \"Steven Seagal\", \"Steven Seagal\", \"Steven Seagal\", \"Steven Seagal\", \"Steven Seagal\", \"Steven Seagal\", \"Steven Seagal\", \"Steven Seagal\", \"Steven Seagal\", \"Steven Seagal\", \"Steven Seagal\", \"Steven Seagal\", \"Steven Seagal\", \"Steven Seagal\", \"Steven Seagal\", \"Steven Seagal\", \"Steven Seagal\", \"Steven Seagal\", \"Steven Seagal\", \"Steven Seagal\", \"Steven Seagal\", \"Steven Seagal\", \"Steven Seagal\", \"Steven Seagal\", \"Steven Seagal\", \"Steven Seagal\", \"Steven Seagal\", \"Steven Seagal\", \"Steven Seagal\", \"Steven Seagal\", \"Steven Seagal\", \"Steven Seagal\", \"Steven Seagal\", \"Steven Seagal\", \"Steven Seagal\", \"Steven Seagal\", \"Steven Seagal\", \"Steven Seagal\", \"Steven Seagal\", \"Steven Seagal\", \"Steven Seagal\", \"Steven Seagal\", \"Steven Seagal\", \"Steven Seagal\", \"Steven Seagal\", \"Steven Seagal\", \"Steven Seagal\", \"Steven Seagal\", \"Steven Seagal\", \"Steven Seagal\", \"Steven Seagal\"], \n",
    "  \"y\": [\"2.9316476346\", \"2.9316476346\", \"3.3746614818\", \"3.3746614818\", \"2.6889023651\", \"2.7474275023\", \"2.7474275023\", \"3.1153686827\", \"3.1153686827\", \"3.1153686827\", \"3.1153686827\", \"2.4519112207\", \"2.4519112207\", \"2.6496598639\", \"2.8084507042\", \"2.8084507042\", \"2.8084507042\", \"2.2803738318\", \"1.9846938776\", \"1.9846938776\", \"1.9846938776\", \"2.6989619377\", \"2.778125\", \"2.778125\", \"2.778125\", \"1.3666666667\", \"1.45\", \"3.2172523962\", \"3.2172523962\", \"3.2172523962\", \"1.5263157895\", \"2.3846153846\", \"1.1153846154\", \"1.6041666667\", \"1.6041666667\", \"1.6041666667\", \"1.65625\", \"2.0869565217\", \"1.6764705882\", \"1.7692307692\", \"3.2919254658\", \"3.2919254658\", \"3.2919254658\", \"3.2919254658\", \"3.2919254658\", \"3.2919254658\", \"3.2919254658\", \"3.2919254658\", \"3.2919254658\", \"3.2919254658\", \"3.2919254658\", \"1.5333333333\"], \n",
    "  \"mode\": \"markers\", \n",
    "  \"name\": \"rating\", \n",
    "  \"text\": [\"Under Siege 2: Dark Territory (1995)\", \"Under Siege 2: Dark Territory (1995)\", \"Executive Decision (1996)\", \"Executive Decision (1996)\", \"Glimmer Man, The (1996)\", \"Marked for Death (1990)\", \"Marked for Death (1990)\", \"Under Siege (1992)\", \"Under Siege (1992)\", \"Under Siege (1992)\", \"Under Siege (1992)\", \"Fire Down Below (1997)\", \"Fire Down Below (1997)\", \"Exit Wounds (2001)\", \"Above the Law (1988)\", \"Above the Law (1988)\", \"Above the Law (1988)\", \"Half Past Dead (2002)\", \"On Deadly Ground (1994)\", \"On Deadly Ground (1994)\", \"On Deadly Ground (1994)\", \"Hard to Kill (1990)\", \"Out for Justice (1991)\", \"Out for Justice (1991)\", \"Out for Justice (1991)\", \"Mercenary for Justice (2006)\", \"Black Dawn (2005)\", \"Onion Movie, The (2008)\", \"Onion Movie, The (2008)\", \"Onion Movie, The (2008)\", \"Against the Dark (2009)\", \"Pistol Whipped (2008)\", \"Flight of Fury (2007)\", \"Urban Justice (2007)\", \"Urban Justice (2007)\", \"Urban Justice (2007)\", \"Attack Force (2006)\", \"Shadow Man (2006)\", \"Today You Die (2005)\", \"Submerged (2005)\", \"Machete (2010)\", \"Machete (2010)\", \"Machete (2010)\", \"Machete (2010)\", \"Machete (2010)\", \"Machete (2010)\", \"Machete (2010)\", \"Machete (2010)\", \"Machete (2010)\", \"Machete (2010)\", \"Machete (2010)\", \"Born to Raise Hell (2010)\"], \n",
    "  \"textsrc\": \"bryanb0102:26:35e241\", \n",
    "  \"type\": \"scatter\", \n",
    "  \"uid\": \"370aaa\", \n",
    "  \"xsrc\": \"bryanb0102:26:ae7c04\", \n",
    "  \"ysrc\": \"bryanb0102:26:e52745\"\n",
    "}\n",
    "trace2 = {\n",
    "  \"x\": [\"Steven Seagal\", \"Steven Seagal\", \"Steven Seagal\", \"Steven Seagal\", \"Steven Seagal\", \"Steven Seagal\", \"Steven Seagal\", \"Steven Seagal\", \"Steven Seagal\", \"Steven Seagal\", \"Steven Seagal\", \"Steven Seagal\", \"Steven Seagal\", \"Steven Seagal\", \"Steven Seagal\", \"Steven Seagal\", \"Steven Seagal\", \"Steven Seagal\", \"Steven Seagal\", \"Steven Seagal\", \"Steven Seagal\", \"Steven Seagal\", \"Steven Seagal\", \"Steven Seagal\", \"Steven Seagal\", \"Steven Seagal\", \"Steven Seagal\", \"Steven Seagal\", \"Steven Seagal\", \"Steven Seagal\", \"Steven Seagal\", \"Steven Seagal\", \"Steven Seagal\", \"Steven Seagal\", \"Steven Seagal\", \"Steven Seagal\", \"Steven Seagal\", \"Steven Seagal\", \"Steven Seagal\", \"Steven Seagal\", \"Steven Seagal\", \"Steven Seagal\", \"Steven Seagal\", \"Steven Seagal\", \"Steven Seagal\", \"Steven Seagal\", \"Steven Seagal\", \"Steven Seagal\", \"Steven Seagal\", \"Steven Seagal\", \"Steven Seagal\", \"Steven Seagal\"], \n",
    "  \"y\": [\"2.9316476346\", \"2.9316476346\", \"3.3746614818\", \"3.3746614818\", \"2.6889023651\", \"2.7474275023\", \"2.7474275023\", \"3.1153686827\", \"3.1153686827\", \"3.1153686827\", \"3.1153686827\", \"2.4519112207\", \"2.4519112207\", \"2.6496598639\", \"2.8084507042\", \"2.8084507042\", \"2.8084507042\", \"2.2803738318\", \"1.9846938776\", \"1.9846938776\", \"1.9846938776\", \"2.6989619377\", \"2.778125\", \"2.778125\", \"2.778125\", \"1.3666666667\", \"1.45\", \"3.2172523962\", \"3.2172523962\", \"3.2172523962\", \"1.5263157895\", \"2.3846153846\", \"1.1153846154\", \"1.6041666667\", \"1.6041666667\", \"1.6041666667\", \"1.65625\", \"2.0869565217\", \"1.6764705882\", \"1.7692307692\", \"3.2919254658\", \"3.2919254658\", \"3.2919254658\", \"3.2919254658\", \"3.2919254658\", \"3.2919254658\", \"3.2919254658\", \"3.2919254658\", \"3.2919254658\", \"3.2919254658\", \"3.2919254658\", \"1.5333333333\"], \n",
    "  \"name\": \"rating\", \n",
    "  \"type\": \"box\", \n",
    "  \"uid\": \"56e860\", \n",
    "  \"xsrc\": \"bryanb0102:26:ae7c04\", \n",
    "  \"ysrc\": \"bryanb0102:26:e52745\"\n",
    "}\n",
    "trace3 = {\n",
    "  \"x\": [\"Tom Cruise\", \"Tom Cruise\", \"Tom Cruise\", \"Tom Cruise\", \"Tom Cruise\", \"Tom Cruise\", \"Tom Cruise\", \"Tom Cruise\", \"Tom Cruise\", \"Tom Cruise\", \"Tom Cruise\", \"Tom Cruise\", \"Tom Cruise\", \"Tom Cruise\", \"Tom Cruise\", \"Tom Cruise\", \"Tom Cruise\", \"Tom Cruise\", \"Tom Cruise\", \"Tom Cruise\", \"Tom Cruise\", \"Tom Cruise\", \"Tom Cruise\", \"Tom Cruise\", \"Tom Cruise\", \"Tom Cruise\", \"Tom Cruise\", \"Tom Cruise\", \"Tom Cruise\", \"Tom Cruise\", \"Tom Cruise\", \"Tom Cruise\", \"Tom Cruise\", \"Tom Cruise\", \"Tom Cruise\", \"Tom Cruise\", \"Tom Cruise\", \"Tom Cruise\", \"Tom Cruise\", \"Tom Cruise\", \"Tom Cruise\", \"Tom Cruise\", \"Tom Cruise\", \"Tom Cruise\", \"Tom Cruise\", \"Tom Cruise\", \"Tom Cruise\", \"Tom Cruise\", \"Tom Cruise\", \"Tom Cruise\", \"Tom Cruise\", \"Tom Cruise\", \"Tom Cruise\", \"Tom Cruise\", \"Tom Cruise\", \"Tom Cruise\", \"Tom Cruise\", \"Tom Cruise\", \"Tom Cruise\", \"Tom Cruise\", \"Tom Cruise\", \"Tom Cruise\", \"Tom Cruise\", \"Tom Cruise\", \"Tom Cruise\", \"Tom Cruise\", \"Tom Cruise\", \"Tom Cruise\", \"Tom Cruise\", \"Tom Cruise\", \"Tom Cruise\", \"Tom Cruise\", \"Tom Cruise\", \"Tom Cruise\", \"Tom Cruise\", \"Tom Cruise\", \"Tom Cruise\", \"Tom Cruise\", \"Tom Cruise\", \"Tom Cruise\", \"Tom Cruise\", \"Tom Cruise\", \"Tom Cruise\", \"Tom Cruise\", \"Tom Cruise\", \"Tom Cruise\", \"Tom Cruise\", \"Tom Cruise\", \"Tom Cruise\", \"Tom Cruise\", \"Tom Cruise\", \"Tom Cruise\", \"Tom Cruise\", \"Tom Cruise\", \"Tom Cruise\", \"Tom Cruise\", \"Tom Cruise\", \"Tom Cruise\", \"Tom Cruise\", \"Tom Cruise\", \"Tom Cruise\", \"Tom Cruise\", \"Tom Cruise\", \"Tom Cruise\", \"Tom Cruise\", \"Tom Cruise\", \"Tom Cruise\", \"Tom Cruise\", \"Tom Cruise\", \"Tom Cruise\", \"Tom Cruise\", \"Tom Cruise\", \"Tom Cruise\", \"Tom Cruise\", \"Tom Cruise\", \"Tom Cruise\", \"Tom Cruise\", \"Tom Cruise\", \"Tom Cruise\", \"Tom Cruise\", \"Tom Cruise\", \"Tom Cruise\", \"Tom Cruise\", \"Tom Cruise\", \"Tom Cruise\", \"Tom Cruise\", \"Tom Cruise\", \"Tom Cruise\", \"Tom Cruise\", \"Tom Cruise\", \"Tom Cruise\", \"Tom Cruise\", \"Tom Cruise\", \"Tom Cruise\", \"Tom Cruise\", \"Tom Cruise\", \"Tom Cruise\", \"Tom Cruise\", \"Tom Cruise\", \"Tom Cruise\", \"Tom Cruise\", \"Tom Cruise\", \"Tom Cruise\", \"Tom Cruise\", \"Tom Cruise\", \"Tom Cruise\", \"Tom Cruise\", \"Tom Cruise\", \"Tom Cruise\", \"Tom Cruise\", \"Tom Cruise\", \"Tom Cruise\", \"Tom Cruise\", \"Tom Cruise\", \"Tom Cruise\", \"Tom Cruise\", \"Tom Cruise\", \"Tom Cruise\", \"Tom Cruise\", \"Tom Cruise\", \"Tom Cruise\", \"Tom Cruise\", \"Tom Cruise\", \"Tom Cruise\", \"Tom Cruise\", \"Tom Cruise\", \"Tom Cruise\", \"Tom Cruise\", \"Tom Cruise\", \"Tom Cruise\", \"Tom Cruise\", \"Tom Cruise\", \"Tom Cruise\", \"Tom Cruise\", \"Tom Cruise\", \"Tom Cruise\", \"Tom Cruise\", \"Tom Cruise\", \"Tom Cruise\", \"Tom Cruise\", \"Tom Cruise\", \"Tom Cruise\", \"Tom Cruise\", \"Tom Cruise\", \"Tom Cruise\", \"Tom Cruise\", \"Tom Cruise\", \"Tom Cruise\", \"Tom Cruise\", \"Tom Cruise\", \"Tom Cruise\", \"Tom Cruise\", \"Tom Cruise\", \"Tom Cruise\", \"Tom Cruise\", \"Tom Cruise\", \"Tom Cruise\", \"Tom Cruise\", \"Tom Cruise\", \"Tom Cruise\", \"Tom Cruise\", \"Tom Cruise\", \"Tom Cruise\", \"Tom Cruise\", \"Tom Cruise\", \"Tom Cruise\", \"Tom Cruise\", \"Tom Cruise\", \"Tom Cruise\", \"Tom Cruise\", \"Tom Cruise\", \"Tom Cruise\", \"Tom Cruise\", \"Tom Cruise\", \"Tom Cruise\", \"Tom Cruise\", \"Tom Cruise\", \"Tom Cruise\", \"Tom Cruise\", \"Tom Cruise\", \"Tom Cruise\", \"Tom Cruise\", \"Tom Cruise\", \"Tom Cruise\", \"Tom Cruise\", \"Tom Cruise\", \"Tom Cruise\", \"Tom Cruise\", \"Tom Cruise\", \"Tom Cruise\", \"Tom Cruise\", \"Tom Cruise\", \"Tom Cruise\", \"Tom Cruise\", \"Tom Cruise\", \"Tom Cruise\", \"Tom Cruise\", \"Tom Cruise\", \"Tom Cruise\", \"Tom Cruise\", \"Tom Cruise\", \"Tom Cruise\", \"Tom Cruise\", \"Tom Cruise\", \"Tom Cruise\", \"Tom Cruise\", \"Tom Cruise\", \"Tom Cruise\", \"Tom Cruise\", \"Tom Cruise\", \"Tom Cruise\", \"Tom Cruise\", \"Tom Cruise\", \"Tom Cruise\", \"Tom Cruise\", \"Tom Cruise\", \"Tom Cruise\", \"Tom Cruise\", \"Tom Cruise\", \"Tom Cruise\", \"Tom Cruise\", \"Tom Cruise\", \"Tom Cruise\", \"Tom Cruise\", \"Tom Cruise\", \"Tom Cruise\", \"Tom Cruise\", \"Tom Cruise\", \"Tom Cruise\", \"Tom Cruise\", \"Tom Cruise\", \"Tom Cruise\", \"Tom Cruise\", \"Tom Cruise\", \"Tom Cruise\", \"Tom Cruise\", \"Tom Cruise\", \"Tom Cruise\", \"Tom Cruise\", \"Tom Cruise\", \"Tom Cruise\", \"Tom Cruise\", \"Tom Cruise\", \"Tom Cruise\", \"Tom Cruise\", \"Tom Cruise\", \"Tom Cruise\", \"Tom Cruise\", \"Tom Cruise\", \"Tom Cruise\", \"Tom Cruise\", \"Tom Cruise\", \"Tom Cruise\", \"Tom Cruise\", \"Tom Cruise\", \"Tom Cruise\", \"Tom Cruise\", \"Tom Cruise\", \"Tom Cruise\", \"Tom Cruise\", \"Tom Cruise\", \"Tom Cruise\", \"Tom Cruise\", \"Tom Cruise\", \"Tom Cruise\", \"Tom Cruise\", \"Tom Cruise\", \"Tom Cruise\", \"Tom Cruise\", \"Tom Cruise\", \"Tom Cruise\", \"Tom Cruise\", \"Tom Cruise\", \"Tom Cruise\", \"Tom Cruise\", \"Tom Cruise\", \"Tom Cruise\", \"Tom Cruise\", \"Tom Cruise\", \"Tom Cruise\", \"Tom Cruise\", \"Tom Cruise\", \"Tom Cruise\", \"Tom Cruise\", \"Tom Cruise\", \"Tom Cruise\", \"Tom Cruise\", \"Tom Cruise\", \"Tom Cruise\", \"Tom Cruise\", \"Tom Cruise\", \"Tom Cruise\", \"Tom Cruise\", \"Tom Cruise\", \"Tom Cruise\", \"Tom Cruise\", \"Tom Cruise\", \"Tom Cruise\", \"Tom Cruise\", \"Tom Cruise\", \"Tom Cruise\", \"Tom Cruise\", \"Tom Cruise\", \"Tom Cruise\", \"Tom Cruise\", \"Tom Cruise\", \"Tom Cruise\", \"Tom Cruise\", \"Tom Cruise\", \"Tom Cruise\", \"Tom Cruise\", \"Tom Cruise\", \"Tom Cruise\", \"Tom Cruise\", \"Tom Cruise\", \"Tom Cruise\", \"Tom Cruise\", \"Tom Cruise\", \"Tom Cruise\", \"Tom Cruise\", \"Tom Cruise\", \"Tom Cruise\", \"Tom Cruise\", \"Tom Cruise\", \"Tom Cruise\", \"Tom Cruise\", \"Tom Cruise\", \"Tom Cruise\", \"Tom Cruise\", \"Tom Cruise\", \"Tom Cruise\", \"Tom Cruise\", \"Tom Cruise\", \"Tom Cruise\", \"Tom Cruise\", \"Tom Cruise\", \"Tom Cruise\", \"Tom Cruise\", \"Tom Cruise\", \"Tom Cruise\", \"Tom Cruise\", \"Tom Cruise\", \"Tom Cruise\", \"Tom Cruise\", \"Tom Cruise\", \"Tom Cruise\", \"Tom Cruise\", \"Tom Cruise\", \"Tom Cruise\", \"Tom Cruise\", \"Tom Cruise\", \"Tom Cruise\", \"Tom Cruise\", \"Tom Cruise\", \"Tom Cruise\", \"Tom Cruise\", \"Tom Cruise\", \"Tom Cruise\", \"Tom Cruise\", \"Tom Cruise\", \"Tom Cruise\", \"Tom Cruise\", \"Tom Cruise\", \"Tom Cruise\", \"Tom Cruise\", \"Tom Cruise\", \"Tom Cruise\", \"Tom Cruise\", \"Tom Cruise\", \"Tom Cruise\", \"Tom Cruise\", \"Tom Cruise\", \"Tom Cruise\", \"Tom Cruise\", \"Tom Cruise\", \"Tom Cruise\", \"Tom Cruise\", \"Tom Cruise\", \"Tom Cruise\", \"Tom Cruise\", \"Tom Cruise\", \"Tom Cruise\", \"Tom Cruise\", \"Tom Cruise\", \"Tom Cruise\", \"Tom Cruise\", \"Tom Cruise\", \"Tom Cruise\", \"Tom Cruise\", \"Tom Cruise\", \"Tom Cruise\", \"Tom Cruise\", \"Tom Cruise\", \"Tom Cruise\", \"Tom Cruise\", \"Tom Cruise\", \"Tom Cruise\", \"Tom Cruise\", \"Tom Cruise\", \"Tom Cruise\", \"Tom Cruise\", \"Tom Cruise\", \"Tom Cruise\", \"Tom Cruise\", \"Tom Cruise\", \"Tom Cruise\", \"Tom Cruise\", \"Tom Cruise\", \"Tom Cruise\", \"Tom Cruise\", \"Tom Cruise\", \"Tom Cruise\", \"Tom Cruise\", \"Tom Cruise\", \"Tom Cruise\", \"Tom Cruise\", \"Tom Cruise\", \"Tom Cruise\", \"Tom Cruise\", \"Tom Cruise\", \"Tom Cruise\", \"Tom Cruise\", \"Tom Cruise\", \"Tom Cruise\", \"Tom Cruise\", \"Tom Cruise\", \"Tom Cruise\", \"Tom Cruise\", \"Tom Cruise\", \"Tom Cruise\", \"Tom Cruise\", \"Tom Cruise\", \"Tom Cruise\", \"Tom Cruise\", \"Tom Cruise\", \"Tom Cruise\", \"Tom Cruise\", \"Tom Cruise\", \"Tom Cruise\", \"Tom Cruise\", \"Tom Cruise\", \"Tom Cruise\", \"Tom Cruise\", \"Tom Cruise\", \"Tom Cruise\", \"Tom Cruise\", \"Tom Cruise\", \"Tom Cruise\", \"Tom Cruise\", \"Tom Cruise\", \"Tom Cruise\", \"Tom Cruise\", \"Tom Cruise\", \"Tom Cruise\", \"Tom Cruise\", \"Tom Cruise\", \"Tom Cruise\", \"Tom Cruise\", \"Tom Cruise\", \"Tom Cruise\", \"Tom Cruise\", \"Tom Cruise\", \"Tom Cruise\", \"Tom Cruise\", \"Tom Cruise\", \"Tom Cruise\", \"Tom Cruise\", \"Tom Cruise\", \"Tom Cruise\", \"Tom Cruise\", \"Tom Cruise\", \"Tom Cruise\", \"Tom Cruise\", \"Tom Cruise\", \"Tom Cruise\", \"Tom Cruise\", \"Tom Cruise\", \"Tom Cruise\", \"Tom Cruise\", \"Tom Cruise\", \"Tom Cruise\", \"Tom Cruise\", \"Tom Cruise\", \"Tom Cruise\", \"Tom Cruise\", \"Tom Cruise\", \"Tom Cruise\", \"Tom Cruise\", \"Tom Cruise\", \"Tom Cruise\", \"Tom Cruise\", \"Tom Cruise\", \"Tom Cruise\", \"Tom Cruise\", \"Tom Cruise\", \"Tom Cruise\", \"Tom Cruise\", \"Tom Cruise\", \"Tom Cruise\", \"Tom Cruise\", \"Tom Cruise\", \"Tom Cruise\", \"Tom Cruise\", \"Tom Cruise\", \"Tom Cruise\", \"Tom Cruise\", \"Tom Cruise\", \"Tom Cruise\", \"Tom Cruise\", \"Tom Cruise\", \"Tom Cruise\", \"Tom Cruise\", \"Tom Cruise\", \"Tom Cruise\", \"Tom Cruise\", \"Tom Cruise\", \"Tom Cruise\", \"Tom Cruise\", \"Tom Cruise\", \"Tom Cruise\", \"Tom Cruise\", \"Tom Cruise\", \"Tom Cruise\", \"Tom Cruise\", \"Tom Cruise\", \"Tom Cruise\", \"Tom Cruise\", \"Tom Cruise\", \"Tom Cruise\", \"Tom Cruise\", \"Tom Cruise\", \"Tom Cruise\", \"Tom Cruise\", \"Tom Cruise\", \"Tom Cruise\", \"Tom Cruise\", \"Tom Cruise\", \"Tom Cruise\", \"Tom Cruise\", \"Tom Cruise\", \"Tom Cruise\", \"Tom Cruise\", \"Tom Cruise\", \"Tom Cruise\", \"Tom Cruise\", \"Tom Cruise\", \"Tom Cruise\", \"Tom Cruise\", \"Tom Cruise\", \"Tom Cruise\", \"Tom Cruise\", \"Tom Cruise\", \"Tom Cruise\", \"Tom Cruise\", \"Tom Cruise\", \"Tom Cruise\", \"Tom Cruise\", \"Tom Cruise\", \"Tom Cruise\", \"Tom Cruise\", \"Tom Cruise\", \"Tom Cruise\", \"Tom Cruise\", \"Tom Cruise\", \"Tom Cruise\", \"Tom Cruise\", \"Tom Cruise\", \"Tom Cruise\", \"Tom Cruise\", \"Tom Cruise\", \"Tom Cruise\", \"Tom Cruise\", \"Tom Cruise\", \"Tom Cruise\", \"Tom Cruise\", \"Tom Cruise\", \"Tom Cruise\", \"Tom Cruise\", \"Tom Cruise\", \"Tom Cruise\", \"Tom Cruise\", \"Tom Cruise\", \"Tom Cruise\", \"Tom Cruise\", \"Tom Cruise\", \"Tom Cruise\", \"Tom Cruise\", \"Tom Cruise\", \"Tom Cruise\", \"Tom Cruise\", \"Tom Cruise\", \"Tom Cruise\", \"Tom Cruise\", \"Tom Cruise\", \"Tom Cruise\", \"Tom Cruise\", \"Tom Cruise\", \"Tom Cruise\", \"Tom Cruise\", \"Tom Cruise\", \"Tom Cruise\", \"Tom Cruise\", \"Tom Cruise\", \"Tom Cruise\", \"Tom Cruise\", \"Tom Cruise\", \"Tom Cruise\", \"Tom Cruise\", \"Tom Cruise\", \"Tom Cruise\", \"Tom Cruise\", \"Tom Cruise\", \"Tom Cruise\", \"Tom Cruise\", \"Tom Cruise\", \"Tom Cruise\", \"Tom Cruise\"], \n",
    "  \"y\": [\"3.5019296811\", \"3.5019296811\", \"3.5019296811\", \"3.5019296811\", \"3.5019296811\", \"3.5019296811\", \"3.5019296811\", \"3.5019296811\", \"3.5019296811\", \"3.5019296811\", \"3.5019296811\", \"3.5019296811\", \"3.5019296811\", \"3.5019296811\", \"3.5019296811\", \"3.5019296811\", \"3.5019296811\", \"3.5019296811\", \"3.3556346289\", \"3.3556346289\", \"3.5019188596\", \"3.5019188596\", \"3.5019188596\", \"3.5019188596\", \"3.5019188596\", \"3.5019188596\", \"3.5019188596\", \"3.5019188596\", \"3.5019188596\", \"3.5019188596\", \"3.5019188596\", \"3.4001495886\", \"3.4001495886\", \"3.4001495886\", \"3.4001495886\", \"3.4001495886\", \"3.4001495886\", \"3.4001495886\", \"3.4001495886\", \"3.4001495886\", \"3.4001495886\", \"3.4001495886\", \"3.4001495886\", \"3.4001495886\", \"3.4001495886\", \"3.4001495886\", \"3.4001495886\", \"3.4001495886\", \"3.4001495886\", \"3.4001495886\", \"3.4001495886\", \"3.4001495886\", \"3.4001495886\", \"3.4001495886\", \"3.4001495886\", \"3.4001495886\", \"3.4001495886\", \"3.4001495886\", \"3.4001495886\", \"3.4001495886\", \"3.4001495886\", \"3.4001495886\", \"3.4001495886\", \"3.4001495886\", \"3.4001495886\", \"2.8582280505\", \"3.4115241636\", \"3.4115241636\", \"3.4115241636\", \"3.4115241636\", \"3.4115241636\", \"3.4115241636\", \"3.4115241636\", \"3.4115241636\", \"3.4115241636\", \"3.4115241636\", \"3.4115241636\", \"3.4115241636\", \"3.4115241636\", \"3.4115241636\", \"3.4115241636\", \"3.4115241636\", \"3.4115241636\", \"3.4115241636\", \"3.4115241636\", \"3.6096094901\", \"3.6096094901\", \"3.6096094901\", \"3.6096094901\", \"3.6096094901\", \"3.6096094901\", \"3.6096094901\", \"3.6096094901\", \"3.6096094901\", \"3.6096094901\", \"3.6096094901\", \"3.6096094901\", \"3.6096094901\", \"3.6096094901\", \"3.6096094901\", \"3.6096094901\", \"3.6096094901\", \"3.6096094901\", \"3.9116602687\", \"3.9116602687\", \"3.9116602687\", \"3.9116602687\", \"3.9116602687\", \"3.9116602687\", \"3.9116602687\", \"3.9116602687\", \"3.9116602687\", \"3.9116602687\", \"3.9116602687\", \"3.9116602687\", \"3.9116602687\", \"3.9116602687\", \"3.9116602687\", \"3.9116602687\", \"3.9116602687\", \"3.9116602687\", \"3.9116602687\", \"3.9116602687\", \"3.9116602687\", \"3.9116602687\", \"3.9116602687\", \"3.9116602687\", \"3.9116602687\", \"3.9116602687\", \"3.2847643828\", \"3.2847643828\", \"3.2847643828\", \"3.2847643828\", \"3.2847643828\", \"3.2847643828\", \"3.8118471765\", \"3.8118471765\", \"3.8118471765\", \"3.8118471765\", \"3.8118471765\", \"3.8118471765\", \"3.8118471765\", \"3.8118471765\", \"3.8118471765\", \"3.8118471765\", \"3.8118471765\", \"3.8118471765\", \"3.8118471765\", \"3.8118471765\", \"3.8118471765\", \"3.8118471765\", \"3.8118471765\", \"3.8118471765\", \"3.8118471765\", \"3.8118471765\", \"3.8118471765\", \"3.4339356296\", \"3.2328912171\", \"3.2328912171\", \"3.2328912171\", \"3.2328912171\", \"3.2328912171\", \"3.2328912171\", \"3.2328912171\", \"3.2328912171\", \"3.2328912171\", \"3.2328912171\", \"3.2328912171\", \"3.2328912171\", \"3.2328912171\", \"3.2328912171\", \"3.2328912171\", \"3.2328912171\", \"3.2328912171\", \"3.2328912171\", \"3.2328912171\", \"3.2328912171\", \"3.2328912171\", \"3.2328912171\", \"3.2328912171\", \"3.2328912171\", \"3.4914179104\", \"3.4914179104\", \"3.4914179104\", \"3.4914179104\", \"3.4914179104\", \"3.8583661274\", \"3.8583661274\", \"3.8583661274\", \"3.8583661274\", \"3.8583661274\", \"3.8583661274\", \"3.8583661274\", \"3.8583661274\", \"3.8583661274\", \"3.8583661274\", \"3.8583661274\", \"3.8583661274\", \"3.8583661274\", \"3.8583661274\", \"3.8583661274\", \"3.8583661274\", \"3.8583661274\", \"3.8583661274\", \"3.8583661274\", \"3.8583661274\", \"3.8583661274\", \"3.8583661274\", \"3.8583661274\", \"3.8583661274\", \"3.2845169156\", \"3.2845169156\", \"3.2845169156\", \"3.2845169156\", \"2.9744713515\", \"2.9744713515\", \"2.9744713515\", \"2.9744713515\", \"2.9744713515\", \"2.9744713515\", \"2.9744713515\", \"2.9744713515\", \"2.9744713515\", \"2.9744713515\", \"2.9744713515\", \"2.9744713515\", \"2.9744713515\", \"2.9744713515\", \"2.9744713515\", \"2.9744713515\", \"2.9744713515\", \"2.9744713515\", \"3.4417015649\", \"3.4417015649\", \"3.4417015649\", \"3.4417015649\", \"2.8099652375\", \"2.8099652375\", \"2.8099652375\", \"3.3829509672\", \"3.3829509672\", \"3.3829509672\", \"3.3829509672\", \"3.3829509672\", \"3.3829509672\", \"3.3829509672\", \"3.3829509672\", \"3.3829509672\", \"3.3829509672\", \"3.3829509672\", \"3.3829509672\", \"3.3829509672\", \"3.3829509672\", \"3.3829509672\", \"3.3829509672\", \"3.3829509672\", \"3.3829509672\", \"3.3829509672\", \"3.3829509672\", \"3.3829509672\", \"3.3829509672\", \"3.3829509672\", \"3.3829509672\", \"3.3829509672\", \"3.3829509672\", \"3.3829509672\", \"3.3829509672\", \"3.3829509672\", \"3.6742125669\", \"3.6742125669\", \"3.6742125669\", \"3.6742125669\", \"3.6742125669\", \"3.6742125669\", \"3.6742125669\", \"3.6742125669\", \"3.6742125669\", \"3.6742125669\", \"3.6742125669\", \"3.6742125669\", \"3.6742125669\", \"3.6742125669\", \"3.6742125669\", \"3.6742125669\", \"3.6742125669\", \"3.6742125669\", \"3.6742125669\", \"3.6742125669\", \"3.6742125669\", \"3.6742125669\", \"3.6742125669\", \"3.6742125669\", \"3.6742125669\", \"3.6742125669\", \"3.6742125669\", \"3.6742125669\", \"3.6742125669\", \"3.6742125669\", \"3.6742125669\", \"3.6742125669\", \"3.6742125669\", \"3.6742125669\", \"3.6742125669\", \"3.6742125669\", \"3.6742125669\", \"3.6742125669\", \"3.6742125669\", \"3.6742125669\", \"3.6742125669\", \"3.6742125669\", \"3.6742125669\", \"3.6742125669\", \"3.6742125669\", \"3.6742125669\", \"3.6742125669\", \"3.6742125669\", \"3.6742125669\", \"3.6742125669\", \"3.6742125669\", \"3.6742125669\", \"3.6742125669\", \"3.6742125669\", \"3.6742125669\", \"3.6742125669\", \"3.6742125669\", \"3.6742125669\", \"3.6742125669\", \"3.6742125669\", \"3.6742125669\", \"3.6742125669\", \"3.6735783543\", \"3.6735783543\", \"3.6735783543\", \"3.6735783543\", \"3.6735783543\", \"3.6735783543\", \"3.6735783543\", \"3.6735783543\", \"3.6735783543\", \"3.6735783543\", \"3.6735783543\", \"3.6735783543\", \"3.6735783543\", \"3.6735783543\", \"3.6735783543\", \"3.6735783543\", \"3.6735783543\", \"3.6735783543\", \"3.6735783543\", \"3.6735783543\", \"3.6735783543\", \"3.6735783543\", \"3.6735783543\", \"3.6735783543\", \"3.6735783543\", \"3.6735783543\", \"3.6735783543\", \"3.6877860412\", \"3.6877860412\", \"3.6877860412\", \"3.6877860412\", \"3.6877860412\", \"3.6877860412\", \"3.6877860412\", \"3.6877860412\", \"3.6877860412\", \"3.6877860412\", \"3.6877860412\", \"3.6877860412\", \"3.6877860412\", \"3.6877860412\", \"3.6877860412\", \"3.127077667\", \"3.127077667\", \"3.127077667\", \"3.127077667\", \"3.127077667\", \"3.127077667\", \"3.127077667\", \"3.127077667\", \"3.127077667\", \"3.127077667\", \"3.127077667\", \"3.127077667\", \"3.127077667\", \"3.127077667\", \"3.127077667\", \"3.127077667\", \"3.127077667\", \"3.127077667\", \"3.127077667\", \"3.127077667\", \"3.127077667\", \"3.127077667\", \"3.127077667\", \"3.127077667\", \"3.127077667\", \"3.127077667\", \"3.127077667\", \"3.127077667\", \"3.127077667\", \"3.127077667\", \"3.127077667\", \"3.127077667\", \"3.127077667\", \"3.127077667\", \"3.127077667\", \"3.127077667\", \"3.127077667\", \"3.127077667\", \"3.3419307296\", \"3.3419307296\", \"3.3419307296\", \"3.3419307296\", \"3.3419307296\", \"3.3419307296\", \"3.3419307296\", \"3.3419307296\", \"3.3419307296\", \"3.3419307296\", \"3.3419307296\", \"3.3419307296\", \"3.3419307296\", \"3.3419307296\", \"3.3419307296\", \"3.3419307296\", \"3.3419307296\", \"3.3419307296\", \"3.3419307296\", \"2.9721518987\", \"3.3735313316\", \"3.3735313316\", \"3.3735313316\", \"3.3735313316\", \"3.3735313316\", \"3.3735313316\", \"3.3735313316\", \"3.3735313316\", \"3.3735313316\", \"3.3735313316\", \"3.3735313316\", \"3.3735313316\", \"3.3735313316\", \"3.3735313316\", \"3.3735313316\", \"3.3735313316\", \"3.3735313316\", \"3.3735313316\", \"3.3735313316\", \"3.3735313316\", \"3.3735313316\", \"3.3735313316\", \"3.3735313316\", \"3.3735313316\", \"3.4624756335\", \"3.4624756335\", \"3.4624756335\", \"3.4624756335\", \"3.4624756335\", \"3.4624756335\", \"3.4624756335\", \"3.4624756335\", \"3.4624756335\", \"3.4624756335\", \"3.4624756335\", \"3.4624756335\", \"3.4624756335\", \"3.4624756335\", \"3.4624756335\", \"3.4624756335\", \"3.2609693878\", \"3.2609693878\", \"3.2609693878\", \"3.2609693878\", \"3.2609693878\", \"3.2609693878\", \"3.2609693878\", \"3.2609693878\", \"3.2609693878\", \"3.2609693878\", \"3.2609693878\", \"3.2609693878\", \"3.2609693878\", \"3.2609693878\", \"3.2609693878\", \"3.2609693878\", \"3.2609693878\", \"3.2609693878\", \"3.2609693878\", \"3.2609693878\", \"3.2609693878\", \"3.6417381574\", \"3.6417381574\", \"3.6417381574\", \"3.6417381574\", \"3.6417381574\", \"3.6417381574\", \"3.6417381574\", \"3.6417381574\", \"3.6417381574\", \"3.6417381574\", \"3.6417381574\", \"3.6417381574\", \"3.6417381574\", \"3.6417381574\", \"3.6417381574\", \"3.6417381574\", \"3.6417381574\", \"3.6417381574\", \"3.6417381574\", \"3.6417381574\", \"3.6417381574\", \"3.6417381574\", \"3.6417381574\", \"3.6417381574\", \"2.9264705882\", \"3.5049869905\", \"3.5049869905\", \"3.5049869905\", \"3.5049869905\", \"3.5049869905\", \"3.5049869905\", \"3.5049869905\", \"3.5049869905\", \"3.5049869905\", \"3.5049869905\", \"3.5049869905\", \"3.5049869905\", \"3.5049869905\", \"3.5049869905\", \"3.5049869905\", \"3.5049869905\", \"3.5049869905\", \"3.6073679108\", \"3.6073679108\", \"3.6073679108\", \"3.6073679108\", \"3.6073679108\", \"3.6073679108\", \"3.6073679108\", \"3.6073679108\", \"3.6073679108\", \"3.6073679108\", \"3.6073679108\", \"3.6073679108\", \"3.6073679108\", \"3.6073679108\", \"3.6073679108\", \"3.6073679108\", \"3.6073679108\", \"3.6073679108\", \"3.6073679108\", \"3.6073679108\", \"3.6073679108\", \"3.6073679108\", \"3.6073679108\", \"3.6073679108\", \"3.6073679108\", \"3.6073679108\", \"3.6073679108\", \"3.6073679108\", \"3.6073679108\", \"3.6073679108\", \"3.6073679108\", \"3.6073679108\", \"3.6073679108\", \"3.6073679108\", \"3.6073679108\", \"3.6073679108\", \"3.6073679108\", \"3.6073679108\", \"3.6073679108\", \"3.6073679108\", \"3.9336861768\", \"3.9336861768\", \"3.9336861768\", \"3.9336861768\", \"3.9336861768\", \"3.9336861768\", \"3.9336861768\", \"3.9336861768\", \"3.9336861768\", \"3.9336861768\", \"3.9336861768\", \"3.9336861768\", \"3.9336861768\", \"3.9336861768\", \"3.9336861768\", \"3.9336861768\", \"3.9336861768\", \"3.9336861768\", \"3.9336861768\", \"3.9336861768\", \"3.9336861768\", \"3.9336861768\", \"3.9336861768\", \"3.9336861768\", \"3.9336861768\", \"3.9336861768\", \"3.9336861768\", \"3.9336861768\", \"3.9336861768\", \"3.9336861768\", \"3.9336861768\", \"3.9336861768\", \"3.9336861768\", \"3.9336861768\", \"3.9336861768\", \"3.9336861768\", \"3.9336861768\", \"3.9336861768\", \"3.9336861768\", \"3.9336861768\", \"3.9336861768\", \"3.9336861768\", \"3.9336861768\", \"3.9336861768\", \"3.9336861768\", \"3.9336861768\", \"3.9336861768\", \"3.9336861768\", \"3.9336861768\", \"3.9336861768\", \"3.9336861768\", \"3.9336861768\", \"3.9336861768\", \"3.9336861768\", \"3.9336861768\", \"3.9336861768\", \"3.9336861768\", \"3.9336861768\", \"3.9336861768\", \"3.9336861768\", \"3.9336861768\", \"3.9336861768\", \"3.6094598913\", \"3.6094598913\", \"3.6094598913\", \"3.6094598913\", \"3.6094598913\", \"3.6094598913\", \"3.6094598913\", \"3.6094598913\", \"3.6094598913\", \"3.6094598913\", \"3.6094598913\", \"3.6094598913\", \"3.6094598913\", \"3.6094598913\", \"3.6094598913\", \"3.6094598913\", \"3.6094598913\", \"3.6094598913\", \"3.6094598913\", \"3.6094598913\", \"2.6302521008\", \"2.6302521008\"], \n",
    "  \"mode\": \"markers\", \n",
    "  \"name\": \"rating\", \n",
    "  \"text\": [\"Under Siege 2: Dark Territory (1995)\", \"Under Siege 2: Dark Territory (1995)\", \"Executive Decision (1996)\", \"Executive Decision (1996)\", \"Glimmer Man, The (1996)\", \"Marked for Death (1990)\", \"Marked for Death (1990)\", \"Under Siege (1992)\", \"Under Siege (1992)\", \"Under Siege (1992)\", \"Under Siege (1992)\", \"Fire Down Below (1997)\", \"Fire Down Below (1997)\", \"Exit Wounds (2001)\", \"Above the Law (1988)\", \"Above the Law (1988)\", \"Above the Law (1988)\", \"Half Past Dead (2002)\", \"On Deadly Ground (1994)\", \"On Deadly Ground (1994)\", \"On Deadly Ground (1994)\", \"Hard to Kill (1990)\", \"Out for Justice (1991)\", \"Out for Justice (1991)\", \"Out for Justice (1991)\", \"Mercenary for Justice (2006)\", \"Black Dawn (2005)\", \"Onion Movie, The (2008)\", \"Onion Movie, The (2008)\", \"Onion Movie, The (2008)\", \"Against the Dark (2009)\", \"Pistol Whipped (2008)\", \"Flight of Fury (2007)\", \"Urban Justice (2007)\", \"Urban Justice (2007)\", \"Urban Justice (2007)\", \"Attack Force (2006)\", \"Shadow Man (2006)\", \"Today You Die (2005)\", \"Submerged (2005)\", \"Machete (2010)\", \"Machete (2010)\", \"Machete (2010)\", \"Machete (2010)\", \"Machete (2010)\", \"Machete (2010)\", \"Machete (2010)\", \"Machete (2010)\", \"Machete (2010)\", \"Machete (2010)\", \"Machete (2010)\", \"Born to Raise Hell (2010)\"], \n",
    "  \"textsrc\": \"bryanb0102:26:35e241\", \n",
    "  \"type\": \"scatter\", \n",
    "  \"uid\": \"eb77a9\", \n",
    "  \"xsrc\": \"bryanb0102:28:0fbab1\", \n",
    "  \"ysrc\": \"bryanb0102:28:1df5c1\"\n",
    "}\n",
    "trace4 = {\n",
    "  \"x\": [\"Tom Cruise\", \"Tom Cruise\", \"Tom Cruise\", \"Tom Cruise\", \"Tom Cruise\", \"Tom Cruise\", \"Tom Cruise\", \"Tom Cruise\", \"Tom Cruise\", \"Tom Cruise\", \"Tom Cruise\", \"Tom Cruise\", \"Tom Cruise\", \"Tom Cruise\", \"Tom Cruise\", \"Tom Cruise\", \"Tom Cruise\", \"Tom Cruise\", \"Tom Cruise\", \"Tom Cruise\", \"Tom Cruise\", \"Tom Cruise\", \"Tom Cruise\", \"Tom Cruise\", \"Tom Cruise\", \"Tom Cruise\", \"Tom Cruise\", \"Tom Cruise\", \"Tom Cruise\", \"Tom Cruise\", \"Tom Cruise\", \"Tom Cruise\", \"Tom Cruise\", \"Tom Cruise\", \"Tom Cruise\", \"Tom Cruise\", \"Tom Cruise\", \"Tom Cruise\", \"Tom Cruise\", \"Tom Cruise\", \"Tom Cruise\", \"Tom Cruise\", \"Tom Cruise\", \"Tom Cruise\", \"Tom Cruise\", \"Tom Cruise\", \"Tom Cruise\", \"Tom Cruise\", \"Tom Cruise\", \"Tom Cruise\", \"Tom Cruise\", \"Tom Cruise\", \"Tom Cruise\", \"Tom Cruise\", \"Tom Cruise\", \"Tom Cruise\", \"Tom Cruise\", \"Tom Cruise\", \"Tom Cruise\", \"Tom Cruise\", \"Tom Cruise\", \"Tom Cruise\", \"Tom Cruise\", \"Tom Cruise\", \"Tom Cruise\", \"Tom Cruise\", \"Tom Cruise\", \"Tom Cruise\", \"Tom Cruise\", \"Tom Cruise\", \"Tom Cruise\", \"Tom Cruise\", \"Tom Cruise\", \"Tom Cruise\", \"Tom Cruise\", \"Tom Cruise\", \"Tom Cruise\", \"Tom Cruise\", \"Tom Cruise\", \"Tom Cruise\", \"Tom Cruise\", \"Tom Cruise\", \"Tom Cruise\", \"Tom Cruise\", \"Tom Cruise\", \"Tom Cruise\", \"Tom Cruise\", \"Tom Cruise\", \"Tom Cruise\", \"Tom Cruise\", \"Tom Cruise\", \"Tom Cruise\", \"Tom Cruise\", \"Tom Cruise\", \"Tom Cruise\", \"Tom Cruise\", \"Tom Cruise\", \"Tom Cruise\", \"Tom Cruise\", \"Tom Cruise\", \"Tom Cruise\", \"Tom Cruise\", \"Tom Cruise\", \"Tom Cruise\", \"Tom Cruise\", \"Tom Cruise\", \"Tom Cruise\", \"Tom Cruise\", \"Tom Cruise\", \"Tom Cruise\", \"Tom Cruise\", \"Tom Cruise\", \"Tom Cruise\", \"Tom Cruise\", \"Tom Cruise\", \"Tom Cruise\", \"Tom Cruise\", \"Tom Cruise\", \"Tom Cruise\", \"Tom Cruise\", \"Tom Cruise\", \"Tom Cruise\", \"Tom Cruise\", \"Tom Cruise\", \"Tom Cruise\", \"Tom Cruise\", \"Tom Cruise\", \"Tom Cruise\", \"Tom Cruise\", \"Tom Cruise\", \"Tom Cruise\", \"Tom Cruise\", \"Tom Cruise\", \"Tom Cruise\", \"Tom Cruise\", \"Tom Cruise\", \"Tom Cruise\", \"Tom Cruise\", \"Tom Cruise\", \"Tom Cruise\", \"Tom Cruise\", \"Tom Cruise\", \"Tom Cruise\", \"Tom Cruise\", \"Tom Cruise\", \"Tom Cruise\", \"Tom Cruise\", \"Tom Cruise\", \"Tom Cruise\", \"Tom Cruise\", \"Tom Cruise\", \"Tom Cruise\", \"Tom Cruise\", \"Tom Cruise\", \"Tom Cruise\", \"Tom Cruise\", \"Tom Cruise\", \"Tom Cruise\", \"Tom Cruise\", \"Tom Cruise\", \"Tom Cruise\", \"Tom Cruise\", \"Tom Cruise\", \"Tom Cruise\", \"Tom Cruise\", \"Tom Cruise\", \"Tom Cruise\", \"Tom Cruise\", \"Tom Cruise\", \"Tom Cruise\", \"Tom Cruise\", \"Tom Cruise\", \"Tom Cruise\", \"Tom Cruise\", \"Tom Cruise\", \"Tom Cruise\", \"Tom Cruise\", \"Tom Cruise\", \"Tom Cruise\", \"Tom Cruise\", \"Tom Cruise\", \"Tom Cruise\", \"Tom Cruise\", \"Tom Cruise\", \"Tom Cruise\", \"Tom Cruise\", \"Tom Cruise\", \"Tom Cruise\", \"Tom Cruise\", \"Tom Cruise\", \"Tom Cruise\", \"Tom Cruise\", \"Tom Cruise\", \"Tom Cruise\", \"Tom Cruise\", \"Tom Cruise\", \"Tom Cruise\", \"Tom Cruise\", \"Tom Cruise\", \"Tom Cruise\", \"Tom Cruise\", \"Tom Cruise\", \"Tom Cruise\", \"Tom Cruise\", \"Tom Cruise\", \"Tom Cruise\", \"Tom Cruise\", \"Tom Cruise\", \"Tom Cruise\", \"Tom Cruise\", \"Tom Cruise\", \"Tom Cruise\", \"Tom Cruise\", \"Tom Cruise\", \"Tom Cruise\", \"Tom Cruise\", \"Tom Cruise\", \"Tom Cruise\", \"Tom Cruise\", \"Tom Cruise\", \"Tom Cruise\", \"Tom Cruise\", \"Tom Cruise\", \"Tom Cruise\", \"Tom Cruise\", \"Tom Cruise\", \"Tom Cruise\", \"Tom Cruise\", \"Tom Cruise\", \"Tom Cruise\", \"Tom Cruise\", \"Tom Cruise\", \"Tom Cruise\", \"Tom Cruise\", \"Tom Cruise\", \"Tom Cruise\", \"Tom Cruise\", \"Tom Cruise\", \"Tom Cruise\", \"Tom Cruise\", \"Tom Cruise\", \"Tom Cruise\", \"Tom Cruise\", \"Tom Cruise\", \"Tom Cruise\", \"Tom Cruise\", \"Tom Cruise\", \"Tom Cruise\", \"Tom Cruise\", \"Tom Cruise\", \"Tom Cruise\", \"Tom Cruise\", \"Tom Cruise\", \"Tom Cruise\", \"Tom Cruise\", \"Tom Cruise\", \"Tom Cruise\", \"Tom Cruise\", \"Tom Cruise\", \"Tom Cruise\", \"Tom Cruise\", \"Tom Cruise\", \"Tom Cruise\", \"Tom Cruise\", \"Tom Cruise\", \"Tom Cruise\", \"Tom Cruise\", \"Tom Cruise\", \"Tom Cruise\", \"Tom Cruise\", \"Tom Cruise\", \"Tom Cruise\", \"Tom Cruise\", \"Tom Cruise\", \"Tom Cruise\", \"Tom Cruise\", \"Tom Cruise\", \"Tom Cruise\", \"Tom Cruise\", \"Tom Cruise\", \"Tom Cruise\", \"Tom Cruise\", \"Tom Cruise\", \"Tom Cruise\", \"Tom Cruise\", \"Tom Cruise\", \"Tom Cruise\", \"Tom Cruise\", \"Tom Cruise\", \"Tom Cruise\", \"Tom Cruise\", \"Tom Cruise\", \"Tom Cruise\", \"Tom Cruise\", \"Tom Cruise\", \"Tom Cruise\", \"Tom Cruise\", \"Tom Cruise\", \"Tom Cruise\", \"Tom Cruise\", \"Tom Cruise\", \"Tom Cruise\", \"Tom Cruise\", \"Tom Cruise\", \"Tom Cruise\", \"Tom Cruise\", \"Tom Cruise\", \"Tom Cruise\", \"Tom Cruise\", \"Tom Cruise\", \"Tom Cruise\", \"Tom Cruise\", \"Tom Cruise\", \"Tom Cruise\", \"Tom Cruise\", \"Tom Cruise\", \"Tom Cruise\", \"Tom Cruise\", \"Tom Cruise\", \"Tom Cruise\", \"Tom Cruise\", \"Tom Cruise\", \"Tom Cruise\", \"Tom Cruise\", \"Tom Cruise\", \"Tom Cruise\", \"Tom Cruise\", \"Tom Cruise\", \"Tom Cruise\", \"Tom Cruise\", \"Tom Cruise\", \"Tom Cruise\", \"Tom Cruise\", \"Tom Cruise\", \"Tom Cruise\", \"Tom Cruise\", \"Tom Cruise\", \"Tom Cruise\", \"Tom Cruise\", \"Tom Cruise\", \"Tom Cruise\", \"Tom Cruise\", \"Tom Cruise\", \"Tom Cruise\", \"Tom Cruise\", \"Tom Cruise\", \"Tom Cruise\", \"Tom Cruise\", \"Tom Cruise\", \"Tom Cruise\", \"Tom Cruise\", \"Tom Cruise\", \"Tom Cruise\", \"Tom Cruise\", \"Tom Cruise\", \"Tom Cruise\", \"Tom Cruise\", \"Tom Cruise\", \"Tom Cruise\", \"Tom Cruise\", \"Tom Cruise\", \"Tom Cruise\", \"Tom Cruise\", \"Tom Cruise\", \"Tom Cruise\", \"Tom Cruise\", \"Tom Cruise\", \"Tom Cruise\", \"Tom Cruise\", \"Tom Cruise\", \"Tom Cruise\", \"Tom Cruise\", \"Tom Cruise\", \"Tom Cruise\", \"Tom Cruise\", \"Tom Cruise\", \"Tom Cruise\", \"Tom Cruise\", \"Tom Cruise\", \"Tom Cruise\", \"Tom Cruise\", \"Tom Cruise\", \"Tom Cruise\", \"Tom Cruise\", \"Tom Cruise\", \"Tom Cruise\", \"Tom Cruise\", \"Tom Cruise\", \"Tom Cruise\", \"Tom Cruise\", \"Tom Cruise\", \"Tom Cruise\", \"Tom Cruise\", \"Tom Cruise\", \"Tom Cruise\", \"Tom Cruise\", \"Tom Cruise\", \"Tom Cruise\", \"Tom Cruise\", \"Tom Cruise\", \"Tom Cruise\", \"Tom Cruise\", \"Tom Cruise\", \"Tom Cruise\", \"Tom Cruise\", \"Tom Cruise\", \"Tom Cruise\", \"Tom Cruise\", \"Tom Cruise\", \"Tom Cruise\", \"Tom Cruise\", \"Tom Cruise\", \"Tom Cruise\", \"Tom Cruise\", \"Tom Cruise\", \"Tom Cruise\", \"Tom Cruise\", \"Tom Cruise\", \"Tom Cruise\", \"Tom Cruise\", \"Tom Cruise\", \"Tom Cruise\", \"Tom Cruise\", \"Tom Cruise\", \"Tom Cruise\", \"Tom Cruise\", \"Tom Cruise\", \"Tom Cruise\", \"Tom Cruise\", \"Tom Cruise\", \"Tom Cruise\", \"Tom Cruise\", \"Tom Cruise\", \"Tom Cruise\", \"Tom Cruise\", \"Tom Cruise\", \"Tom Cruise\", \"Tom Cruise\", \"Tom Cruise\", \"Tom Cruise\", \"Tom Cruise\", \"Tom Cruise\", \"Tom Cruise\", \"Tom Cruise\", \"Tom Cruise\", \"Tom Cruise\", \"Tom Cruise\", \"Tom Cruise\", \"Tom Cruise\", \"Tom Cruise\", \"Tom Cruise\", \"Tom Cruise\", \"Tom Cruise\", \"Tom Cruise\", \"Tom Cruise\", \"Tom Cruise\", \"Tom Cruise\", \"Tom Cruise\", \"Tom Cruise\", \"Tom Cruise\", \"Tom Cruise\", \"Tom Cruise\", \"Tom Cruise\", \"Tom Cruise\", \"Tom Cruise\", \"Tom Cruise\", \"Tom Cruise\", \"Tom Cruise\", \"Tom Cruise\", \"Tom Cruise\", \"Tom Cruise\", \"Tom Cruise\", \"Tom Cruise\", \"Tom Cruise\", \"Tom Cruise\", \"Tom Cruise\", \"Tom Cruise\", \"Tom Cruise\", \"Tom Cruise\", \"Tom Cruise\", \"Tom Cruise\", \"Tom Cruise\", \"Tom Cruise\", \"Tom Cruise\", \"Tom Cruise\", \"Tom Cruise\", \"Tom Cruise\", \"Tom Cruise\", \"Tom Cruise\", \"Tom Cruise\", \"Tom Cruise\", \"Tom Cruise\", \"Tom Cruise\", \"Tom Cruise\", \"Tom Cruise\", \"Tom Cruise\", \"Tom Cruise\", \"Tom Cruise\", \"Tom Cruise\", \"Tom Cruise\", \"Tom Cruise\", \"Tom Cruise\", \"Tom Cruise\", \"Tom Cruise\", \"Tom Cruise\", \"Tom Cruise\", \"Tom Cruise\", \"Tom Cruise\", \"Tom Cruise\", \"Tom Cruise\", \"Tom Cruise\", \"Tom Cruise\", \"Tom Cruise\", \"Tom Cruise\", \"Tom Cruise\", \"Tom Cruise\", \"Tom Cruise\", \"Tom Cruise\", \"Tom Cruise\", \"Tom Cruise\", \"Tom Cruise\", \"Tom Cruise\", \"Tom Cruise\", \"Tom Cruise\", \"Tom Cruise\", \"Tom Cruise\", \"Tom Cruise\", \"Tom Cruise\", \"Tom Cruise\", \"Tom Cruise\", \"Tom Cruise\", \"Tom Cruise\", \"Tom Cruise\", \"Tom Cruise\", \"Tom Cruise\", \"Tom Cruise\", \"Tom Cruise\", \"Tom Cruise\", \"Tom Cruise\", \"Tom Cruise\", \"Tom Cruise\", \"Tom Cruise\", \"Tom Cruise\", \"Tom Cruise\", \"Tom Cruise\", \"Tom Cruise\", \"Tom Cruise\", \"Tom Cruise\", \"Tom Cruise\", \"Tom Cruise\", \"Tom Cruise\", \"Tom Cruise\", \"Tom Cruise\", \"Tom Cruise\", \"Tom Cruise\", \"Tom Cruise\", \"Tom Cruise\", \"Tom Cruise\", \"Tom Cruise\", \"Tom Cruise\", \"Tom Cruise\", \"Tom Cruise\", \"Tom Cruise\", \"Tom Cruise\", \"Tom Cruise\", \"Tom Cruise\", \"Tom Cruise\", \"Tom Cruise\", \"Tom Cruise\", \"Tom Cruise\", \"Tom Cruise\", \"Tom Cruise\", \"Tom Cruise\", \"Tom Cruise\", \"Tom Cruise\", \"Tom Cruise\", \"Tom Cruise\", \"Tom Cruise\", \"Tom Cruise\", \"Tom Cruise\", \"Tom Cruise\", \"Tom Cruise\", \"Tom Cruise\", \"Tom Cruise\", \"Tom Cruise\", \"Tom Cruise\", \"Tom Cruise\", \"Tom Cruise\", \"Tom Cruise\", \"Tom Cruise\", \"Tom Cruise\", \"Tom Cruise\", \"Tom Cruise\", \"Tom Cruise\", \"Tom Cruise\", \"Tom Cruise\", \"Tom Cruise\", \"Tom Cruise\", \"Tom Cruise\", \"Tom Cruise\", \"Tom Cruise\", \"Tom Cruise\", \"Tom Cruise\", \"Tom Cruise\", \"Tom Cruise\", \"Tom Cruise\", \"Tom Cruise\", \"Tom Cruise\", \"Tom Cruise\", \"Tom Cruise\", \"Tom Cruise\", \"Tom Cruise\", \"Tom Cruise\", \"Tom Cruise\", \"Tom Cruise\", \"Tom Cruise\", \"Tom Cruise\", \"Tom Cruise\", \"Tom Cruise\", \"Tom Cruise\", \"Tom Cruise\", \"Tom Cruise\", \"Tom Cruise\", \"Tom Cruise\", \"Tom Cruise\", \"Tom Cruise\", \"Tom Cruise\", \"Tom Cruise\", \"Tom Cruise\", \"Tom Cruise\", \"Tom Cruise\", \"Tom Cruise\", \"Tom Cruise\", \"Tom Cruise\", \"Tom Cruise\", \"Tom Cruise\", \"Tom Cruise\", \"Tom Cruise\", \"Tom Cruise\", \"Tom Cruise\", \"Tom Cruise\", \"Tom Cruise\", \"Tom Cruise\", \"Tom Cruise\", \"Tom Cruise\", \"Tom Cruise\", \"Tom Cruise\", \"Tom Cruise\", \"Tom Cruise\", \"Tom Cruise\", \"Tom Cruise\", \"Tom Cruise\", \"Tom Cruise\", \"Tom Cruise\", \"Tom Cruise\", \"Tom Cruise\", \"Tom Cruise\"], \n",
    "  \"y\": [\"3.5019296811\", \"3.5019296811\", \"3.5019296811\", \"3.5019296811\", \"3.5019296811\", \"3.5019296811\", \"3.5019296811\", \"3.5019296811\", \"3.5019296811\", \"3.5019296811\", \"3.5019296811\", \"3.5019296811\", \"3.5019296811\", \"3.5019296811\", \"3.5019296811\", \"3.5019296811\", \"3.5019296811\", \"3.5019296811\", \"3.3556346289\", \"3.3556346289\", \"3.5019188596\", \"3.5019188596\", \"3.5019188596\", \"3.5019188596\", \"3.5019188596\", \"3.5019188596\", \"3.5019188596\", \"3.5019188596\", \"3.5019188596\", \"3.5019188596\", \"3.5019188596\", \"3.4001495886\", \"3.4001495886\", \"3.4001495886\", \"3.4001495886\", \"3.4001495886\", \"3.4001495886\", \"3.4001495886\", \"3.4001495886\", \"3.4001495886\", \"3.4001495886\", \"3.4001495886\", \"3.4001495886\", \"3.4001495886\", \"3.4001495886\", \"3.4001495886\", \"3.4001495886\", \"3.4001495886\", \"3.4001495886\", \"3.4001495886\", \"3.4001495886\", \"3.4001495886\", \"3.4001495886\", \"3.4001495886\", \"3.4001495886\", \"3.4001495886\", \"3.4001495886\", \"3.4001495886\", \"3.4001495886\", \"3.4001495886\", \"3.4001495886\", \"3.4001495886\", \"3.4001495886\", \"3.4001495886\", \"3.4001495886\", \"2.8582280505\", \"3.4115241636\", \"3.4115241636\", \"3.4115241636\", \"3.4115241636\", \"3.4115241636\", \"3.4115241636\", \"3.4115241636\", \"3.4115241636\", \"3.4115241636\", \"3.4115241636\", \"3.4115241636\", \"3.4115241636\", \"3.4115241636\", \"3.4115241636\", \"3.4115241636\", \"3.4115241636\", \"3.4115241636\", \"3.4115241636\", \"3.4115241636\", \"3.6096094901\", \"3.6096094901\", \"3.6096094901\", \"3.6096094901\", \"3.6096094901\", \"3.6096094901\", \"3.6096094901\", \"3.6096094901\", \"3.6096094901\", \"3.6096094901\", \"3.6096094901\", \"3.6096094901\", \"3.6096094901\", \"3.6096094901\", \"3.6096094901\", \"3.6096094901\", \"3.6096094901\", \"3.6096094901\", \"3.9116602687\", \"3.9116602687\", \"3.9116602687\", \"3.9116602687\", \"3.9116602687\", \"3.9116602687\", \"3.9116602687\", \"3.9116602687\", \"3.9116602687\", \"3.9116602687\", \"3.9116602687\", \"3.9116602687\", \"3.9116602687\", \"3.9116602687\", \"3.9116602687\", \"3.9116602687\", \"3.9116602687\", \"3.9116602687\", \"3.9116602687\", \"3.9116602687\", \"3.9116602687\", \"3.9116602687\", \"3.9116602687\", \"3.9116602687\", \"3.9116602687\", \"3.9116602687\", \"3.2847643828\", \"3.2847643828\", \"3.2847643828\", \"3.2847643828\", \"3.2847643828\", \"3.2847643828\", \"3.8118471765\", \"3.8118471765\", \"3.8118471765\", \"3.8118471765\", \"3.8118471765\", \"3.8118471765\", \"3.8118471765\", \"3.8118471765\", \"3.8118471765\", \"3.8118471765\", \"3.8118471765\", \"3.8118471765\", \"3.8118471765\", \"3.8118471765\", \"3.8118471765\", \"3.8118471765\", \"3.8118471765\", \"3.8118471765\", \"3.8118471765\", \"3.8118471765\", \"3.8118471765\", \"3.4339356296\", \"3.2328912171\", \"3.2328912171\", \"3.2328912171\", \"3.2328912171\", \"3.2328912171\", \"3.2328912171\", \"3.2328912171\", \"3.2328912171\", \"3.2328912171\", \"3.2328912171\", \"3.2328912171\", \"3.2328912171\", \"3.2328912171\", \"3.2328912171\", \"3.2328912171\", \"3.2328912171\", \"3.2328912171\", \"3.2328912171\", \"3.2328912171\", \"3.2328912171\", \"3.2328912171\", \"3.2328912171\", \"3.2328912171\", \"3.2328912171\", \"3.4914179104\", \"3.4914179104\", \"3.4914179104\", \"3.4914179104\", \"3.4914179104\", \"3.8583661274\", \"3.8583661274\", \"3.8583661274\", \"3.8583661274\", \"3.8583661274\", \"3.8583661274\", \"3.8583661274\", \"3.8583661274\", \"3.8583661274\", \"3.8583661274\", \"3.8583661274\", \"3.8583661274\", \"3.8583661274\", \"3.8583661274\", \"3.8583661274\", \"3.8583661274\", \"3.8583661274\", \"3.8583661274\", \"3.8583661274\", \"3.8583661274\", \"3.8583661274\", \"3.8583661274\", \"3.8583661274\", \"3.8583661274\", \"3.2845169156\", \"3.2845169156\", \"3.2845169156\", \"3.2845169156\", \"2.9744713515\", \"2.9744713515\", \"2.9744713515\", \"2.9744713515\", \"2.9744713515\", \"2.9744713515\", \"2.9744713515\", \"2.9744713515\", \"2.9744713515\", \"2.9744713515\", \"2.9744713515\", \"2.9744713515\", \"2.9744713515\", \"2.9744713515\", \"2.9744713515\", \"2.9744713515\", \"2.9744713515\", \"2.9744713515\", \"3.4417015649\", \"3.4417015649\", \"3.4417015649\", \"3.4417015649\", \"2.8099652375\", \"2.8099652375\", \"2.8099652375\", \"3.3829509672\", \"3.3829509672\", \"3.3829509672\", \"3.3829509672\", \"3.3829509672\", \"3.3829509672\", \"3.3829509672\", \"3.3829509672\", \"3.3829509672\", \"3.3829509672\", \"3.3829509672\", \"3.3829509672\", \"3.3829509672\", \"3.3829509672\", \"3.3829509672\", \"3.3829509672\", \"3.3829509672\", \"3.3829509672\", \"3.3829509672\", \"3.3829509672\", \"3.3829509672\", \"3.3829509672\", \"3.3829509672\", \"3.3829509672\", \"3.3829509672\", \"3.3829509672\", \"3.3829509672\", \"3.3829509672\", \"3.3829509672\", \"3.6742125669\", \"3.6742125669\", \"3.6742125669\", \"3.6742125669\", \"3.6742125669\", \"3.6742125669\", \"3.6742125669\", \"3.6742125669\", \"3.6742125669\", \"3.6742125669\", \"3.6742125669\", \"3.6742125669\", \"3.6742125669\", \"3.6742125669\", \"3.6742125669\", \"3.6742125669\", \"3.6742125669\", \"3.6742125669\", \"3.6742125669\", \"3.6742125669\", \"3.6742125669\", \"3.6742125669\", \"3.6742125669\", \"3.6742125669\", \"3.6742125669\", \"3.6742125669\", \"3.6742125669\", \"3.6742125669\", \"3.6742125669\", \"3.6742125669\", \"3.6742125669\", \"3.6742125669\", \"3.6742125669\", \"3.6742125669\", \"3.6742125669\", \"3.6742125669\", \"3.6742125669\", \"3.6742125669\", \"3.6742125669\", \"3.6742125669\", \"3.6742125669\", \"3.6742125669\", \"3.6742125669\", \"3.6742125669\", \"3.6742125669\", \"3.6742125669\", \"3.6742125669\", \"3.6742125669\", \"3.6742125669\", \"3.6742125669\", \"3.6742125669\", \"3.6742125669\", \"3.6742125669\", \"3.6742125669\", \"3.6742125669\", \"3.6742125669\", \"3.6742125669\", \"3.6742125669\", \"3.6742125669\", \"3.6742125669\", \"3.6742125669\", \"3.6742125669\", \"3.6735783543\", \"3.6735783543\", \"3.6735783543\", \"3.6735783543\", \"3.6735783543\", \"3.6735783543\", \"3.6735783543\", \"3.6735783543\", \"3.6735783543\", \"3.6735783543\", \"3.6735783543\", \"3.6735783543\", \"3.6735783543\", \"3.6735783543\", \"3.6735783543\", \"3.6735783543\", \"3.6735783543\", \"3.6735783543\", \"3.6735783543\", \"3.6735783543\", \"3.6735783543\", \"3.6735783543\", \"3.6735783543\", \"3.6735783543\", \"3.6735783543\", \"3.6735783543\", \"3.6735783543\", \"3.6877860412\", \"3.6877860412\", \"3.6877860412\", \"3.6877860412\", \"3.6877860412\", \"3.6877860412\", \"3.6877860412\", \"3.6877860412\", \"3.6877860412\", \"3.6877860412\", \"3.6877860412\", \"3.6877860412\", \"3.6877860412\", \"3.6877860412\", \"3.6877860412\", \"3.127077667\", \"3.127077667\", \"3.127077667\", \"3.127077667\", \"3.127077667\", \"3.127077667\", \"3.127077667\", \"3.127077667\", \"3.127077667\", \"3.127077667\", \"3.127077667\", \"3.127077667\", \"3.127077667\", \"3.127077667\", \"3.127077667\", \"3.127077667\", \"3.127077667\", \"3.127077667\", \"3.127077667\", \"3.127077667\", \"3.127077667\", \"3.127077667\", \"3.127077667\", \"3.127077667\", \"3.127077667\", \"3.127077667\", \"3.127077667\", \"3.127077667\", \"3.127077667\", \"3.127077667\", \"3.127077667\", \"3.127077667\", \"3.127077667\", \"3.127077667\", \"3.127077667\", \"3.127077667\", \"3.127077667\", \"3.127077667\", \"3.3419307296\", \"3.3419307296\", \"3.3419307296\", \"3.3419307296\", \"3.3419307296\", \"3.3419307296\", \"3.3419307296\", \"3.3419307296\", \"3.3419307296\", \"3.3419307296\", \"3.3419307296\", \"3.3419307296\", \"3.3419307296\", \"3.3419307296\", \"3.3419307296\", \"3.3419307296\", \"3.3419307296\", \"3.3419307296\", \"3.3419307296\", \"2.9721518987\", \"3.3735313316\", \"3.3735313316\", \"3.3735313316\", \"3.3735313316\", \"3.3735313316\", \"3.3735313316\", \"3.3735313316\", \"3.3735313316\", \"3.3735313316\", \"3.3735313316\", \"3.3735313316\", \"3.3735313316\", \"3.3735313316\", \"3.3735313316\", \"3.3735313316\", \"3.3735313316\", \"3.3735313316\", \"3.3735313316\", \"3.3735313316\", \"3.3735313316\", \"3.3735313316\", \"3.3735313316\", \"3.3735313316\", \"3.3735313316\", \"3.4624756335\", \"3.4624756335\", \"3.4624756335\", \"3.4624756335\", \"3.4624756335\", \"3.4624756335\", \"3.4624756335\", \"3.4624756335\", \"3.4624756335\", \"3.4624756335\", \"3.4624756335\", \"3.4624756335\", \"3.4624756335\", \"3.4624756335\", \"3.4624756335\", \"3.4624756335\", \"3.2609693878\", \"3.2609693878\", \"3.2609693878\", \"3.2609693878\", \"3.2609693878\", \"3.2609693878\", \"3.2609693878\", \"3.2609693878\", \"3.2609693878\", \"3.2609693878\", \"3.2609693878\", \"3.2609693878\", \"3.2609693878\", \"3.2609693878\", \"3.2609693878\", \"3.2609693878\", \"3.2609693878\", \"3.2609693878\", \"3.2609693878\", \"3.2609693878\", \"3.2609693878\", \"3.6417381574\", \"3.6417381574\", \"3.6417381574\", \"3.6417381574\", \"3.6417381574\", \"3.6417381574\", \"3.6417381574\", \"3.6417381574\", \"3.6417381574\", \"3.6417381574\", \"3.6417381574\", \"3.6417381574\", \"3.6417381574\", \"3.6417381574\", \"3.6417381574\", \"3.6417381574\", \"3.6417381574\", \"3.6417381574\", \"3.6417381574\", \"3.6417381574\", \"3.6417381574\", \"3.6417381574\", \"3.6417381574\", \"3.6417381574\", \"2.9264705882\", \"3.5049869905\", \"3.5049869905\", \"3.5049869905\", \"3.5049869905\", \"3.5049869905\", \"3.5049869905\", \"3.5049869905\", \"3.5049869905\", \"3.5049869905\", \"3.5049869905\", \"3.5049869905\", \"3.5049869905\", \"3.5049869905\", \"3.5049869905\", \"3.5049869905\", \"3.5049869905\", \"3.5049869905\", \"3.6073679108\", \"3.6073679108\", \"3.6073679108\", \"3.6073679108\", \"3.6073679108\", \"3.6073679108\", \"3.6073679108\", \"3.6073679108\", \"3.6073679108\", \"3.6073679108\", \"3.6073679108\", \"3.6073679108\", \"3.6073679108\", \"3.6073679108\", \"3.6073679108\", \"3.6073679108\", \"3.6073679108\", \"3.6073679108\", \"3.6073679108\", \"3.6073679108\", \"3.6073679108\", \"3.6073679108\", \"3.6073679108\", \"3.6073679108\", \"3.6073679108\", \"3.6073679108\", \"3.6073679108\", \"3.6073679108\", \"3.6073679108\", \"3.6073679108\", \"3.6073679108\", \"3.6073679108\", \"3.6073679108\", \"3.6073679108\", \"3.6073679108\", \"3.6073679108\", \"3.6073679108\", \"3.6073679108\", \"3.6073679108\", \"3.6073679108\", \"3.9336861768\", \"3.9336861768\", \"3.9336861768\", \"3.9336861768\", \"3.9336861768\", \"3.9336861768\", \"3.9336861768\", \"3.9336861768\", \"3.9336861768\", \"3.9336861768\", \"3.9336861768\", \"3.9336861768\", \"3.9336861768\", \"3.9336861768\", \"3.9336861768\", \"3.9336861768\", \"3.9336861768\", \"3.9336861768\", \"3.9336861768\", \"3.9336861768\", \"3.9336861768\", \"3.9336861768\", \"3.9336861768\", \"3.9336861768\", \"3.9336861768\", \"3.9336861768\", \"3.9336861768\", \"3.9336861768\", \"3.9336861768\", \"3.9336861768\", \"3.9336861768\", \"3.9336861768\", \"3.9336861768\", \"3.9336861768\", \"3.9336861768\", \"3.9336861768\", \"3.9336861768\", \"3.9336861768\", \"3.9336861768\", \"3.9336861768\", \"3.9336861768\", \"3.9336861768\", \"3.9336861768\", \"3.9336861768\", \"3.9336861768\", \"3.9336861768\", \"3.9336861768\", \"3.9336861768\", \"3.9336861768\", \"3.9336861768\", \"3.9336861768\", \"3.9336861768\", \"3.9336861768\", \"3.9336861768\", \"3.9336861768\", \"3.9336861768\", \"3.9336861768\", \"3.9336861768\", \"3.9336861768\", \"3.9336861768\", \"3.9336861768\", \"3.9336861768\", \"3.6094598913\", \"3.6094598913\", \"3.6094598913\", \"3.6094598913\", \"3.6094598913\", \"3.6094598913\", \"3.6094598913\", \"3.6094598913\", \"3.6094598913\", \"3.6094598913\", \"3.6094598913\", \"3.6094598913\", \"3.6094598913\", \"3.6094598913\", \"3.6094598913\", \"3.6094598913\", \"3.6094598913\", \"3.6094598913\", \"3.6094598913\", \"3.6094598913\", \"2.6302521008\", \"2.6302521008\"], \n",
    "  \"name\": \"rating\", \n",
    "  \"type\": \"box\", \n",
    "  \"uid\": \"432385\", \n",
    "  \"xsrc\": \"bryanb0102:28:0fbab1\", \n",
    "  \"ysrc\": \"bryanb0102:28:1df5c1\"\n",
    "}\n",
    "trace5 = {\n",
    "  \"x\": [\"John Goodman\", \"John Goodman\", \"John Goodman\", \"John Goodman\", \"John Goodman\", \"John Goodman\", \"John Goodman\", \"John Goodman\", \"John Goodman\", \"John Goodman\", \"John Goodman\", \"John Goodman\", \"John Goodman\", \"John Goodman\", \"John Goodman\", \"John Goodman\", \"John Goodman\", \"John Goodman\", \"John Goodman\", \"John Goodman\", \"John Goodman\", \"John Goodman\", \"John Goodman\", \"John Goodman\", \"John Goodman\", \"John Goodman\", \"John Goodman\", \"John Goodman\", \"John Goodman\", \"John Goodman\", \"John Goodman\", \"John Goodman\", \"John Goodman\", \"John Goodman\", \"John Goodman\", \"John Goodman\", \"John Goodman\", \"John Goodman\", \"John Goodman\", \"John Goodman\", \"John Goodman\", \"John Goodman\", \"John Goodman\", \"John Goodman\", \"John Goodman\", \"John Goodman\", \"John Goodman\", \"John Goodman\", \"John Goodman\", \"John Goodman\", \"John Goodman\", \"John Goodman\", \"John Goodman\", \"John Goodman\", \"John Goodman\", \"John Goodman\", \"John Goodman\", \"John Goodman\", \"John Goodman\", \"John Goodman\", \"John Goodman\", \"John Goodman\", \"John Goodman\", \"John Goodman\", \"John Goodman\", \"John Goodman\", \"John Goodman\", \"John Goodman\", \"John Goodman\", \"John Goodman\", \"John Goodman\", \"John Goodman\", \"John Goodman\", \"John Goodman\", \"John Goodman\", \"John Goodman\", \"John Goodman\", \"John Goodman\", \"John Goodman\", \"John Goodman\", \"John Goodman\", \"John Goodman\", \"John Goodman\", \"John Goodman\", \"John Goodman\", \"John Goodman\", \"John Goodman\", \"John Goodman\", \"John Goodman\", \"John Goodman\", \"John Goodman\", \"John Goodman\", \"John Goodman\", \"John Goodman\", \"John Goodman\", \"John Goodman\", \"John Goodman\", \"John Goodman\", \"John Goodman\", \"John Goodman\", \"John Goodman\", \"John Goodman\", \"John Goodman\", \"John Goodman\", \"John Goodman\", \"John Goodman\", \"John Goodman\", \"John Goodman\", \"John Goodman\", \"John Goodman\", \"John Goodman\", \"John Goodman\", \"John Goodman\", \"John Goodman\", \"John Goodman\", \"John Goodman\", \"John Goodman\", \"John Goodman\", \"John Goodman\", \"John Goodman\", \"John Goodman\", \"John Goodman\", \"John Goodman\", \"John Goodman\", \"John Goodman\", \"John Goodman\", \"John Goodman\"], \n",
    "  \"y\": [\"2.4177416580667352\", \"2.4177416580667352\", \"2.4177416580667352\", \"3.954323444283647\", \"3.954323444283647\", \"3.954323444283647\", \"3.954323444283647\", \"3.954323444283647\", \"3.954323444283647\", \"3.954323444283647\", \"3.954323444283647\", \"3.954323444283647\", \"3.954323444283647\", \"3.954323444283647\", \"3.954323444283647\", \"3.954323444283647\", \"3.954323444283647\", \"3.954323444283647\", \"3.954323444283647\", \"3.954323444283647\", \"3.954323444283647\", \"3.954323444283647\", \"3.954323444283647\", \"3.954323444283647\", \"3.954323444283647\", \"3.954323444283647\", \"3.954323444283647\", \"3.954323444283647\", \"3.954323444283647\", \"3.492193044712562\", \"3.492193044712562\", \"3.492193044712562\", \"3.492193044712562\", \"3.492193044712562\", \"3.031870114251353\", \"3.170220772704466\", \"3.170220772704466\", \"2.7478386167146973\", \"2.7478386167146973\", \"3.5884193054136873\", \"3.5884193054136873\", \"3.8738065587380657\", \"3.8738065587380657\", \"3.8738065587380657\", \"3.8738065587380657\", \"3.8738065587380657\", \"3.8738065587380657\", \"3.8738065587380657\", \"3.8738065587380657\", \"3.8738065587380657\", \"3.8738065587380657\", \"3.8738065587380657\", \"3.857819974760074\", \"3.857819974760074\", \"3.857819974760074\", \"3.857819974760074\", \"3.857819974760074\", \"3.857819974760074\", \"3.857819974760074\", \"3.857819974760074\", \"3.857819974760074\", \"3.857819974760074\", \"2.6153846153846154\", \"3.819097778795512\", \"3.819097778795512\", \"3.819097778795512\", \"3.819097778795512\", \"3.819097778795512\", \"3.819097778795512\", \"3.819097778795512\", \"3.819097778795512\", \"3.819097778795512\", \"3.819097778795512\", \"3.819097778795512\", \"3.819097778795512\", \"3.819097778795512\", \"3.819097778795512\", \"3.819097778795512\", \"3.819097778795512\", \"2.3760262725779966\", \"2.7224287484510534\", \"2.7224287484510534\", \"3.227803738317757\", \"3.227803738317757\", \"3.227803738317757\", \"3.227803738317757\", \"3.509914255091104\", \"3.509914255091104\", \"2.9931034482758623\", \"3.6408668730650153\", \"3.6408668730650153\", \"3.6408668730650153\", \"3.1991150442477876\", \"3.1991150442477876\", \"3.755257731958763\", \"3.755257731958763\", \"3.755257731958763\", \"3.755257731958763\", \"3.755257731958763\", \"3.755257731958763\", \"3.755257731958763\", \"3.199275362318841\", \"3.199275362318841\", \"3.799071991001125\", \"3.799071991001125\", \"3.799071991001125\", \"3.799071991001125\", \"3.799071991001125\", \"3.799071991001125\", \"3.799071991001125\", \"3.799071991001125\", \"3.799071991001125\", \"3.6336701883325677\", \"3.6336701883325677\", \"3.6336701883325677\", \"3.6336701883325677\", \"3.6336701883325677\", \"3.6336701883325677\", \"3.6336701883325677\", \"3.6336701883325677\", \"3.6336701883325677\", \"3.7002204261572373\", \"3.046468401486989\", \"3.046468401486989\", \"3.046468401486989\", \"3.046468401486989\", \"3.0\"], \n",
    "  \"mode\": \"markers\", \n",
    "  \"name\": \"rating\", \n",
    "  \"text\": [\"Flintstones, The (1994)\", \"Flintstones, The (1994)\", \"Flintstones, The (1994)\", \"Big Lebowski, The (1998)\", \"Big Lebowski, The (1998)\", \"Big Lebowski, The (1998)\", \"Big Lebowski, The (1998)\", \"Big Lebowski, The (1998)\", \"Big Lebowski, The (1998)\", \"Big Lebowski, The (1998)\", \"Big Lebowski, The (1998)\", \"Big Lebowski, The (1998)\", \"Big Lebowski, The (1998)\", \"Big Lebowski, The (1998)\", \"Big Lebowski, The (1998)\", \"Big Lebowski, The (1998)\", \"Big Lebowski, The (1998)\", \"Big Lebowski, The (1998)\", \"Big Lebowski, The (1998)\", \"Big Lebowski, The (1998)\", \"Big Lebowski, The (1998)\", \"Big Lebowski, The (1998)\", \"Big Lebowski, The (1998)\", \"Big Lebowski, The (1998)\", \"Big Lebowski, The (1998)\", \"Big Lebowski, The (1998)\", \"Big Lebowski, The (1998)\", \"Big Lebowski, The (1998)\", \"Big Lebowski, The (1998)\", \"Fallen (1998)\", \"Fallen (1998)\", \"Fallen (1998)\", \"Fallen (1998)\", \"Fallen (1998)\", \"Borrowers, The (1997)\", \"Bringing Out the Dead (1999)\", \"Bringing Out the Dead (1999)\", \"We're Back! A Dinosaur's Story (1993)\", \"We're Back! A Dinosaur's Story (1993)\", \"Emperor's New Groove, The (2000)\", \"Emperor's New Groove, The (2000)\", \"O Brother, Where Art Thou? (2000)\", \"O Brother, Where Art Thou? (2000)\", \"O Brother, Where Art Thou? (2000)\", \"O Brother, Where Art Thou? (2000)\", \"O Brother, Where Art Thou? (2000)\", \"O Brother, Where Art Thou? (2000)\", \"O Brother, Where Art Thou? (2000)\", \"O Brother, Where Art Thou? (2000)\", \"O Brother, Where Art Thou? (2000)\", \"O Brother, Where Art Thou? (2000)\", \"O Brother, Where Art Thou? (2000)\", \"Monsters, Inc. (2001)\", \"Monsters, Inc. (2001)\", \"Monsters, Inc. (2001)\", \"Monsters, Inc. (2001)\", \"Monsters, Inc. (2001)\", \"Monsters, Inc. (2001)\", \"Monsters, Inc. (2001)\", \"Monsters, Inc. (2001)\", \"Monsters, Inc. (2001)\", \"Monsters, Inc. (2001)\", \"Stella (1990)\", \"Barton Fink (1991)\", \"Barton Fink (1991)\", \"Barton Fink (1991)\", \"Barton Fink (1991)\", \"Barton Fink (1991)\", \"Barton Fink (1991)\", \"Barton Fink (1991)\", \"Barton Fink (1991)\", \"Barton Fink (1991)\", \"Barton Fink (1991)\", \"Barton Fink (1991)\", \"Barton Fink (1991)\", \"Barton Fink (1991)\", \"Barton Fink (1991)\", \"Barton Fink (1991)\", \"Barton Fink (1991)\", \"King Ralph (1991)\", \"Evan Almighty (2007)\", \"Evan Almighty (2007)\", \"Death Sentence (2007)\", \"Death Sentence (2007)\", \"Death Sentence (2007)\", \"Death Sentence (2007)\", \"Princess and the Frog, The (2009)\", \"Princess and the Frog, The (2009)\", \"Emperor's New Groove 2: Kronk's New Groove, The (2005)\", \"You Don't Know Jack (2010)\", \"You Don't Know Jack (2010)\", \"You Don't Know Jack (2010)\", \"Red State (2011)\", \"Red State (2011)\", \"The Artist (2011)\", \"The Artist (2011)\", \"The Artist (2011)\", \"The Artist (2011)\", \"The Artist (2011)\", \"The Artist (2011)\", \"The Artist (2011)\", \"Trouble with the Curve (2012)\", \"Trouble with the Curve (2012)\", \"Argo (2012)\", \"Argo (2012)\", \"Argo (2012)\", \"Argo (2012)\", \"Argo (2012)\", \"Argo (2012)\", \"Argo (2012)\", \"Argo (2012)\", \"Argo (2012)\", \"Flight (2012)\", \"Flight (2012)\", \"Flight (2012)\", \"Flight (2012)\", \"Flight (2012)\", \"Flight (2012)\", \"Flight (2012)\", \"Flight (2012)\", \"Flight (2012)\", \"Inside Llewyn Davis (2013)\", \"Monuments Men, The (2014)\", \"Monuments Men, The (2014)\", \"Monuments Men, The (2014)\", \"Monuments Men, The (2014)\", \"Love the Coopers (2015)\"], \n",
    "  \"textsrc\": \"bryanb0102:27:c8be12\", \n",
    "  \"type\": \"scatter\", \n",
    "  \"uid\": \"a07cde\", \n",
    "  \"xsrc\": \"bryanb0102:27:954534\", \n",
    "  \"ysrc\": \"bryanb0102:27:3b1809\"\n",
    "}\n",
    "trace6 = {\n",
    "  \"x\": [\"John Goodman\", \"John Goodman\", \"John Goodman\", \"John Goodman\", \"John Goodman\", \"John Goodman\", \"John Goodman\", \"John Goodman\", \"John Goodman\", \"John Goodman\", \"John Goodman\", \"John Goodman\", \"John Goodman\", \"John Goodman\", \"John Goodman\", \"John Goodman\", \"John Goodman\", \"John Goodman\", \"John Goodman\", \"John Goodman\", \"John Goodman\", \"John Goodman\", \"John Goodman\", \"John Goodman\", \"John Goodman\", \"John Goodman\", \"John Goodman\", \"John Goodman\", \"John Goodman\", \"John Goodman\", \"John Goodman\", \"John Goodman\", \"John Goodman\", \"John Goodman\", \"John Goodman\", \"John Goodman\", \"John Goodman\", \"John Goodman\", \"John Goodman\", \"John Goodman\", \"John Goodman\", \"John Goodman\", \"John Goodman\", \"John Goodman\", \"John Goodman\", \"John Goodman\", \"John Goodman\", \"John Goodman\", \"John Goodman\", \"John Goodman\", \"John Goodman\", \"John Goodman\", \"John Goodman\", \"John Goodman\", \"John Goodman\", \"John Goodman\", \"John Goodman\", \"John Goodman\", \"John Goodman\", \"John Goodman\", \"John Goodman\", \"John Goodman\", \"John Goodman\", \"John Goodman\", \"John Goodman\", \"John Goodman\", \"John Goodman\", \"John Goodman\", \"John Goodman\", \"John Goodman\", \"John Goodman\", \"John Goodman\", \"John Goodman\", \"John Goodman\", \"John Goodman\", \"John Goodman\", \"John Goodman\", \"John Goodman\", \"John Goodman\", \"John Goodman\", \"John Goodman\", \"John Goodman\", \"John Goodman\", \"John Goodman\", \"John Goodman\", \"John Goodman\", \"John Goodman\", \"John Goodman\", \"John Goodman\", \"John Goodman\", \"John Goodman\", \"John Goodman\", \"John Goodman\", \"John Goodman\", \"John Goodman\", \"John Goodman\", \"John Goodman\", \"John Goodman\", \"John Goodman\", \"John Goodman\", \"John Goodman\", \"John Goodman\", \"John Goodman\", \"John Goodman\", \"John Goodman\", \"John Goodman\", \"John Goodman\", \"John Goodman\", \"John Goodman\", \"John Goodman\", \"John Goodman\", \"John Goodman\", \"John Goodman\", \"John Goodman\", \"John Goodman\", \"John Goodman\", \"John Goodman\", \"John Goodman\", \"John Goodman\", \"John Goodman\", \"John Goodman\", \"John Goodman\", \"John Goodman\", \"John Goodman\", \"John Goodman\", \"John Goodman\", \"John Goodman\"], \n",
    "  \"y\": [\"2.4177416580667352\", \"2.4177416580667352\", \"2.4177416580667352\", \"3.954323444283647\", \"3.954323444283647\", \"3.954323444283647\", \"3.954323444283647\", \"3.954323444283647\", \"3.954323444283647\", \"3.954323444283647\", \"3.954323444283647\", \"3.954323444283647\", \"3.954323444283647\", \"3.954323444283647\", \"3.954323444283647\", \"3.954323444283647\", \"3.954323444283647\", \"3.954323444283647\", \"3.954323444283647\", \"3.954323444283647\", \"3.954323444283647\", \"3.954323444283647\", \"3.954323444283647\", \"3.954323444283647\", \"3.954323444283647\", \"3.954323444283647\", \"3.954323444283647\", \"3.954323444283647\", \"3.954323444283647\", \"3.492193044712562\", \"3.492193044712562\", \"3.492193044712562\", \"3.492193044712562\", \"3.492193044712562\", \"3.031870114251353\", \"3.170220772704466\", \"3.170220772704466\", \"2.7478386167146973\", \"2.7478386167146973\", \"3.5884193054136873\", \"3.5884193054136873\", \"3.8738065587380657\", \"3.8738065587380657\", \"3.8738065587380657\", \"3.8738065587380657\", \"3.8738065587380657\", \"3.8738065587380657\", \"3.8738065587380657\", \"3.8738065587380657\", \"3.8738065587380657\", \"3.8738065587380657\", \"3.8738065587380657\", \"3.857819974760074\", \"3.857819974760074\", \"3.857819974760074\", \"3.857819974760074\", \"3.857819974760074\", \"3.857819974760074\", \"3.857819974760074\", \"3.857819974760074\", \"3.857819974760074\", \"3.857819974760074\", \"2.6153846153846154\", \"3.819097778795512\", \"3.819097778795512\", \"3.819097778795512\", \"3.819097778795512\", \"3.819097778795512\", \"3.819097778795512\", \"3.819097778795512\", \"3.819097778795512\", \"3.819097778795512\", \"3.819097778795512\", \"3.819097778795512\", \"3.819097778795512\", \"3.819097778795512\", \"3.819097778795512\", \"3.819097778795512\", \"3.819097778795512\", \"2.3760262725779966\", \"2.7224287484510534\", \"2.7224287484510534\", \"3.227803738317757\", \"3.227803738317757\", \"3.227803738317757\", \"3.227803738317757\", \"3.509914255091104\", \"3.509914255091104\", \"2.9931034482758623\", \"3.6408668730650153\", \"3.6408668730650153\", \"3.6408668730650153\", \"3.1991150442477876\", \"3.1991150442477876\", \"3.755257731958763\", \"3.755257731958763\", \"3.755257731958763\", \"3.755257731958763\", \"3.755257731958763\", \"3.755257731958763\", \"3.755257731958763\", \"3.199275362318841\", \"3.199275362318841\", \"3.799071991001125\", \"3.799071991001125\", \"3.799071991001125\", \"3.799071991001125\", \"3.799071991001125\", \"3.799071991001125\", \"3.799071991001125\", \"3.799071991001125\", \"3.799071991001125\", \"3.6336701883325677\", \"3.6336701883325677\", \"3.6336701883325677\", \"3.6336701883325677\", \"3.6336701883325677\", \"3.6336701883325677\", \"3.6336701883325677\", \"3.6336701883325677\", \"3.6336701883325677\", \"3.7002204261572373\", \"3.046468401486989\", \"3.046468401486989\", \"3.046468401486989\", \"3.046468401486989\", \"3.0\"], \n",
    "  \"name\": \"rating\", \n",
    "  \"type\": \"box\", \n",
    "  \"uid\": \"cabc08\", \n",
    "  \"xsrc\": \"bryanb0102:27:954534\", \n",
    "  \"ysrc\": \"bryanb0102:27:3b1809\"\n",
    "}\n",
    "trace7 = {\n",
    "  \"x\": [\"Brad Pitt\", \"Brad Pitt\", \"Brad Pitt\", \"Brad Pitt\", \"Brad Pitt\", \"Brad Pitt\", \"Brad Pitt\", \"Brad Pitt\", \"Brad Pitt\", \"Brad Pitt\", \"Brad Pitt\", \"Brad Pitt\", \"Brad Pitt\", \"Brad Pitt\", \"Brad Pitt\", \"Brad Pitt\", \"Brad Pitt\", \"Brad Pitt\", \"Brad Pitt\", \"Brad Pitt\", \"Brad Pitt\", \"Brad Pitt\", \"Brad Pitt\", \"Brad Pitt\", \"Brad Pitt\", \"Brad Pitt\", \"Brad Pitt\", \"Brad Pitt\", \"Brad Pitt\", \"Brad Pitt\", \"Brad Pitt\", \"Brad Pitt\", \"Brad Pitt\", \"Brad Pitt\", \"Brad Pitt\", \"Brad Pitt\", \"Brad Pitt\", \"Brad Pitt\", \"Brad Pitt\", \"Brad Pitt\", \"Brad Pitt\", \"Brad Pitt\", \"Brad Pitt\", \"Brad Pitt\", \"Brad Pitt\", \"Brad Pitt\", \"Brad Pitt\", \"Brad Pitt\", \"Brad Pitt\", \"Brad Pitt\", \"Brad Pitt\", \"Brad Pitt\", \"Brad Pitt\", \"Brad Pitt\", \"Brad Pitt\", \"Brad Pitt\", \"Brad Pitt\", \"Brad Pitt\", \"Brad Pitt\", \"Brad Pitt\", \"Brad Pitt\", \"Brad Pitt\", \"Brad Pitt\", \"Brad Pitt\", \"Brad Pitt\", \"Brad Pitt\", \"Brad Pitt\", \"Brad Pitt\", \"Brad Pitt\", \"Brad Pitt\", \"Brad Pitt\", \"Brad Pitt\", \"Brad Pitt\", \"Brad Pitt\", \"Brad Pitt\", \"Brad Pitt\", \"Brad Pitt\", \"Brad Pitt\", \"Brad Pitt\", \"Brad Pitt\", \"Brad Pitt\", \"Brad Pitt\", \"Brad Pitt\", \"Brad Pitt\", \"Brad Pitt\", \"Brad Pitt\", \"Brad Pitt\", \"Brad Pitt\", \"Brad Pitt\", \"Brad Pitt\", \"Brad Pitt\", \"Brad Pitt\", \"Brad Pitt\", \"Brad Pitt\", \"Brad Pitt\", \"Brad Pitt\", \"Brad Pitt\", \"Brad Pitt\", \"Brad Pitt\", \"Brad Pitt\", \"Brad Pitt\", \"Brad Pitt\", \"Brad Pitt\", \"Brad Pitt\", \"Brad Pitt\", \"Brad Pitt\", \"Brad Pitt\", \"Brad Pitt\", \"Brad Pitt\", \"Brad Pitt\", \"Brad Pitt\", \"Brad Pitt\", \"Brad Pitt\", \"Brad Pitt\", \"Brad Pitt\", \"Brad Pitt\", \"Brad Pitt\", \"Brad Pitt\", \"Brad Pitt\", \"Brad Pitt\", \"Brad Pitt\", \"Brad Pitt\", \"Brad Pitt\", \"Brad Pitt\", \"Brad Pitt\", \"Brad Pitt\", \"Brad Pitt\", \"Brad Pitt\", \"Brad Pitt\", \"Brad Pitt\", \"Brad Pitt\", \"Brad Pitt\", \"Brad Pitt\", \"Brad Pitt\", \"Brad Pitt\", \"Brad Pitt\", \"Brad Pitt\", \"Brad Pitt\", \"Brad Pitt\", \"Brad Pitt\", \"Brad Pitt\", \"Brad Pitt\", \"Brad Pitt\", \"Brad Pitt\", \"Brad Pitt\", \"Brad Pitt\", \"Brad Pitt\", \"Brad Pitt\", \"Brad Pitt\", \"Brad Pitt\", \"Brad Pitt\", \"Brad Pitt\", \"Brad Pitt\", \"Brad Pitt\", \"Brad Pitt\", \"Brad Pitt\", \"Brad Pitt\", \"Brad Pitt\", \"Brad Pitt\", \"Brad Pitt\", \"Brad Pitt\", \"Brad Pitt\", \"Brad Pitt\", \"Brad Pitt\", \"Brad Pitt\", \"Brad Pitt\", \"Brad Pitt\", \"Brad Pitt\", \"Brad Pitt\", \"Brad Pitt\", \"Brad Pitt\", \"Brad Pitt\", \"Brad Pitt\", \"Brad Pitt\", \"Brad Pitt\", \"Brad Pitt\", \"Brad Pitt\", \"Brad Pitt\", \"Brad Pitt\", \"Brad Pitt\", \"Brad Pitt\", \"Brad Pitt\", \"Brad Pitt\", \"Brad Pitt\", \"Brad Pitt\", \"Brad Pitt\", \"Brad Pitt\", \"Brad Pitt\", \"Brad Pitt\", \"Brad Pitt\", \"Brad Pitt\", \"Brad Pitt\", \"Brad Pitt\", \"Brad Pitt\", \"Brad Pitt\", \"Brad Pitt\", \"Brad Pitt\", \"Brad Pitt\", \"Brad Pitt\", \"Brad Pitt\", \"Brad Pitt\", \"Brad Pitt\", \"Brad Pitt\", \"Brad Pitt\", \"Brad Pitt\", \"Brad Pitt\", \"Brad Pitt\", \"Brad Pitt\", \"Brad Pitt\", \"Brad Pitt\", \"Brad Pitt\", \"Brad Pitt\", \"Brad Pitt\", \"Brad Pitt\", \"Brad Pitt\", \"Brad Pitt\", \"Brad Pitt\", \"Brad Pitt\", \"Brad Pitt\", \"Brad Pitt\", \"Brad Pitt\", \"Brad Pitt\", \"Brad Pitt\", \"Brad Pitt\", \"Brad Pitt\", \"Brad Pitt\", \"Brad Pitt\", \"Brad Pitt\", \"Brad Pitt\", \"Brad Pitt\", \"Brad Pitt\", \"Brad Pitt\", \"Brad Pitt\", \"Brad Pitt\", \"Brad Pitt\", \"Brad Pitt\", \"Brad Pitt\", \"Brad Pitt\", \"Brad Pitt\", \"Brad Pitt\", \"Brad Pitt\", \"Brad Pitt\", \"Brad Pitt\", \"Brad Pitt\", \"Brad Pitt\", \"Brad Pitt\", \"Brad Pitt\", \"Brad Pitt\", \"Brad Pitt\", \"Brad Pitt\", \"Brad Pitt\", \"Brad Pitt\", \"Brad Pitt\", \"Brad Pitt\", \"Brad Pitt\", \"Brad Pitt\", \"Brad Pitt\", \"Brad Pitt\", \"Brad Pitt\", \"Brad Pitt\", \"Brad Pitt\", \"Brad Pitt\", \"Brad Pitt\", \"Brad Pitt\", \"Brad Pitt\", \"Brad Pitt\", \"Brad Pitt\", \"Brad Pitt\", \"Brad Pitt\", \"Brad Pitt\", \"Brad Pitt\", \"Brad Pitt\", \"Brad Pitt\", \"Brad Pitt\", \"Brad Pitt\", \"Brad Pitt\", \"Brad Pitt\", \"Brad Pitt\", \"Brad Pitt\", \"Brad Pitt\", \"Brad Pitt\", \"Brad Pitt\", \"Brad Pitt\", \"Brad Pitt\", \"Brad Pitt\", \"Brad Pitt\", \"Brad Pitt\", \"Brad Pitt\", \"Brad Pitt\", \"Brad Pitt\", \"Brad Pitt\", \"Brad Pitt\", \"Brad Pitt\", \"Brad Pitt\", \"Brad Pitt\", \"Brad Pitt\", \"Brad Pitt\", \"Brad Pitt\", \"Brad Pitt\", \"Brad Pitt\", \"Brad Pitt\", \"Brad Pitt\", \"Brad Pitt\", \"Brad Pitt\", \"Brad Pitt\", \"Brad Pitt\", \"Brad Pitt\", \"Brad Pitt\", \"Brad Pitt\", \"Brad Pitt\", \"Brad Pitt\", \"Brad Pitt\", \"Brad Pitt\", \"Brad Pitt\", \"Brad Pitt\", \"Brad Pitt\", \"Brad Pitt\", \"Brad Pitt\", \"Brad Pitt\", \"Brad Pitt\", \"Brad Pitt\", \"Brad Pitt\", \"Brad Pitt\", \"Brad Pitt\", \"Brad Pitt\", \"Brad Pitt\", \"Brad Pitt\", \"Brad Pitt\", \"Brad Pitt\", \"Brad Pitt\", \"Brad Pitt\", \"Brad Pitt\", \"Brad Pitt\", \"Brad Pitt\", \"Brad Pitt\", \"Brad Pitt\", \"Brad Pitt\", \"Brad Pitt\", \"Brad Pitt\", \"Brad Pitt\", \"Brad Pitt\", \"Brad Pitt\", \"Brad Pitt\", \"Brad Pitt\", \"Brad Pitt\", \"Brad Pitt\", \"Brad Pitt\", \"Brad Pitt\", \"Brad Pitt\", \"Brad Pitt\", \"Brad Pitt\", \"Brad Pitt\", \"Brad Pitt\", \"Brad Pitt\", \"Brad Pitt\", \"Brad Pitt\", \"Brad Pitt\", \"Brad Pitt\", \"Brad Pitt\", \"Brad Pitt\", \"Brad Pitt\", \"Brad Pitt\", \"Brad Pitt\", \"Brad Pitt\", \"Brad Pitt\", \"Brad Pitt\", \"Brad Pitt\", \"Brad Pitt\", \"Brad Pitt\", \"Brad Pitt\", \"Brad Pitt\", \"Brad Pitt\", \"Brad Pitt\", \"Brad Pitt\", \"Brad Pitt\", \"Brad Pitt\", \"Brad Pitt\", \"Brad Pitt\", \"Brad Pitt\", \"Brad Pitt\", \"Brad Pitt\", \"Brad Pitt\", \"Brad Pitt\", \"Brad Pitt\", \"Brad Pitt\", \"Brad Pitt\", \"Brad Pitt\", \"Brad Pitt\", \"Brad Pitt\", \"Brad Pitt\", \"Brad Pitt\", \"Brad Pitt\", \"Brad Pitt\", \"Brad Pitt\", \"Brad Pitt\", \"Brad Pitt\", \"Brad Pitt\", \"Brad Pitt\", \"Brad Pitt\", \"Brad Pitt\", \"Brad Pitt\", \"Brad Pitt\", \"Brad Pitt\", \"Brad Pitt\", \"Brad Pitt\", \"Brad Pitt\", \"Brad Pitt\", \"Brad Pitt\", \"Brad Pitt\", \"Brad Pitt\", \"Brad Pitt\", \"Brad Pitt\", \"Brad Pitt\", \"Brad Pitt\", \"Brad Pitt\", \"Brad Pitt\", \"Brad Pitt\", \"Brad Pitt\", \"Brad Pitt\", \"Brad Pitt\", \"Brad Pitt\", \"Brad Pitt\", \"Brad Pitt\", \"Brad Pitt\", \"Brad Pitt\", \"Brad Pitt\", \"Brad Pitt\", \"Brad Pitt\", \"Brad Pitt\", \"Brad Pitt\", \"Brad Pitt\", \"Brad Pitt\", \"Brad Pitt\", \"Brad Pitt\", \"Brad Pitt\", \"Brad Pitt\", \"Brad Pitt\", \"Brad Pitt\", \"Brad Pitt\", \"Brad Pitt\", \"Brad Pitt\", \"Brad Pitt\", \"Brad Pitt\", \"Brad Pitt\", \"Brad Pitt\", \"Brad Pitt\", \"Brad Pitt\", \"Brad Pitt\", \"Brad Pitt\", \"Brad Pitt\", \"Brad Pitt\", \"Brad Pitt\", \"Brad Pitt\", \"Brad Pitt\", \"Brad Pitt\", \"Brad Pitt\", \"Brad Pitt\", \"Brad Pitt\", \"Brad Pitt\", \"Brad Pitt\", \"Brad Pitt\", \"Brad Pitt\", \"Brad Pitt\", \"Brad Pitt\", \"Brad Pitt\", \"Brad Pitt\", \"Brad Pitt\", \"Brad Pitt\", \"Brad Pitt\", \"Brad Pitt\", \"Brad Pitt\", \"Brad Pitt\", \"Brad Pitt\", \"Brad Pitt\", \"Brad Pitt\", \"Brad Pitt\", \"Brad Pitt\", \"Brad Pitt\", \"Brad Pitt\", \"Brad Pitt\", \"Brad Pitt\", \"Brad Pitt\", \"Brad Pitt\", \"Brad Pitt\", \"Brad Pitt\", \"Brad Pitt\", \"Brad Pitt\", \"Brad Pitt\", \"Brad Pitt\", \"Brad Pitt\", \"Brad Pitt\", \"Brad Pitt\", \"Brad Pitt\", \"Brad Pitt\", \"Brad Pitt\", \"Brad Pitt\", \"Brad Pitt\", \"Brad Pitt\", \"Brad Pitt\", \"Brad Pitt\", \"Brad Pitt\", \"Brad Pitt\", \"Brad Pitt\", \"Brad Pitt\", \"Brad Pitt\", \"Brad Pitt\", \"Brad Pitt\", \"Brad Pitt\", \"Brad Pitt\", \"Brad Pitt\", \"Brad Pitt\", \"Brad Pitt\", \"Brad Pitt\", \"Brad Pitt\", \"Brad Pitt\", \"Brad Pitt\", \"Brad Pitt\", \"Brad Pitt\", \"Brad Pitt\", \"Brad Pitt\", \"Brad Pitt\", \"Brad Pitt\", \"Brad Pitt\", \"Brad Pitt\", \"Brad Pitt\", \"Brad Pitt\", \"Brad Pitt\", \"Brad Pitt\", \"Brad Pitt\", \"Brad Pitt\", \"Brad Pitt\", \"Brad Pitt\", \"Brad Pitt\", \"Brad Pitt\", \"Brad Pitt\", \"Brad Pitt\", \"Brad Pitt\", \"Brad Pitt\", \"Brad Pitt\", \"Brad Pitt\", \"Brad Pitt\", \"Brad Pitt\", \"Brad Pitt\", \"Brad Pitt\", \"Brad Pitt\", \"Brad Pitt\", \"Brad Pitt\", \"Brad Pitt\", \"Brad Pitt\", \"Brad Pitt\", \"Brad Pitt\", \"Brad Pitt\", \"Brad Pitt\", \"Brad Pitt\", \"Brad Pitt\", \"Brad Pitt\", \"Brad Pitt\", \"Brad Pitt\", \"Brad Pitt\", \"Brad Pitt\", \"Brad Pitt\", \"Brad Pitt\", \"Brad Pitt\", \"Brad Pitt\", \"Brad Pitt\", \"Brad Pitt\", \"Brad Pitt\", \"Brad Pitt\", \"Brad Pitt\", \"Brad Pitt\", \"Brad Pitt\", \"Brad Pitt\", \"Brad Pitt\", \"Brad Pitt\", \"Brad Pitt\", \"Brad Pitt\", \"Brad Pitt\", \"Brad Pitt\", \"Brad Pitt\", \"Brad Pitt\", \"Brad Pitt\", \"Brad Pitt\", \"Brad Pitt\", \"Brad Pitt\", \"Brad Pitt\", \"Brad Pitt\", \"Brad Pitt\", \"Brad Pitt\", \"Brad Pitt\", \"Brad Pitt\", \"Brad Pitt\", \"Brad Pitt\", \"Brad Pitt\", \"Brad Pitt\", \"Brad Pitt\", \"Brad Pitt\", \"Brad Pitt\", \"Brad Pitt\", \"Brad Pitt\", \"Brad Pitt\", \"Brad Pitt\", \"Brad Pitt\", \"Brad Pitt\", \"Brad Pitt\", \"Brad Pitt\", \"Brad Pitt\", \"Brad Pitt\", \"Brad Pitt\", \"Brad Pitt\", \"Brad Pitt\", \"Brad Pitt\", \"Brad Pitt\", \"Brad Pitt\", \"Brad Pitt\", \"Brad Pitt\", \"Brad Pitt\", \"Brad Pitt\", \"Brad Pitt\", \"Brad Pitt\", \"Brad Pitt\", \"Brad Pitt\", \"Brad Pitt\", \"Brad Pitt\", \"Brad Pitt\", \"Brad Pitt\", \"Brad Pitt\", \"Brad Pitt\", \"Brad Pitt\", \"Brad Pitt\", \"Brad Pitt\", \"Brad Pitt\", \"Brad Pitt\", \"Brad Pitt\", \"Brad Pitt\", \"Brad Pitt\", \"Brad Pitt\", \"Brad Pitt\", \"Brad Pitt\", \"Brad Pitt\", \"Brad Pitt\", \"Brad Pitt\", \"Brad Pitt\", \"Brad Pitt\", \"Brad Pitt\", \"Brad Pitt\", \"Brad Pitt\", \"Brad Pitt\", \"Brad Pitt\", \"Brad Pitt\", \"Brad Pitt\", \"Brad Pitt\", \"Brad Pitt\", \"Brad Pitt\", \"Brad Pitt\", \"Brad Pitt\", \"Brad Pitt\", \"Brad Pitt\", \"Brad Pitt\", \"Brad Pitt\", \"Brad Pitt\", \"Brad Pitt\", \"Brad Pitt\", \"Brad Pitt\", \"Brad Pitt\", \"Brad Pitt\", \"Brad Pitt\", \"Brad Pitt\", \"Brad Pitt\", \"Brad Pitt\", \"Brad Pitt\", \"Brad Pitt\", \"Brad Pitt\", \"Brad Pitt\", \"Brad Pitt\", \"Brad Pitt\", \"Brad Pitt\", \"Brad Pitt\", \"Brad Pitt\", \"Brad Pitt\", \"Brad Pitt\", \"Brad Pitt\", \"Brad Pitt\", \"Brad Pitt\", \"Brad Pitt\", \"Brad Pitt\", \"Brad Pitt\", \"Brad Pitt\", \"Brad Pitt\", \"Brad Pitt\", \"Brad Pitt\", \"Brad Pitt\", \"Brad Pitt\", \"Brad Pitt\", \"Brad Pitt\", \"Brad Pitt\", \"Brad Pitt\", \"Brad Pitt\", \"Brad Pitt\", \"Brad Pitt\", \"Brad Pitt\", \"Brad Pitt\", \"Brad Pitt\", \"Brad Pitt\", \"Brad Pitt\", \"Brad Pitt\", \"Brad Pitt\", \"Brad Pitt\", \"Brad Pitt\", \"Brad Pitt\", \"Brad Pitt\", \"Brad Pitt\", \"Brad Pitt\", \"Brad Pitt\", \"Brad Pitt\", \"Brad Pitt\", \"Brad Pitt\", \"Brad Pitt\", \"Brad Pitt\", \"Brad Pitt\", \"Brad Pitt\", \"Brad Pitt\", \"Brad Pitt\", \"Brad Pitt\", \"Brad Pitt\", \"Brad Pitt\", \"Brad Pitt\", \"Brad Pitt\", \"Brad Pitt\", \"Brad Pitt\", \"Brad Pitt\", \"Brad Pitt\", \"Brad Pitt\", \"Brad Pitt\", \"Brad Pitt\", \"Brad Pitt\", \"Brad Pitt\", \"Brad Pitt\", \"Brad Pitt\", \"Brad Pitt\", \"Brad Pitt\", \"Brad Pitt\", \"Brad Pitt\", \"Brad Pitt\", \"Brad Pitt\", \"Brad Pitt\", \"Brad Pitt\", \"Brad Pitt\", \"Brad Pitt\", \"Brad Pitt\", \"Brad Pitt\", \"Brad Pitt\", \"Brad Pitt\", \"Brad Pitt\", \"Brad Pitt\", \"Brad Pitt\", \"Brad Pitt\", \"Brad Pitt\", \"Brad Pitt\", \"Brad Pitt\", \"Brad Pitt\", \"Brad Pitt\", \"Brad Pitt\", \"Brad Pitt\", \"Brad Pitt\", \"Brad Pitt\", \"Brad Pitt\", \"Brad Pitt\", \"Brad Pitt\", \"Brad Pitt\", \"Brad Pitt\", \"Brad Pitt\", \"Brad Pitt\", \"Brad Pitt\", \"Brad Pitt\", \"Brad Pitt\", \"Brad Pitt\", \"Brad Pitt\", \"Brad Pitt\", \"Brad Pitt\", \"Brad Pitt\", \"Brad Pitt\", \"Brad Pitt\", \"Brad Pitt\", \"Brad Pitt\", \"Brad Pitt\", \"Brad Pitt\", \"Brad Pitt\", \"Brad Pitt\", \"Brad Pitt\", \"Brad Pitt\", \"Brad Pitt\", \"Brad Pitt\", \"Brad Pitt\", \"Brad Pitt\", \"Brad Pitt\", \"Brad Pitt\", \"Brad Pitt\", \"Brad Pitt\", \"Brad Pitt\", \"Brad Pitt\", \"Brad Pitt\", \"Brad Pitt\", \"Brad Pitt\", \"Brad Pitt\", \"Brad Pitt\", \"Brad Pitt\", \"Brad Pitt\", \"Brad Pitt\", \"Brad Pitt\", \"Brad Pitt\", \"Brad Pitt\", \"Brad Pitt\", \"Brad Pitt\", \"Brad Pitt\", \"Brad Pitt\", \"Brad Pitt\", \"Brad Pitt\", \"Brad Pitt\", \"Brad Pitt\", \"Brad Pitt\", \"Brad Pitt\", \"Brad Pitt\", \"Brad Pitt\", \"Brad Pitt\", \"Brad Pitt\", \"Brad Pitt\", \"Brad Pitt\", \"Brad Pitt\", \"Brad Pitt\", \"Brad Pitt\", \"Brad Pitt\", \"Brad Pitt\", \"Brad Pitt\", \"Brad Pitt\", \"Brad Pitt\", \"Brad Pitt\", \"Brad Pitt\", \"Brad Pitt\", \"Brad Pitt\", \"Brad Pitt\", \"Brad Pitt\", \"Brad Pitt\", \"Brad Pitt\", \"Brad Pitt\", \"Brad Pitt\", \"Brad Pitt\", \"Brad Pitt\", \"Brad Pitt\", \"Brad Pitt\", \"Brad Pitt\", \"Brad Pitt\", \"Brad Pitt\", \"Brad Pitt\", \"Brad Pitt\", \"Brad Pitt\", \"Brad Pitt\", \"Brad Pitt\", \"Brad Pitt\", \"Brad Pitt\", \"Brad Pitt\", \"Brad Pitt\", \"Brad Pitt\", \"Brad Pitt\", \"Brad Pitt\", \"Brad Pitt\", \"Brad Pitt\", \"Brad Pitt\", \"Brad Pitt\", \"Brad Pitt\", \"Brad Pitt\", \"Brad Pitt\", \"Brad Pitt\", \"Brad Pitt\", \"Brad Pitt\", \"Brad Pitt\", \"Brad Pitt\", \"Brad Pitt\", \"Brad Pitt\", \"Brad Pitt\", \"Brad Pitt\", \"Brad Pitt\", \"Brad Pitt\", \"Brad Pitt\", \"Brad Pitt\", \"Brad Pitt\", \"Brad Pitt\", \"Brad Pitt\", \"Brad Pitt\", \"Brad Pitt\", \"Brad Pitt\", \"Brad Pitt\", \"Brad Pitt\", \"Brad Pitt\", \"Brad Pitt\", \"Brad Pitt\", \"Brad Pitt\", \"Brad Pitt\", \"Brad Pitt\", \"Brad Pitt\", \"Brad Pitt\", \"Brad Pitt\", \"Brad Pitt\", \"Brad Pitt\", \"Brad Pitt\", \"Brad Pitt\", \"Brad Pitt\", \"Brad Pitt\", \"Brad Pitt\"], \n",
    "  \"y\": [\"3.8887692423\", \"3.8887692423\", \"3.8887692423\", \"3.8887692423\", \"3.8887692423\", \"3.8887692423\", \"3.8887692423\", \"3.8887692423\", \"3.8887692423\", \"3.8887692423\", \"3.8887692423\", \"3.8887692423\", \"3.8887692423\", \"3.8887692423\", \"3.8887692423\", \"3.8887692423\", \"3.8887692423\", \"3.8887692423\", \"3.8887692423\", \"3.8887692423\", \"3.8887692423\", \"3.8887692423\", \"3.8887692423\", \"3.8887692423\", \"3.8887692423\", \"3.8887692423\", \"3.8887692423\", \"3.8887692423\", \"3.8887692423\", \"3.8887692423\", \"3.8887692423\", \"3.8887692423\", \"3.8887692423\", \"3.8887692423\", \"3.8887692423\", \"3.8887692423\", \"3.8887692423\", \"3.8887692423\", \"3.8887692423\", \"3.8887692423\", \"3.8887692423\", \"3.8887692423\", \"3.8887692423\", \"3.8887692423\", \"3.8887692423\", \"3.8887692423\", \"3.8887692423\", \"3.8887692423\", \"3.8887692423\", \"3.8887692423\", \"3.8887692423\", \"3.8887692423\", \"3.8887692423\", \"3.8887692423\", \"3.8887692423\", \"3.8887692423\", \"3.8887692423\", \"3.8887692423\", \"3.8887692423\", \"3.8887692423\", \"3.8887692423\", \"3.8887692423\", \"3.8887692423\", \"4.0681282996\", \"4.0681282996\", \"4.0681282996\", \"4.0681282996\", \"4.0681282996\", \"4.0681282996\", \"4.0681282996\", \"4.0681282996\", \"4.0681282996\", \"4.0681282996\", \"4.0681282996\", \"4.0681282996\", \"4.0681282996\", \"4.0681282996\", \"4.0681282996\", \"4.0681282996\", \"4.0681282996\", \"4.0681282996\", \"4.0681282996\", \"4.0681282996\", \"4.0681282996\", \"4.0681282996\", \"4.0681282996\", \"4.0681282996\", \"4.0681282996\", \"4.0681282996\", \"4.0681282996\", \"4.0681282996\", \"4.0681282996\", \"4.0681282996\", \"4.0681282996\", \"4.0681282996\", \"4.0681282996\", \"4.0681282996\", \"4.0681282996\", \"4.0681282996\", \"4.0681282996\", \"4.0681282996\", \"4.0681282996\", \"4.0681282996\", \"4.0681282996\", \"4.0681282996\", \"4.0681282996\", \"4.0681282996\", \"4.0681282996\", \"4.0681282996\", \"4.0681282996\", \"4.0681282996\", \"4.0681282996\", \"4.0681282996\", \"4.0681282996\", \"4.0681282996\", \"4.0681282996\", \"4.0681282996\", \"4.0681282996\", \"4.0681282996\", \"4.0681282996\", \"4.0681282996\", \"4.0681282996\", \"4.0681282996\", \"3.5019296811\", \"3.5019296811\", \"3.5019296811\", \"3.5019296811\", \"3.5019296811\", \"3.5019296811\", \"3.5019296811\", \"3.5019296811\", \"3.5019296811\", \"3.5019296811\", \"3.5019296811\", \"3.5019296811\", \"3.5019296811\", \"3.5019296811\", \"3.5019296811\", \"3.5019296811\", \"3.5019296811\", \"3.5019296811\", \"3.5019296811\", \"3.5019296811\", \"3.5019296811\", \"3.5001401895\", \"3.5001401895\", \"3.5001401895\", \"3.5001401895\", \"3.5001401895\", \"3.5001401895\", \"3.5001401895\", \"3.5001401895\", \"3.5001401895\", \"3.5001401895\", \"3.5001401895\", \"3.5001401895\", \"3.5001401895\", \"3.339386871\", \"3.339386871\", \"3.339386871\", \"3.8041960094\", \"3.8041960094\", \"3.8041960094\", \"3.8041960094\", \"3.8041960094\", \"2.61143629\", \"3.6276606037\", \"3.6276606037\", \"3.6276606037\", \"3.6276606037\", \"3.6276606037\", \"3.6276606037\", \"3.6276606037\", \"3.6276606037\", \"3.6276606037\", \"3.6276606037\", \"3.6276606037\", \"3.6276606037\", \"3.0398048279\", \"3.4321115126\", \"3.4321115126\", \"3.4321115126\", \"3.4321115126\", \"3.4321115126\", \"3.4321115126\", \"3.4321115126\", \"3.4321115126\", \"3.4321115126\", \"3.4321115126\", \"3.4321115126\", \"3.4914337241\", \"3.322573225\", \"3.322573225\", \"3.322573225\", \"3.322573225\", \"3.322573225\", \"3.322573225\", \"3.322573225\", \"3.322573225\", \"3.322573225\", \"3.322573225\", \"3.322573225\", \"3.322573225\", \"3.322573225\", \"4.2307160469\", \"4.2307160469\", \"4.2307160469\", \"4.2307160469\", \"4.2307160469\", \"4.2307160469\", \"4.2307160469\", \"4.2307160469\", \"4.2307160469\", \"4.2307160469\", \"4.2307160469\", \"4.2307160469\", \"4.2307160469\", \"4.2307160469\", \"4.2307160469\", \"4.2307160469\", \"4.2307160469\", \"4.2307160469\", \"4.2307160469\", \"4.2307160469\", \"4.2307160469\", \"4.2307160469\", \"4.2307160469\", \"4.2307160469\", \"4.2307160469\", \"4.2307160469\", \"4.2307160469\", \"4.2307160469\", \"4.2307160469\", \"4.2307160469\", \"4.2307160469\", \"4.2307160469\", \"4.2307160469\", \"4.2307160469\", \"4.2307160469\", \"4.2307160469\", \"4.2307160469\", \"4.2307160469\", \"4.2307160469\", \"4.2307160469\", \"4.2307160469\", \"4.2307160469\", \"4.2307160469\", \"4.2307160469\", \"4.2307160469\", \"4.2307160469\", \"4.2307160469\", \"4.2307160469\", \"4.2307160469\", \"4.2307160469\", \"4.2307160469\", \"4.2307160469\", \"4.2307160469\", \"4.2307160469\", \"4.2307160469\", \"4.2307160469\", \"4.2307160469\", \"4.2307160469\", \"4.2307160469\", \"4.2307160469\", \"4.2307160469\", \"4.2307160469\", \"4.2307160469\", \"4.2307160469\", \"4.2307160469\", \"4.2307160469\", \"4.2307160469\", \"4.2307160469\", \"4.2307160469\", \"4.2307160469\", \"4.2307160469\", \"4.2307160469\", \"4.2307160469\", \"4.2307160469\", \"4.2307160469\", \"4.2307160469\", \"4.2307160469\", \"4.2307160469\", \"4.2307160469\", \"4.2307160469\", \"4.2307160469\", \"4.2307160469\", \"4.2307160469\", \"4.2307160469\", \"4.2307160469\", \"4.2307160469\", \"4.2307160469\", \"4.2307160469\", \"4.2307160469\", \"4.2307160469\", \"4.2307160469\", \"4.2307160469\", \"4.2307160469\", \"4.2307160469\", \"4.2307160469\", \"4.2307160469\", \"4.2307160469\", \"4.2307160469\", \"4.2307160469\", \"4.2307160469\", \"4.2307160469\", \"4.2307160469\", \"4.2307160469\", \"4.2307160469\", \"4.2307160469\", \"4.2307160469\", \"4.2307160469\", \"4.2307160469\", \"4.2307160469\", \"4.2307160469\", \"4.2307160469\", \"4.2307160469\", \"4.2307160469\", \"4.2307160469\", \"4.2307160469\", \"4.2307160469\", \"4.2307160469\", \"4.2307160469\", \"4.2307160469\", \"4.2307160469\", \"4.2307160469\", \"4.2307160469\", \"4.2307160469\", \"4.2307160469\", \"4.2307160469\", \"4.2307160469\", \"4.2307160469\", \"4.2307160469\", \"4.2307160469\", \"4.2307160469\", \"4.2307160469\", \"4.2307160469\", \"4.2307160469\", \"4.2307160469\", \"4.2307160469\", \"4.2307160469\", \"4.2307160469\", \"4.2307160469\", \"4.2307160469\", \"4.2307160469\", \"4.2307160469\", \"4.2307160469\", \"4.2307160469\", \"4.2307160469\", \"4.2307160469\", \"4.2307160469\", \"4.2307160469\", \"4.2307160469\", \"4.2307160469\", \"4.2307160469\", \"4.2307160469\", \"4.2307160469\", \"4.2307160469\", \"4.2307160469\", \"4.2307160469\", \"4.2307160469\", \"4.2307160469\", \"4.2307160469\", \"4.2307160469\", \"4.2307160469\", \"4.2307160469\", \"4.2307160469\", \"4.2307160469\", \"4.2307160469\", \"4.2307160469\", \"4.2307160469\", \"4.2307160469\", \"4.2307160469\", \"4.2307160469\", \"4.2307160469\", \"4.2307160469\", \"4.2307160469\", \"4.2307160469\", \"4.2307160469\", \"4.2307160469\", \"3.6800549786\", \"3.6800549786\", \"3.5853113051\", \"3.5853113051\", \"3.5853113051\", \"3.5853113051\", \"3.5853113051\", \"3.5853113051\", \"3.5853113051\", \"4.0605051289\", \"4.0605051289\", \"4.0605051289\", \"4.0605051289\", \"4.0605051289\", \"4.0605051289\", \"4.0605051289\", \"4.0605051289\", \"4.0605051289\", \"4.0605051289\", \"4.0605051289\", \"4.0605051289\", \"4.0605051289\", \"4.0605051289\", \"4.0605051289\", \"4.0605051289\", \"4.0605051289\", \"4.0605051289\", \"4.0605051289\", \"4.0605051289\", \"4.0605051289\", \"4.0605051289\", \"4.0605051289\", \"4.0605051289\", \"4.0605051289\", \"4.0605051289\", \"4.0605051289\", \"4.0605051289\", \"4.0605051289\", \"4.0605051289\", \"4.0605051289\", \"4.0605051289\", \"4.0605051289\", \"4.0605051289\", \"4.0605051289\", \"4.0605051289\", \"4.0605051289\", \"4.0605051289\", \"4.0605051289\", \"4.0605051289\", \"4.0605051289\", \"4.0605051289\", \"4.0605051289\", \"4.0605051289\", \"4.0605051289\", \"4.0605051289\", \"4.0605051289\", \"4.0605051289\", \"4.0605051289\", \"4.0605051289\", \"4.0605051289\", \"3.4207393484\", \"3.0270809578\", \"3.0270809578\", \"3.0270809578\", \"3.0270809578\", \"3.0270809578\", \"3.0270809578\", \"3.0270809578\", \"3.6148412578\", \"3.6148412578\", \"3.6148412578\", \"3.6148412578\", \"3.6148412578\", \"3.6148412578\", \"3.6148412578\", \"3.6148412578\", \"3.8027608647\", \"3.8027608647\", \"3.8027608647\", \"3.8027608647\", \"3.8027608647\", \"3.8027608647\", \"3.8027608647\", \"3.8027608647\", \"3.8027608647\", \"3.8027608647\", \"3.8027608647\", \"3.8027608647\", \"3.8027608647\", \"3.8027608647\", \"3.8027608647\", \"3.8027608647\", \"3.8027608647\", \"3.8027608647\", \"3.8027608647\", \"3.8027608647\", \"3.8027608647\", \"3.8027608647\", \"3.8027608647\", \"3.8027608647\", \"3.8027608647\", \"3.8027608647\", \"3.8027608647\", \"3.8027608647\", \"3.8027608647\", \"3.8027608647\", \"3.8027608647\", \"3.8027608647\", \"3.8027608647\", \"3.8027608647\", \"3.8027608647\", \"3.8027608647\", \"3.8027608647\", \"3.8027608647\", \"3.8027608647\", \"3.8027608647\", \"3.8027608647\", \"3.8027608647\", \"3.8027608647\", \"3.8027608647\", \"3.8027608647\", \"3.8027608647\", \"3.5813785114\", \"3.5813785114\", \"3.5813785114\", \"3.5813785114\", \"2.4163545568\", \"3.3389251479\", \"3.3389251479\", \"3.3389251479\", \"3.3389251479\", \"3.3389251479\", \"3.3389251479\", \"3.3389251479\", \"3.3389251479\", \"3.3389251479\", \"3.3389251479\", \"3.3389251479\", \"3.3389251479\", \"3.3389251479\", \"3.3389251479\", \"3.3389251479\", \"3.3389251479\", \"3.3389251479\", \"3.3389251479\", \"3.3389251479\", \"3.3389251479\", \"3.3389251479\", \"3.3389251479\", \"3.3389251479\", \"3.3389251479\", \"3.3389251479\", \"3.3389251479\", \"3.3389251479\", \"3.3389251479\", \"3.3389251479\", \"3.3389251479\", \"3.3389251479\", \"3.3389251479\", \"3.3389251479\", \"3.3389251479\", \"3.3389251479\", \"3.3389251479\", \"3.3389251479\", \"3.3389251479\", \"3.310193133\", \"3.310193133\", \"3.310193133\", \"3.310193133\", \"3.310193133\", \"3.310193133\", \"3.310193133\", \"3.310193133\", \"3.310193133\", \"3.310193133\", \"3.310193133\", \"3.310193133\", \"3.310193133\", \"3.310193133\", \"3.310193133\", \"3.310193133\", \"3.310193133\", \"3.310193133\", \"3.310193133\", \"3.310193133\", \"3.310193133\", \"3.310193133\", \"3.310193133\", \"3.310193133\", \"3.310193133\", \"3.310193133\", \"3.2380689538\", \"3.2380689538\", \"3.2380689538\", \"3.2380689538\", \"3.2380689538\", \"3.2380689538\", \"3.2380689538\", \"3.2380689538\", \"3.2380689538\", \"3.2380689538\", \"3.2380689538\", \"3.2380689538\", \"3.2380689538\", \"3.2380689538\", \"3.2380689538\", \"3.2380689538\", \"3.2380689538\", \"3.2380689538\", \"3.2380689538\", \"3.2380689538\", \"3.2380689538\", \"3.2380689538\", \"3.2380689538\", \"3.2380689538\", \"3.2380689538\", \"3.2380689538\", \"3.2380689538\", \"3.2380689538\", \"3.2380689538\", \"3.2380689538\", \"3.6485348602\", \"3.6485348602\", \"3.6485348602\", \"3.6485348602\", \"3.6485348602\", \"3.6485348602\", \"3.6485348602\", \"3.6485348602\", \"3.6485348602\", \"3.6485348602\", \"3.6485348602\", \"3.6485348602\", \"3.6485348602\", \"3.6485348602\", \"3.6485348602\", \"3.6485348602\", \"3.6485348602\", \"3.864280652\", \"3.5186653214\", \"3.5186653214\", \"3.5186653214\", \"3.5186653214\", \"3.5186653214\", \"3.5186653214\", \"3.5186653214\", \"3.5186653214\", \"3.5186653214\", \"3.5186653214\", \"3.63195835\", \"3.63195835\", \"3.63195835\", \"3.63195835\", \"3.63195835\", \"3.63195835\", \"3.63195835\", \"3.63195835\", \"3.63195835\", \"3.63195835\", \"3.63195835\", \"3.63195835\", \"3.5348525469\", \"3.5348525469\", \"3.5348525469\", \"3.5348525469\", \"3.5348525469\", \"3.5348525469\", \"3.5348525469\", \"3.5348525469\", \"3.5348525469\", \"3.5348525469\", \"3.5348525469\", \"3.5348525469\", \"3.5348525469\", \"3.5348525469\", \"3.5348525469\", \"3.5348525469\", \"3.5348525469\", \"3.5348525469\", \"3.5348525469\", \"3.5348525469\", \"3.5348525469\", \"3.5348525469\", \"3.5348525469\", \"3.5348525469\", \"3.5348525469\", \"3.5348525469\", \"3.5348525469\", \"3.5348525469\", \"3.5348525469\", \"3.5348525469\", \"3.5348525469\", \"3.5348525469\", \"3.5348525469\", \"3.6106232598\", \"3.6106232598\", \"3.6106232598\", \"3.6106232598\", \"3.6106232598\", \"3.6106232598\", \"3.6106232598\", \"3.6106232598\", \"3.6106232598\", \"3.6106232598\", \"3.6106232598\", \"3.6106232598\", \"3.6106232598\", \"3.6106232598\", \"3.6106232598\", \"3.6106232598\", \"3.6106232598\", \"3.6106232598\", \"3.6106232598\", \"3.6106232598\", \"3.6106232598\", \"3.6106232598\", \"3.6106232598\", \"3.6106232598\", \"3.6106232598\", \"3.6106232598\", \"3.6106232598\", \"3.6106232598\", \"3.6106232598\", \"3.6106232598\", \"3.6106232598\", \"3.6106232598\", \"3.6106232598\", \"3.6106232598\", \"3.6106232598\", \"3.6106232598\", \"3.6106232598\", \"3.6106232598\", \"3.6106232598\", \"3.6106232598\", \"3.6106232598\", \"3.6106232598\", \"3.6106232598\", \"3.6106232598\", \"3.6106232598\", \"3.6106232598\", \"3.6106232598\", \"3.6106232598\", \"3.6106232598\", \"3.6106232598\", \"3.6106232598\", \"3.6106232598\", \"4.0024241515\", \"4.0024241515\", \"4.0024241515\", \"4.0024241515\", \"4.0024241515\", \"4.0024241515\", \"4.0024241515\", \"4.0024241515\", \"4.0024241515\", \"4.0024241515\", \"4.0024241515\", \"4.0024241515\", \"4.0024241515\", \"4.0024241515\", \"4.0024241515\", \"4.0024241515\", \"4.0024241515\", \"4.0024241515\", \"4.0024241515\", \"4.0024241515\", \"4.0024241515\", \"4.0024241515\", \"4.0024241515\", \"4.0024241515\", \"4.0024241515\", \"4.0024241515\", \"4.0024241515\", \"4.0024241515\", \"4.0024241515\", \"4.0024241515\", \"4.0024241515\", \"4.0024241515\", \"4.0024241515\", \"4.0024241515\", \"4.0024241515\", \"4.0024241515\", \"4.0024241515\", \"4.0024241515\", \"4.0024241515\", \"4.0024241515\", \"4.0024241515\", \"4.0024241515\", \"4.0024241515\", \"4.0024241515\", \"4.0024241515\", \"4.0024241515\", \"4.0024241515\", \"4.0024241515\", \"4.0024241515\", \"4.0024241515\", \"4.0024241515\", \"4.0024241515\", \"4.0024241515\", \"4.0024241515\", \"4.0024241515\", \"4.0024241515\", \"4.0024241515\", \"4.0024241515\", \"4.0024241515\", \"4.0024241515\", \"4.0024241515\", \"4.0024241515\", \"4.0024241515\", \"4.0024241515\", \"4.0024241515\", \"4.0024241515\", \"4.0024241515\", \"4.0024241515\", \"4.0024241515\", \"4.0024241515\", \"4.0024241515\", \"4.0024241515\", \"4.0024241515\", \"4.0024241515\", \"4.0024241515\", \"4.0024241515\", \"4.0024241515\", \"4.0024241515\", \"4.0024241515\", \"4.0024241515\", \"4.0024241515\", \"4.0024241515\", \"4.0024241515\", \"4.0024241515\", \"4.0024241515\", \"4.0024241515\", \"4.0024241515\", \"4.0024241515\", \"4.0024241515\", \"4.0024241515\", \"4.0024241515\", \"4.0024241515\", \"4.0024241515\", \"4.0024241515\", \"4.0024241515\", \"4.0024241515\", \"4.0024241515\", \"3.5924369748\", \"3.3255654558\", \"3.3255654558\", \"3.3255654558\", \"3.3255654558\", \"3.3255654558\", \"3.3255654558\", \"3.3255654558\", \"3.8541548363\", \"3.8541548363\", \"3.8541548363\", \"3.8541548363\", \"3.8541548363\", \"3.8541548363\", \"3.8541548363\", \"3.8541548363\", \"3.8541548363\", \"3.8541548363\", \"3.8541548363\", \"3.8541548363\", \"3.8541548363\", \"3.8541548363\", \"3.8541548363\", \"3.8541548363\", \"3.8541548363\", \"3.8541548363\", \"3.8541548363\", \"3.8541548363\", \"3.8541548363\", \"3.8541548363\", \"3.8541548363\", \"3.8541548363\", \"3.8541548363\", \"3.8541548363\", \"3.8541548363\", \"3.8541548363\", \"3.2147385103\", \"3.2147385103\", \"3.2147385103\", \"3.2832093518\", \"3.2832093518\", \"3.2832093518\", \"3.2832093518\", \"3.2832093518\", \"3.2832093518\", \"3.2832093518\", \"3.2832093518\", \"3.2832093518\", \"3.2832093518\", \"3.2832093518\", \"3.2832093518\", \"3.2832093518\", \"3.2832093518\", \"3.2832093518\", \"3.2832093518\", \"2.6405228758\", \"2.6405228758\", \"3.8758462282\", \"3.8758462282\", \"3.8758462282\", \"3.8758462282\", \"3.8758462282\", \"3.7310750636\", \"3.7310750636\", \"3.7310750636\", \"3.7310750636\", \"3.7310750636\", \"3.7310750636\", \"3.7310750636\", \"3.7310750636\", \"3.7310750636\", \"3.7310750636\", \"3.7310750636\", \"3.7310750636\", \"3.7310750636\", \"3.7310750636\", \"3.7310750636\", \"3.7310750636\", \"3.7310750636\", \"3.7310750636\", \"4.005572937\", \"4.005572937\", \"3.5326797386\", \"3.5326797386\", \"3.006097561\", \"3.006097561\"], \n",
    "  \"mode\": \"markers\", \n",
    "  \"name\": \"3.8887692423\", \n",
    "  \"text\": [\"Twelve Monkeys (a.k.a. 12 Monkeys) (1995)\", \"Twelve Monkeys (a.k.a. 12 Monkeys) (1995)\", \"Twelve Monkeys (a.k.a. 12 Monkeys) (1995)\", \"Twelve Monkeys (a.k.a. 12 Monkeys) (1995)\", \"Twelve Monkeys (a.k.a. 12 Monkeys) (1995)\", \"Twelve Monkeys (a.k.a. 12 Monkeys) (1995)\", \"Twelve Monkeys (a.k.a. 12 Monkeys) (1995)\", \"Twelve Monkeys (a.k.a. 12 Monkeys) (1995)\", \"Twelve Monkeys (a.k.a. 12 Monkeys) (1995)\", \"Twelve Monkeys (a.k.a. 12 Monkeys) (1995)\", \"Twelve Monkeys (a.k.a. 12 Monkeys) (1995)\", \"Twelve Monkeys (a.k.a. 12 Monkeys) (1995)\", \"Twelve Monkeys (a.k.a. 12 Monkeys) (1995)\", \"Twelve Monkeys (a.k.a. 12 Monkeys) (1995)\", \"Twelve Monkeys (a.k.a. 12 Monkeys) (1995)\", \"Twelve Monkeys (a.k.a. 12 Monkeys) (1995)\", \"Twelve Monkeys (a.k.a. 12 Monkeys) (1995)\", \"Twelve Monkeys (a.k.a. 12 Monkeys) (1995)\", \"Twelve Monkeys (a.k.a. 12 Monkeys) (1995)\", \"Twelve Monkeys (a.k.a. 12 Monkeys) (1995)\", \"Twelve Monkeys (a.k.a. 12 Monkeys) (1995)\", \"Twelve Monkeys (a.k.a. 12 Monkeys) (1995)\", \"Twelve Monkeys (a.k.a. 12 Monkeys) (1995)\", \"Twelve Monkeys (a.k.a. 12 Monkeys) (1995)\", \"Twelve Monkeys (a.k.a. 12 Monkeys) (1995)\", \"Twelve Monkeys (a.k.a. 12 Monkeys) (1995)\", \"Twelve Monkeys (a.k.a. 12 Monkeys) (1995)\", \"Twelve Monkeys (a.k.a. 12 Monkeys) (1995)\", \"Twelve Monkeys (a.k.a. 12 Monkeys) (1995)\", \"Twelve Monkeys (a.k.a. 12 Monkeys) (1995)\", \"Twelve Monkeys (a.k.a. 12 Monkeys) (1995)\", \"Twelve Monkeys (a.k.a. 12 Monkeys) (1995)\", \"Twelve Monkeys (a.k.a. 12 Monkeys) (1995)\", \"Twelve Monkeys (a.k.a. 12 Monkeys) (1995)\", \"Twelve Monkeys (a.k.a. 12 Monkeys) (1995)\", \"Twelve Monkeys (a.k.a. 12 Monkeys) (1995)\", \"Twelve Monkeys (a.k.a. 12 Monkeys) (1995)\", \"Twelve Monkeys (a.k.a. 12 Monkeys) (1995)\", \"Twelve Monkeys (a.k.a. 12 Monkeys) (1995)\", \"Twelve Monkeys (a.k.a. 12 Monkeys) (1995)\", \"Twelve Monkeys (a.k.a. 12 Monkeys) (1995)\", \"Twelve Monkeys (a.k.a. 12 Monkeys) (1995)\", \"Twelve Monkeys (a.k.a. 12 Monkeys) (1995)\", \"Twelve Monkeys (a.k.a. 12 Monkeys) (1995)\", \"Twelve Monkeys (a.k.a. 12 Monkeys) (1995)\", \"Twelve Monkeys (a.k.a. 12 Monkeys) (1995)\", \"Twelve Monkeys (a.k.a. 12 Monkeys) (1995)\", \"Twelve Monkeys (a.k.a. 12 Monkeys) (1995)\", \"Twelve Monkeys (a.k.a. 12 Monkeys) (1995)\", \"Twelve Monkeys (a.k.a. 12 Monkeys) (1995)\", \"Twelve Monkeys (a.k.a. 12 Monkeys) (1995)\", \"Twelve Monkeys (a.k.a. 12 Monkeys) (1995)\", \"Twelve Monkeys (a.k.a. 12 Monkeys) (1995)\", \"Twelve Monkeys (a.k.a. 12 Monkeys) (1995)\", \"Twelve Monkeys (a.k.a. 12 Monkeys) (1995)\", \"Twelve Monkeys (a.k.a. 12 Monkeys) (1995)\", \"Twelve Monkeys (a.k.a. 12 Monkeys) (1995)\", \"Twelve Monkeys (a.k.a. 12 Monkeys) (1995)\", \"Twelve Monkeys (a.k.a. 12 Monkeys) (1995)\", \"Twelve Monkeys (a.k.a. 12 Monkeys) (1995)\", \"Twelve Monkeys (a.k.a. 12 Monkeys) (1995)\", \"Twelve Monkeys (a.k.a. 12 Monkeys) (1995)\", \"Twelve Monkeys (a.k.a. 12 Monkeys) (1995)\", \"Seven (a.k.a. Se7en) (1995)\", \"Seven (a.k.a. Se7en) (1995)\", \"Seven (a.k.a. Se7en) (1995)\", \"Seven (a.k.a. Se7en) (1995)\", \"Seven (a.k.a. Se7en) (1995)\", \"Seven (a.k.a. Se7en) (1995)\", \"Seven (a.k.a. Se7en) (1995)\", \"Seven (a.k.a. Se7en) (1995)\", \"Seven (a.k.a. Se7en) (1995)\", \"Seven (a.k.a. Se7en) (1995)\", \"Seven (a.k.a. Se7en) (1995)\", \"Seven (a.k.a. Se7en) (1995)\", \"Seven (a.k.a. Se7en) (1995)\", \"Seven (a.k.a. Se7en) (1995)\", \"Seven (a.k.a. Se7en) (1995)\", \"Seven (a.k.a. Se7en) (1995)\", \"Seven (a.k.a. Se7en) (1995)\", \"Seven (a.k.a. Se7en) (1995)\", \"Seven (a.k.a. Se7en) (1995)\", \"Seven (a.k.a. Se7en) (1995)\", \"Seven (a.k.a. Se7en) (1995)\", \"Seven (a.k.a. Se7en) (1995)\", \"Seven (a.k.a. Se7en) (1995)\", \"Seven (a.k.a. Se7en) (1995)\", \"Seven (a.k.a. Se7en) (1995)\", \"Seven (a.k.a. Se7en) (1995)\", \"Seven (a.k.a. Se7en) (1995)\", \"Seven (a.k.a. Se7en) (1995)\", \"Seven (a.k.a. Se7en) (1995)\", \"Seven (a.k.a. Se7en) (1995)\", \"Seven (a.k.a. Se7en) (1995)\", \"Seven (a.k.a. Se7en) (1995)\", \"Seven (a.k.a. Se7en) (1995)\", \"Seven (a.k.a. Se7en) (1995)\", \"Seven (a.k.a. Se7en) (1995)\", \"Seven (a.k.a. Se7en) (1995)\", \"Seven (a.k.a. Se7en) (1995)\", \"Seven (a.k.a. Se7en) (1995)\", \"Seven (a.k.a. Se7en) (1995)\", \"Seven (a.k.a. Se7en) (1995)\", \"Seven (a.k.a. Se7en) (1995)\", \"Seven (a.k.a. Se7en) (1995)\", \"Seven (a.k.a. Se7en) (1995)\", \"Seven (a.k.a. Se7en) (1995)\", \"Seven (a.k.a. Se7en) (1995)\", \"Seven (a.k.a. Se7en) (1995)\", \"Seven (a.k.a. Se7en) (1995)\", \"Seven (a.k.a. Se7en) (1995)\", \"Seven (a.k.a. Se7en) (1995)\", \"Seven (a.k.a. Se7en) (1995)\", \"Seven (a.k.a. Se7en) (1995)\", \"Seven (a.k.a. Se7en) (1995)\", \"Seven (a.k.a. Se7en) (1995)\", \"Seven (a.k.a. Se7en) (1995)\", \"Seven (a.k.a. Se7en) (1995)\", \"Seven (a.k.a. Se7en) (1995)\", \"Seven (a.k.a. Se7en) (1995)\", \"Seven (a.k.a. Se7en) (1995)\", \"Seven (a.k.a. Se7en) (1995)\", \"Seven (a.k.a. Se7en) (1995)\", \"Interview with the Vampire: The Vampire Chronicles (1994)\", \"Interview with the Vampire: The Vampire Chronicles (1994)\", \"Interview with the Vampire: The Vampire Chronicles (1994)\", \"Interview with the Vampire: The Vampire Chronicles (1994)\", \"Interview with the Vampire: The Vampire Chronicles (1994)\", \"Interview with the Vampire: The Vampire Chronicles (1994)\", \"Interview with the Vampire: The Vampire Chronicles (1994)\", \"Interview with the Vampire: The Vampire Chronicles (1994)\", \"Interview with the Vampire: The Vampire Chronicles (1994)\", \"Interview with the Vampire: The Vampire Chronicles (1994)\", \"Interview with the Vampire: The Vampire Chronicles (1994)\", \"Interview with the Vampire: The Vampire Chronicles (1994)\", \"Interview with the Vampire: The Vampire Chronicles (1994)\", \"Interview with the Vampire: The Vampire Chronicles (1994)\", \"Interview with the Vampire: The Vampire Chronicles (1994)\", \"Interview with the Vampire: The Vampire Chronicles (1994)\", \"Interview with the Vampire: The Vampire Chronicles (1994)\", \"Interview with the Vampire: The Vampire Chronicles (1994)\", \"Interview with the Vampire: The Vampire Chronicles (1994)\", \"Interview with the Vampire: The Vampire Chronicles (1994)\", \"Interview with the Vampire: The Vampire Chronicles (1994)\", \"Legends of the Fall (1994)\", \"Legends of the Fall (1994)\", \"Legends of the Fall (1994)\", \"Legends of the Fall (1994)\", \"Legends of the Fall (1994)\", \"Legends of the Fall (1994)\", \"Legends of the Fall (1994)\", \"Legends of the Fall (1994)\", \"Legends of the Fall (1994)\", \"Legends of the Fall (1994)\", \"Legends of the Fall (1994)\", \"Legends of the Fall (1994)\", \"Legends of the Fall (1994)\", \"Kalifornia (1993)\", \"Kalifornia (1993)\", \"Kalifornia (1993)\", \"True Romance (1993)\", \"True Romance (1993)\", \"True Romance (1993)\", \"True Romance (1993)\", \"True Romance (1993)\", \"Brady Bunch Movie, The (1995)\", \"Sleepers (1996)\", \"Sleepers (1996)\", \"Sleepers (1996)\", \"Sleepers (1996)\", \"Sleepers (1996)\", \"Sleepers (1996)\", \"Sleepers (1996)\", \"Sleepers (1996)\", \"Sleepers (1996)\", \"Sleepers (1996)\", \"Sleepers (1996)\", \"Sleepers (1996)\", \"Devil's Own, The (1997)\", \"Seven Years in Tibet (1997)\", \"Seven Years in Tibet (1997)\", \"Seven Years in Tibet (1997)\", \"Seven Years in Tibet (1997)\", \"Seven Years in Tibet (1997)\", \"Seven Years in Tibet (1997)\", \"Seven Years in Tibet (1997)\", \"Seven Years in Tibet (1997)\", \"Seven Years in Tibet (1997)\", \"Seven Years in Tibet (1997)\", \"Seven Years in Tibet (1997)\", \"Bambi (1942)\", \"Meet Joe Black (1998)\", \"Meet Joe Black (1998)\", \"Meet Joe Black (1998)\", \"Meet Joe Black (1998)\", \"Meet Joe Black (1998)\", \"Meet Joe Black (1998)\", \"Meet Joe Black (1998)\", \"Meet Joe Black (1998)\", \"Meet Joe Black (1998)\", \"Meet Joe Black (1998)\", \"Meet Joe Black (1998)\", \"Meet Joe Black (1998)\", \"Meet Joe Black (1998)\", \"Fight Club (1999)\", \"Fight Club (1999)\", \"Fight Club (1999)\", \"Fight Club (1999)\", \"Fight Club (1999)\", \"Fight Club (1999)\", \"Fight Club (1999)\", \"Fight Club (1999)\", \"Fight Club (1999)\", \"Fight Club (1999)\", \"Fight Club (1999)\", \"Fight Club (1999)\", \"Fight Club (1999)\", \"Fight Club (1999)\", \"Fight Club (1999)\", \"Fight Club (1999)\", \"Fight Club (1999)\", \"Fight Club (1999)\", \"Fight Club (1999)\", \"Fight Club (1999)\", \"Fight Club (1999)\", \"Fight Club (1999)\", \"Fight Club (1999)\", \"Fight Club (1999)\", \"Fight Club (1999)\", \"Fight Club (1999)\", \"Fight Club (1999)\", \"Fight Club (1999)\", \"Fight Club (1999)\", \"Fight Club (1999)\", \"Fight Club (1999)\", \"Fight Club (1999)\", \"Fight Club (1999)\", \"Fight Club (1999)\", \"Fight Club (1999)\", \"Fight Club (1999)\", \"Fight Club (1999)\", \"Fight Club (1999)\", \"Fight Club (1999)\", \"Fight Club (1999)\", \"Fight Club (1999)\", \"Fight Club (1999)\", \"Fight Club (1999)\", \"Fight Club (1999)\", \"Fight Club (1999)\", \"Fight Club (1999)\", \"Fight Club (1999)\", \"Fight Club (1999)\", \"Fight Club (1999)\", \"Fight Club (1999)\", \"Fight Club (1999)\", \"Fight Club (1999)\", \"Fight Club (1999)\", \"Fight Club (1999)\", \"Fight Club (1999)\", \"Fight Club (1999)\", \"Fight Club (1999)\", \"Fight Club (1999)\", \"Fight Club (1999)\", \"Fight Club (1999)\", \"Fight Club (1999)\", \"Fight Club (1999)\", \"Fight Club (1999)\", \"Fight Club (1999)\", \"Fight Club (1999)\", \"Fight Club (1999)\", \"Fight Club (1999)\", \"Fight Club (1999)\", \"Fight Club (1999)\", \"Fight Club (1999)\", \"Fight Club (1999)\", \"Fight Club (1999)\", \"Fight Club (1999)\", \"Fight Club (1999)\", \"Fight Club (1999)\", \"Fight Club (1999)\", \"Fight Club (1999)\", \"Fight Club (1999)\", \"Fight Club (1999)\", \"Fight Club (1999)\", \"Fight Club (1999)\", \"Fight Club (1999)\", \"Fight Club (1999)\", \"Fight Club (1999)\", \"Fight Club (1999)\", \"Fight Club (1999)\", \"Fight Club (1999)\", \"Fight Club (1999)\", \"Fight Club (1999)\", \"Fight Club (1999)\", \"Fight Club (1999)\", \"Fight Club (1999)\", \"Fight Club (1999)\", \"Fight Club (1999)\", \"Fight Club (1999)\", \"Fight Club (1999)\", \"Fight Club (1999)\", \"Fight Club (1999)\", \"Fight Club (1999)\", \"Fight Club (1999)\", \"Fight Club (1999)\", \"Fight Club (1999)\", \"Fight Club (1999)\", \"Fight Club (1999)\", \"Fight Club (1999)\", \"Fight Club (1999)\", \"Fight Club (1999)\", \"Fight Club (1999)\", \"Fight Club (1999)\", \"Fight Club (1999)\", \"Fight Club (1999)\", \"Fight Club (1999)\", \"Fight Club (1999)\", \"Fight Club (1999)\", \"Fight Club (1999)\", \"Fight Club (1999)\", \"Fight Club (1999)\", \"Fight Club (1999)\", \"Fight Club (1999)\", \"Fight Club (1999)\", \"Fight Club (1999)\", \"Fight Club (1999)\", \"Fight Club (1999)\", \"Fight Club (1999)\", \"Fight Club (1999)\", \"Fight Club (1999)\", \"Fight Club (1999)\", \"Fight Club (1999)\", \"Fight Club (1999)\", \"Fight Club (1999)\", \"Fight Club (1999)\", \"Fight Club (1999)\", \"Fight Club (1999)\", \"Fight Club (1999)\", \"Fight Club (1999)\", \"Fight Club (1999)\", \"Fight Club (1999)\", \"Fight Club (1999)\", \"Fight Club (1999)\", \"Fight Club (1999)\", \"Fight Club (1999)\", \"Fight Club (1999)\", \"Fight Club (1999)\", \"Fight Club (1999)\", \"Fight Club (1999)\", \"Fight Club (1999)\", \"Fight Club (1999)\", \"Fight Club (1999)\", \"Fight Club (1999)\", \"Fight Club (1999)\", \"Fight Club (1999)\", \"Fight Club (1999)\", \"Fight Club (1999)\", \"Fight Club (1999)\", \"Fight Club (1999)\", \"Fight Club (1999)\", \"Fight Club (1999)\", \"Fight Club (1999)\", \"Fight Club (1999)\", \"Fight Club (1999)\", \"Fight Club (1999)\", \"Fight Club (1999)\", \"Fight Club (1999)\", \"Fight Club (1999)\", \"Fight Club (1999)\", \"Fight Club (1999)\", \"Fight Club (1999)\", \"Fight Club (1999)\", \"Fight Club (1999)\", \"Fight Club (1999)\", \"Fight Club (1999)\", \"Fight Club (1999)\", \"Fight Club (1999)\", \"Fight Club (1999)\", \"Fight Club (1999)\", \"River Runs Through It, A (1992)\", \"River Runs Through It, A (1992)\", \"Thelma & Louise (1991)\", \"Thelma & Louise (1991)\", \"Thelma & Louise (1991)\", \"Thelma & Louise (1991)\", \"Thelma & Louise (1991)\", \"Thelma & Louise (1991)\", \"Thelma & Louise (1991)\", \"Snatch (2000)\", \"Snatch (2000)\", \"Snatch (2000)\", \"Snatch (2000)\", \"Snatch (2000)\", \"Snatch (2000)\", \"Snatch (2000)\", \"Snatch (2000)\", \"Snatch (2000)\", \"Snatch (2000)\", \"Snatch (2000)\", \"Snatch (2000)\", \"Snatch (2000)\", \"Snatch (2000)\", \"Snatch (2000)\", \"Snatch (2000)\", \"Snatch (2000)\", \"Snatch (2000)\", \"Snatch (2000)\", \"Snatch (2000)\", \"Snatch (2000)\", \"Snatch (2000)\", \"Snatch (2000)\", \"Snatch (2000)\", \"Snatch (2000)\", \"Snatch (2000)\", \"Snatch (2000)\", \"Snatch (2000)\", \"Snatch (2000)\", \"Snatch (2000)\", \"Snatch (2000)\", \"Snatch (2000)\", \"Snatch (2000)\", \"Snatch (2000)\", \"Snatch (2000)\", \"Snatch (2000)\", \"Snatch (2000)\", \"Snatch (2000)\", \"Snatch (2000)\", \"Snatch (2000)\", \"Snatch (2000)\", \"Snatch (2000)\", \"Snatch (2000)\", \"Snatch (2000)\", \"Snatch (2000)\", \"Snatch (2000)\", \"Snatch (2000)\", \"Snatch (2000)\", \"Snatch (2000)\", \"Snatch (2000)\", \"Snatch (2000)\", \"Brave Little Toaster, The (1987)\", \"Mexican, The (2001)\", \"Mexican, The (2001)\", \"Mexican, The (2001)\", \"Mexican, The (2001)\", \"Mexican, The (2001)\", \"Mexican, The (2001)\", \"Mexican, The (2001)\", \"Spy Game (2001)\", \"Spy Game (2001)\", \"Spy Game (2001)\", \"Spy Game (2001)\", \"Spy Game (2001)\", \"Spy Game (2001)\", \"Spy Game (2001)\", \"Spy Game (2001)\", \"Ocean's Eleven (2001)\", \"Ocean's Eleven (2001)\", \"Ocean's Eleven (2001)\", \"Ocean's Eleven (2001)\", \"Ocean's Eleven (2001)\", \"Ocean's Eleven (2001)\", \"Ocean's Eleven (2001)\", \"Ocean's Eleven (2001)\", \"Ocean's Eleven (2001)\", \"Ocean's Eleven (2001)\", \"Ocean's Eleven (2001)\", \"Ocean's Eleven (2001)\", \"Ocean's Eleven (2001)\", \"Ocean's Eleven (2001)\", \"Ocean's Eleven (2001)\", \"Ocean's Eleven (2001)\", \"Ocean's Eleven (2001)\", \"Ocean's Eleven (2001)\", \"Ocean's Eleven (2001)\", \"Ocean's Eleven (2001)\", \"Ocean's Eleven (2001)\", \"Ocean's Eleven (2001)\", \"Ocean's Eleven (2001)\", \"Ocean's Eleven (2001)\", \"Ocean's Eleven (2001)\", \"Ocean's Eleven (2001)\", \"Ocean's Eleven (2001)\", \"Ocean's Eleven (2001)\", \"Ocean's Eleven (2001)\", \"Ocean's Eleven (2001)\", \"Ocean's Eleven (2001)\", \"Ocean's Eleven (2001)\", \"Ocean's Eleven (2001)\", \"Ocean's Eleven (2001)\", \"Ocean's Eleven (2001)\", \"Ocean's Eleven (2001)\", \"Ocean's Eleven (2001)\", \"Ocean's Eleven (2001)\", \"Ocean's Eleven (2001)\", \"Ocean's Eleven (2001)\", \"Ocean's Eleven (2001)\", \"Ocean's Eleven (2001)\", \"Ocean's Eleven (2001)\", \"Ocean's Eleven (2001)\", \"Ocean's Eleven (2001)\", \"Ocean's Eleven (2001)\", \"Confessions of a Dangerous Mind (2002)\", \"Confessions of a Dangerous Mind (2002)\", \"Confessions of a Dangerous Mind (2002)\", \"Confessions of a Dangerous Mind (2002)\", \"Cool World (1992)\", \"Troy (2004)\", \"Troy (2004)\", \"Troy (2004)\", \"Troy (2004)\", \"Troy (2004)\", \"Troy (2004)\", \"Troy (2004)\", \"Troy (2004)\", \"Troy (2004)\", \"Troy (2004)\", \"Troy (2004)\", \"Troy (2004)\", \"Troy (2004)\", \"Troy (2004)\", \"Troy (2004)\", \"Troy (2004)\", \"Troy (2004)\", \"Troy (2004)\", \"Troy (2004)\", \"Troy (2004)\", \"Troy (2004)\", \"Troy (2004)\", \"Troy (2004)\", \"Troy (2004)\", \"Troy (2004)\", \"Troy (2004)\", \"Troy (2004)\", \"Troy (2004)\", \"Troy (2004)\", \"Troy (2004)\", \"Troy (2004)\", \"Troy (2004)\", \"Troy (2004)\", \"Troy (2004)\", \"Troy (2004)\", \"Troy (2004)\", \"Troy (2004)\", \"Troy (2004)\", \"Ocean's Twelve (2004)\", \"Ocean's Twelve (2004)\", \"Ocean's Twelve (2004)\", \"Ocean's Twelve (2004)\", \"Ocean's Twelve (2004)\", \"Ocean's Twelve (2004)\", \"Ocean's Twelve (2004)\", \"Ocean's Twelve (2004)\", \"Ocean's Twelve (2004)\", \"Ocean's Twelve (2004)\", \"Ocean's Twelve (2004)\", \"Ocean's Twelve (2004)\", \"Ocean's Twelve (2004)\", \"Ocean's Twelve (2004)\", \"Ocean's Twelve (2004)\", \"Ocean's Twelve (2004)\", \"Ocean's Twelve (2004)\", \"Ocean's Twelve (2004)\", \"Ocean's Twelve (2004)\", \"Ocean's Twelve (2004)\", \"Ocean's Twelve (2004)\", \"Ocean's Twelve (2004)\", \"Ocean's Twelve (2004)\", \"Ocean's Twelve (2004)\", \"Ocean's Twelve (2004)\", \"Ocean's Twelve (2004)\", \"Mr. & Mrs. Smith (2005)\", \"Mr. & Mrs. Smith (2005)\", \"Mr. & Mrs. Smith (2005)\", \"Mr. & Mrs. Smith (2005)\", \"Mr. & Mrs. Smith (2005)\", \"Mr. & Mrs. Smith (2005)\", \"Mr. & Mrs. Smith (2005)\", \"Mr. & Mrs. Smith (2005)\", \"Mr. & Mrs. Smith (2005)\", \"Mr. & Mrs. Smith (2005)\", \"Mr. & Mrs. Smith (2005)\", \"Mr. & Mrs. Smith (2005)\", \"Mr. & Mrs. Smith (2005)\", \"Mr. & Mrs. Smith (2005)\", \"Mr. & Mrs. Smith (2005)\", \"Mr. & Mrs. Smith (2005)\", \"Mr. & Mrs. Smith (2005)\", \"Mr. & Mrs. Smith (2005)\", \"Mr. & Mrs. Smith (2005)\", \"Mr. & Mrs. Smith (2005)\", \"Mr. & Mrs. Smith (2005)\", \"Mr. & Mrs. Smith (2005)\", \"Mr. & Mrs. Smith (2005)\", \"Mr. & Mrs. Smith (2005)\", \"Mr. & Mrs. Smith (2005)\", \"Mr. & Mrs. Smith (2005)\", \"Mr. & Mrs. Smith (2005)\", \"Mr. & Mrs. Smith (2005)\", \"Mr. & Mrs. Smith (2005)\", \"Mr. & Mrs. Smith (2005)\", \"Babel (2006)\", \"Babel (2006)\", \"Babel (2006)\", \"Babel (2006)\", \"Babel (2006)\", \"Babel (2006)\", \"Babel (2006)\", \"Babel (2006)\", \"Babel (2006)\", \"Babel (2006)\", \"Babel (2006)\", \"Babel (2006)\", \"Babel (2006)\", \"Babel (2006)\", \"Babel (2006)\", \"Babel (2006)\", \"Babel (2006)\", \"Inglorious Bastards (Quel maledetto treno blindato) (1978)\", \"Ocean's Thirteen (2007)\", \"Ocean's Thirteen (2007)\", \"Ocean's Thirteen (2007)\", \"Ocean's Thirteen (2007)\", \"Ocean's Thirteen (2007)\", \"Ocean's Thirteen (2007)\", \"Ocean's Thirteen (2007)\", \"Ocean's Thirteen (2007)\", \"Ocean's Thirteen (2007)\", \"Ocean's Thirteen (2007)\", \"Assassination of Jesse James by the Coward Robert Ford, The (2007)\", \"Assassination of Jesse James by the Coward Robert Ford, The (2007)\", \"Assassination of Jesse James by the Coward Robert Ford, The (2007)\", \"Assassination of Jesse James by the Coward Robert Ford, The (2007)\", \"Assassination of Jesse James by the Coward Robert Ford, The (2007)\", \"Assassination of Jesse James by the Coward Robert Ford, The (2007)\", \"Assassination of Jesse James by the Coward Robert Ford, The (2007)\", \"Assassination of Jesse James by the Coward Robert Ford, The (2007)\", \"Assassination of Jesse James by the Coward Robert Ford, The (2007)\", \"Assassination of Jesse James by the Coward Robert Ford, The (2007)\", \"Assassination of Jesse James by the Coward Robert Ford, The (2007)\", \"Assassination of Jesse James by the Coward Robert Ford, The (2007)\", \"Burn After Reading (2008)\", \"Burn After Reading (2008)\", \"Burn After Reading (2008)\", \"Burn After Reading (2008)\", \"Burn After Reading (2008)\", \"Burn After Reading (2008)\", \"Burn After Reading (2008)\", \"Burn After Reading (2008)\", \"Burn After Reading (2008)\", \"Burn After Reading (2008)\", \"Burn After Reading (2008)\", \"Burn After Reading (2008)\", \"Burn After Reading (2008)\", \"Burn After Reading (2008)\", \"Burn After Reading (2008)\", \"Burn After Reading (2008)\", \"Burn After Reading (2008)\", \"Burn After Reading (2008)\", \"Burn After Reading (2008)\", \"Burn After Reading (2008)\", \"Burn After Reading (2008)\", \"Burn After Reading (2008)\", \"Burn After Reading (2008)\", \"Burn After Reading (2008)\", \"Burn After Reading (2008)\", \"Burn After Reading (2008)\", \"Burn After Reading (2008)\", \"Burn After Reading (2008)\", \"Burn After Reading (2008)\", \"Burn After Reading (2008)\", \"Burn After Reading (2008)\", \"Burn After Reading (2008)\", \"Burn After Reading (2008)\", \"Curious Case of Benjamin Button, The (2008)\", \"Curious Case of Benjamin Button, The (2008)\", \"Curious Case of Benjamin Button, The (2008)\", \"Curious Case of Benjamin Button, The (2008)\", \"Curious Case of Benjamin Button, The (2008)\", \"Curious Case of Benjamin Button, The (2008)\", \"Curious Case of Benjamin Button, The (2008)\", \"Curious Case of Benjamin Button, The (2008)\", \"Curious Case of Benjamin Button, The (2008)\", \"Curious Case of Benjamin Button, The (2008)\", \"Curious Case of Benjamin Button, The (2008)\", \"Curious Case of Benjamin Button, The (2008)\", \"Curious Case of Benjamin Button, The (2008)\", \"Curious Case of Benjamin Button, The (2008)\", \"Curious Case of Benjamin Button, The (2008)\", \"Curious Case of Benjamin Button, The (2008)\", \"Curious Case of Benjamin Button, The (2008)\", \"Curious Case of Benjamin Button, The (2008)\", \"Curious Case of Benjamin Button, The (2008)\", \"Curious Case of Benjamin Button, The (2008)\", \"Curious Case of Benjamin Button, The (2008)\", \"Curious Case of Benjamin Button, The (2008)\", \"Curious Case of Benjamin Button, The (2008)\", \"Curious Case of Benjamin Button, The (2008)\", \"Curious Case of Benjamin Button, The (2008)\", \"Curious Case of Benjamin Button, The (2008)\", \"Curious Case of Benjamin Button, The (2008)\", \"Curious Case of Benjamin Button, The (2008)\", \"Curious Case of Benjamin Button, The (2008)\", \"Curious Case of Benjamin Button, The (2008)\", \"Curious Case of Benjamin Button, The (2008)\", \"Curious Case of Benjamin Button, The (2008)\", \"Curious Case of Benjamin Button, The (2008)\", \"Curious Case of Benjamin Button, The (2008)\", \"Curious Case of Benjamin Button, The (2008)\", \"Curious Case of Benjamin Button, The (2008)\", \"Curious Case of Benjamin Button, The (2008)\", \"Curious Case of Benjamin Button, The (2008)\", \"Curious Case of Benjamin Button, The (2008)\", \"Curious Case of Benjamin Button, The (2008)\", \"Curious Case of Benjamin Button, The (2008)\", \"Curious Case of Benjamin Button, The (2008)\", \"Curious Case of Benjamin Button, The (2008)\", \"Curious Case of Benjamin Button, The (2008)\", \"Curious Case of Benjamin Button, The (2008)\", \"Curious Case of Benjamin Button, The (2008)\", \"Curious Case of Benjamin Button, The (2008)\", \"Curious Case of Benjamin Button, The (2008)\", \"Curious Case of Benjamin Button, The (2008)\", \"Curious Case of Benjamin Button, The (2008)\", \"Curious Case of Benjamin Button, The (2008)\", \"Curious Case of Benjamin Button, The (2008)\", \"Inglourious Basterds (2009)\", \"Inglourious Basterds (2009)\", \"Inglourious Basterds (2009)\", \"Inglourious Basterds (2009)\", \"Inglourious Basterds (2009)\", \"Inglourious Basterds (2009)\", \"Inglourious Basterds (2009)\", \"Inglourious Basterds (2009)\", \"Inglourious Basterds (2009)\", \"Inglourious Basterds (2009)\", \"Inglourious Basterds (2009)\", \"Inglourious Basterds (2009)\", \"Inglourious Basterds (2009)\", \"Inglourious Basterds (2009)\", \"Inglourious Basterds (2009)\", \"Inglourious Basterds (2009)\", \"Inglourious Basterds (2009)\", \"Inglourious Basterds (2009)\", \"Inglourious Basterds (2009)\", \"Inglourious Basterds (2009)\", \"Inglourious Basterds (2009)\", \"Inglourious Basterds (2009)\", \"Inglourious Basterds (2009)\", \"Inglourious Basterds (2009)\", \"Inglourious Basterds (2009)\", \"Inglourious Basterds (2009)\", \"Inglourious Basterds (2009)\", \"Inglourious Basterds (2009)\", \"Inglourious Basterds (2009)\", \"Inglourious Basterds (2009)\", \"Inglourious Basterds (2009)\", \"Inglourious Basterds (2009)\", \"Inglourious Basterds (2009)\", \"Inglourious Basterds (2009)\", \"Inglourious Basterds (2009)\", \"Inglourious Basterds (2009)\", \"Inglourious Basterds (2009)\", \"Inglourious Basterds (2009)\", \"Inglourious Basterds (2009)\", \"Inglourious Basterds (2009)\", \"Inglourious Basterds (2009)\", \"Inglourious Basterds (2009)\", \"Inglourious Basterds (2009)\", \"Inglourious Basterds (2009)\", \"Inglourious Basterds (2009)\", \"Inglourious Basterds (2009)\", \"Inglourious Basterds (2009)\", \"Inglourious Basterds (2009)\", \"Inglourious Basterds (2009)\", \"Inglourious Basterds (2009)\", \"Inglourious Basterds (2009)\", \"Inglourious Basterds (2009)\", \"Inglourious Basterds (2009)\", \"Inglourious Basterds (2009)\", \"Inglourious Basterds (2009)\", \"Inglourious Basterds (2009)\", \"Inglourious Basterds (2009)\", \"Inglourious Basterds (2009)\", \"Inglourious Basterds (2009)\", \"Inglourious Basterds (2009)\", \"Inglourious Basterds (2009)\", \"Inglourious Basterds (2009)\", \"Inglourious Basterds (2009)\", \"Inglourious Basterds (2009)\", \"Inglourious Basterds (2009)\", \"Inglourious Basterds (2009)\", \"Inglourious Basterds (2009)\", \"Inglourious Basterds (2009)\", \"Inglourious Basterds (2009)\", \"Inglourious Basterds (2009)\", \"Inglourious Basterds (2009)\", \"Inglourious Basterds (2009)\", \"Inglourious Basterds (2009)\", \"Inglourious Basterds (2009)\", \"Inglourious Basterds (2009)\", \"Inglourious Basterds (2009)\", \"Inglourious Basterds (2009)\", \"Inglourious Basterds (2009)\", \"Inglourious Basterds (2009)\", \"Inglourious Basterds (2009)\", \"Inglourious Basterds (2009)\", \"Inglourious Basterds (2009)\", \"Inglourious Basterds (2009)\", \"Inglourious Basterds (2009)\", \"Inglourious Basterds (2009)\", \"Inglourious Basterds (2009)\", \"Inglourious Basterds (2009)\", \"Inglourious Basterds (2009)\", \"Inglourious Basterds (2009)\", \"Inglourious Basterds (2009)\", \"Inglourious Basterds (2009)\", \"Inglourious Basterds (2009)\", \"Inglourious Basterds (2009)\", \"Inglourious Basterds (2009)\", \"Inglourious Basterds (2009)\", \"Inglourious Basterds (2009)\", \"Inglourious Basterds (2009)\", \"Megamind (2010)\", \"Tree of Life, The (2011)\", \"Tree of Life, The (2011)\", \"Tree of Life, The (2011)\", \"Tree of Life, The (2011)\", \"Tree of Life, The (2011)\", \"Tree of Life, The (2011)\", \"Tree of Life, The (2011)\", \"Moneyball (2011)\", \"Moneyball (2011)\", \"Moneyball (2011)\", \"Moneyball (2011)\", \"Moneyball (2011)\", \"Moneyball (2011)\", \"Moneyball (2011)\", \"Moneyball (2011)\", \"Moneyball (2011)\", \"Moneyball (2011)\", \"Moneyball (2011)\", \"Moneyball (2011)\", \"Moneyball (2011)\", \"Moneyball (2011)\", \"Moneyball (2011)\", \"Moneyball (2011)\", \"Moneyball (2011)\", \"Moneyball (2011)\", \"Moneyball (2011)\", \"Moneyball (2011)\", \"Moneyball (2011)\", \"Moneyball (2011)\", \"Moneyball (2011)\", \"Moneyball (2011)\", \"Moneyball (2011)\", \"Moneyball (2011)\", \"Moneyball (2011)\", \"Moneyball (2011)\", \"Killing Them Softly (2012)\", \"Killing Them Softly (2012)\", \"Killing Them Softly (2012)\", \"World War Z (2013)\", \"World War Z (2013)\", \"World War Z (2013)\", \"World War Z (2013)\", \"World War Z (2013)\", \"World War Z (2013)\", \"World War Z (2013)\", \"World War Z (2013)\", \"World War Z (2013)\", \"World War Z (2013)\", \"World War Z (2013)\", \"World War Z (2013)\", \"World War Z (2013)\", \"World War Z (2013)\", \"World War Z (2013)\", \"World War Z (2013)\", \"Counselor, The (2013)\", \"Counselor, The (2013)\", \"12 Years a Slave (2013)\", \"12 Years a Slave (2013)\", \"12 Years a Slave (2013)\", \"12 Years a Slave (2013)\", \"12 Years a Slave (2013)\", \"Fury (2014)\", \"Fury (2014)\", \"Fury (2014)\", \"Fury (2014)\", \"Fury (2014)\", \"Fury (2014)\", \"Fury (2014)\", \"Fury (2014)\", \"Fury (2014)\", \"Fury (2014)\", \"Fury (2014)\", \"Fury (2014)\", \"Fury (2014)\", \"Fury (2014)\", \"Fury (2014)\", \"Fury (2014)\", \"Fury (2014)\", \"Fury (2014)\", \"Big Short, The (2015)\", \"Big Short, The (2015)\", \"Allied (2016)\", \"Allied (2016)\", \"War Machine (2017)\", \"War Machine (2017)\"], \n",
    "  \"textsrc\": \"bryanb0102:29:490f4f\", \n",
    "  \"type\": \"scatter\", \n",
    "  \"uid\": \"bbf83a\", \n",
    "  \"xsrc\": \"bryanb0102:29:d4829a\", \n",
    "  \"ysrc\": \"bryanb0102:29:9b59dc\"\n",
    "}\n",
    "trace8 = {\n",
    "  \"x\": [\"Brad Pitt\", \"Brad Pitt\", \"Brad Pitt\", \"Brad Pitt\", \"Brad Pitt\", \"Brad Pitt\", \"Brad Pitt\", \"Brad Pitt\", \"Brad Pitt\", \"Brad Pitt\", \"Brad Pitt\", \"Brad Pitt\", \"Brad Pitt\", \"Brad Pitt\", \"Brad Pitt\", \"Brad Pitt\", \"Brad Pitt\", \"Brad Pitt\", \"Brad Pitt\", \"Brad Pitt\", \"Brad Pitt\", \"Brad Pitt\", \"Brad Pitt\", \"Brad Pitt\", \"Brad Pitt\", \"Brad Pitt\", \"Brad Pitt\", \"Brad Pitt\", \"Brad Pitt\", \"Brad Pitt\", \"Brad Pitt\", \"Brad Pitt\", \"Brad Pitt\", \"Brad Pitt\", \"Brad Pitt\", \"Brad Pitt\", \"Brad Pitt\", \"Brad Pitt\", \"Brad Pitt\", \"Brad Pitt\", \"Brad Pitt\", \"Brad Pitt\", \"Brad Pitt\", \"Brad Pitt\", \"Brad Pitt\", \"Brad Pitt\", \"Brad Pitt\", \"Brad Pitt\", \"Brad Pitt\", \"Brad Pitt\", \"Brad Pitt\", \"Brad Pitt\", \"Brad Pitt\", \"Brad Pitt\", \"Brad Pitt\", \"Brad Pitt\", \"Brad Pitt\", \"Brad Pitt\", \"Brad Pitt\", \"Brad Pitt\", \"Brad Pitt\", \"Brad Pitt\", \"Brad Pitt\", \"Brad Pitt\", \"Brad Pitt\", \"Brad Pitt\", \"Brad Pitt\", \"Brad Pitt\", \"Brad Pitt\", \"Brad Pitt\", \"Brad Pitt\", \"Brad Pitt\", \"Brad Pitt\", \"Brad Pitt\", \"Brad Pitt\", \"Brad Pitt\", \"Brad Pitt\", \"Brad Pitt\", \"Brad Pitt\", \"Brad Pitt\", \"Brad Pitt\", \"Brad Pitt\", \"Brad Pitt\", \"Brad Pitt\", \"Brad Pitt\", \"Brad Pitt\", \"Brad Pitt\", \"Brad Pitt\", \"Brad Pitt\", \"Brad Pitt\", \"Brad Pitt\", \"Brad Pitt\", \"Brad Pitt\", \"Brad Pitt\", \"Brad Pitt\", \"Brad Pitt\", \"Brad Pitt\", \"Brad Pitt\", \"Brad Pitt\", \"Brad Pitt\", \"Brad Pitt\", \"Brad Pitt\", \"Brad Pitt\", \"Brad Pitt\", \"Brad Pitt\", \"Brad Pitt\", \"Brad Pitt\", \"Brad Pitt\", \"Brad Pitt\", \"Brad Pitt\", \"Brad Pitt\", \"Brad Pitt\", \"Brad Pitt\", \"Brad Pitt\", \"Brad Pitt\", \"Brad Pitt\", \"Brad Pitt\", \"Brad Pitt\", \"Brad Pitt\", \"Brad Pitt\", \"Brad Pitt\", \"Brad Pitt\", \"Brad Pitt\", \"Brad Pitt\", \"Brad Pitt\", \"Brad Pitt\", \"Brad Pitt\", \"Brad Pitt\", \"Brad Pitt\", \"Brad Pitt\", \"Brad Pitt\", \"Brad Pitt\", \"Brad Pitt\", \"Brad Pitt\", \"Brad Pitt\", \"Brad Pitt\", \"Brad Pitt\", \"Brad Pitt\", \"Brad Pitt\", \"Brad Pitt\", \"Brad Pitt\", \"Brad Pitt\", \"Brad Pitt\", \"Brad Pitt\", \"Brad Pitt\", \"Brad Pitt\", \"Brad Pitt\", \"Brad Pitt\", \"Brad Pitt\", \"Brad Pitt\", \"Brad Pitt\", \"Brad Pitt\", \"Brad Pitt\", \"Brad Pitt\", \"Brad Pitt\", \"Brad Pitt\", \"Brad Pitt\", \"Brad Pitt\", \"Brad Pitt\", \"Brad Pitt\", \"Brad Pitt\", \"Brad Pitt\", \"Brad Pitt\", \"Brad Pitt\", \"Brad Pitt\", \"Brad Pitt\", \"Brad Pitt\", \"Brad Pitt\", \"Brad Pitt\", \"Brad Pitt\", \"Brad Pitt\", \"Brad Pitt\", \"Brad Pitt\", \"Brad Pitt\", \"Brad Pitt\", \"Brad Pitt\", \"Brad Pitt\", \"Brad Pitt\", \"Brad Pitt\", \"Brad Pitt\", \"Brad Pitt\", \"Brad Pitt\", \"Brad Pitt\", \"Brad Pitt\", \"Brad Pitt\", \"Brad Pitt\", \"Brad Pitt\", \"Brad Pitt\", \"Brad Pitt\", \"Brad Pitt\", \"Brad Pitt\", \"Brad Pitt\", \"Brad Pitt\", \"Brad Pitt\", \"Brad Pitt\", \"Brad Pitt\", \"Brad Pitt\", \"Brad Pitt\", \"Brad Pitt\", \"Brad Pitt\", \"Brad Pitt\", \"Brad Pitt\", \"Brad Pitt\", \"Brad Pitt\", \"Brad Pitt\", \"Brad Pitt\", \"Brad Pitt\", \"Brad Pitt\", \"Brad Pitt\", \"Brad Pitt\", \"Brad Pitt\", \"Brad Pitt\", \"Brad Pitt\", \"Brad Pitt\", \"Brad Pitt\", \"Brad Pitt\", \"Brad Pitt\", \"Brad Pitt\", \"Brad Pitt\", \"Brad Pitt\", \"Brad Pitt\", \"Brad Pitt\", \"Brad Pitt\", \"Brad Pitt\", \"Brad Pitt\", \"Brad Pitt\", \"Brad Pitt\", \"Brad Pitt\", \"Brad Pitt\", \"Brad Pitt\", \"Brad Pitt\", \"Brad Pitt\", \"Brad Pitt\", \"Brad Pitt\", \"Brad Pitt\", \"Brad Pitt\", \"Brad Pitt\", \"Brad Pitt\", \"Brad Pitt\", \"Brad Pitt\", \"Brad Pitt\", \"Brad Pitt\", \"Brad Pitt\", \"Brad Pitt\", \"Brad Pitt\", \"Brad Pitt\", \"Brad Pitt\", \"Brad Pitt\", \"Brad Pitt\", \"Brad Pitt\", \"Brad Pitt\", \"Brad Pitt\", \"Brad Pitt\", \"Brad Pitt\", \"Brad Pitt\", \"Brad Pitt\", \"Brad Pitt\", \"Brad Pitt\", \"Brad Pitt\", \"Brad Pitt\", \"Brad Pitt\", \"Brad Pitt\", \"Brad Pitt\", \"Brad Pitt\", \"Brad Pitt\", \"Brad Pitt\", \"Brad Pitt\", \"Brad Pitt\", \"Brad Pitt\", \"Brad Pitt\", \"Brad Pitt\", \"Brad Pitt\", \"Brad Pitt\", \"Brad Pitt\", \"Brad Pitt\", \"Brad Pitt\", \"Brad Pitt\", \"Brad Pitt\", \"Brad Pitt\", \"Brad Pitt\", \"Brad Pitt\", \"Brad Pitt\", \"Brad Pitt\", \"Brad Pitt\", \"Brad Pitt\", \"Brad Pitt\", \"Brad Pitt\", \"Brad Pitt\", \"Brad Pitt\", \"Brad Pitt\", \"Brad Pitt\", \"Brad Pitt\", \"Brad Pitt\", \"Brad Pitt\", \"Brad Pitt\", \"Brad Pitt\", \"Brad Pitt\", \"Brad Pitt\", \"Brad Pitt\", \"Brad Pitt\", \"Brad Pitt\", \"Brad Pitt\", \"Brad Pitt\", \"Brad Pitt\", \"Brad Pitt\", \"Brad Pitt\", \"Brad Pitt\", \"Brad Pitt\", \"Brad Pitt\", \"Brad Pitt\", \"Brad Pitt\", \"Brad Pitt\", \"Brad Pitt\", \"Brad Pitt\", \"Brad Pitt\", \"Brad Pitt\", \"Brad Pitt\", \"Brad Pitt\", \"Brad Pitt\", \"Brad Pitt\", \"Brad Pitt\", \"Brad Pitt\", \"Brad Pitt\", \"Brad Pitt\", \"Brad Pitt\", \"Brad Pitt\", \"Brad Pitt\", \"Brad Pitt\", \"Brad Pitt\", \"Brad Pitt\", \"Brad Pitt\", \"Brad Pitt\", \"Brad Pitt\", \"Brad Pitt\", \"Brad Pitt\", \"Brad Pitt\", \"Brad Pitt\", \"Brad Pitt\", \"Brad Pitt\", \"Brad Pitt\", \"Brad Pitt\", \"Brad Pitt\", \"Brad Pitt\", \"Brad Pitt\", \"Brad Pitt\", \"Brad Pitt\", \"Brad Pitt\", \"Brad Pitt\", \"Brad Pitt\", \"Brad Pitt\", \"Brad Pitt\", \"Brad Pitt\", \"Brad Pitt\", \"Brad Pitt\", \"Brad Pitt\", \"Brad Pitt\", \"Brad Pitt\", \"Brad Pitt\", \"Brad Pitt\", \"Brad Pitt\", \"Brad Pitt\", \"Brad Pitt\", \"Brad Pitt\", \"Brad Pitt\", \"Brad Pitt\", \"Brad Pitt\", \"Brad Pitt\", \"Brad Pitt\", \"Brad Pitt\", \"Brad Pitt\", \"Brad Pitt\", \"Brad Pitt\", \"Brad Pitt\", \"Brad Pitt\", \"Brad Pitt\", \"Brad Pitt\", \"Brad Pitt\", \"Brad Pitt\", \"Brad Pitt\", \"Brad Pitt\", \"Brad Pitt\", \"Brad Pitt\", \"Brad Pitt\", \"Brad Pitt\", \"Brad Pitt\", \"Brad Pitt\", \"Brad Pitt\", \"Brad Pitt\", \"Brad Pitt\", \"Brad Pitt\", \"Brad Pitt\", \"Brad Pitt\", \"Brad Pitt\", \"Brad Pitt\", \"Brad Pitt\", \"Brad Pitt\", \"Brad Pitt\", \"Brad Pitt\", \"Brad Pitt\", \"Brad Pitt\", \"Brad Pitt\", \"Brad Pitt\", \"Brad Pitt\", \"Brad Pitt\", \"Brad Pitt\", \"Brad Pitt\", \"Brad Pitt\", \"Brad Pitt\", \"Brad Pitt\", \"Brad Pitt\", \"Brad Pitt\", \"Brad Pitt\", \"Brad Pitt\", \"Brad Pitt\", \"Brad Pitt\", \"Brad Pitt\", \"Brad Pitt\", \"Brad Pitt\", \"Brad Pitt\", \"Brad Pitt\", \"Brad Pitt\", \"Brad Pitt\", \"Brad Pitt\", \"Brad Pitt\", \"Brad Pitt\", \"Brad Pitt\", \"Brad Pitt\", \"Brad Pitt\", \"Brad Pitt\", \"Brad Pitt\", \"Brad Pitt\", \"Brad Pitt\", \"Brad Pitt\", \"Brad Pitt\", \"Brad Pitt\", \"Brad Pitt\", \"Brad Pitt\", \"Brad Pitt\", \"Brad Pitt\", \"Brad Pitt\", \"Brad Pitt\", \"Brad Pitt\", \"Brad Pitt\", \"Brad Pitt\", \"Brad Pitt\", \"Brad Pitt\", \"Brad Pitt\", \"Brad Pitt\", \"Brad Pitt\", \"Brad Pitt\", \"Brad Pitt\", \"Brad Pitt\", \"Brad Pitt\", \"Brad Pitt\", \"Brad Pitt\", \"Brad Pitt\", \"Brad Pitt\", \"Brad Pitt\", \"Brad Pitt\", \"Brad Pitt\", \"Brad Pitt\", \"Brad Pitt\", \"Brad Pitt\", \"Brad Pitt\", \"Brad Pitt\", \"Brad Pitt\", \"Brad Pitt\", \"Brad Pitt\", \"Brad Pitt\", \"Brad Pitt\", \"Brad Pitt\", \"Brad Pitt\", \"Brad Pitt\", \"Brad Pitt\", \"Brad Pitt\", \"Brad Pitt\", \"Brad Pitt\", \"Brad Pitt\", \"Brad Pitt\", \"Brad Pitt\", \"Brad Pitt\", \"Brad Pitt\", \"Brad Pitt\", \"Brad Pitt\", \"Brad Pitt\", \"Brad Pitt\", \"Brad Pitt\", \"Brad Pitt\", \"Brad Pitt\", \"Brad Pitt\", \"Brad Pitt\", \"Brad Pitt\", \"Brad Pitt\", \"Brad Pitt\", \"Brad Pitt\", \"Brad Pitt\", \"Brad Pitt\", \"Brad Pitt\", \"Brad Pitt\", \"Brad Pitt\", \"Brad Pitt\", \"Brad Pitt\", \"Brad Pitt\", \"Brad Pitt\", \"Brad Pitt\", \"Brad Pitt\", \"Brad Pitt\", \"Brad Pitt\", \"Brad Pitt\", \"Brad Pitt\", \"Brad Pitt\", \"Brad Pitt\", \"Brad Pitt\", \"Brad Pitt\", \"Brad Pitt\", \"Brad Pitt\", \"Brad Pitt\", \"Brad Pitt\", \"Brad Pitt\", \"Brad Pitt\", \"Brad Pitt\", \"Brad Pitt\", \"Brad Pitt\", \"Brad Pitt\", \"Brad Pitt\", \"Brad Pitt\", \"Brad Pitt\", \"Brad Pitt\", \"Brad Pitt\", \"Brad Pitt\", \"Brad Pitt\", \"Brad Pitt\", \"Brad Pitt\", \"Brad Pitt\", \"Brad Pitt\", \"Brad Pitt\", \"Brad Pitt\", \"Brad Pitt\", \"Brad Pitt\", \"Brad Pitt\", \"Brad Pitt\", \"Brad Pitt\", \"Brad Pitt\", \"Brad Pitt\", \"Brad Pitt\", \"Brad Pitt\", \"Brad Pitt\", \"Brad Pitt\", \"Brad Pitt\", \"Brad Pitt\", \"Brad Pitt\", \"Brad Pitt\", \"Brad Pitt\", \"Brad Pitt\", \"Brad Pitt\", \"Brad Pitt\", \"Brad Pitt\", \"Brad Pitt\", \"Brad Pitt\", \"Brad Pitt\", \"Brad Pitt\", \"Brad Pitt\", \"Brad Pitt\", \"Brad Pitt\", \"Brad Pitt\", \"Brad Pitt\", \"Brad Pitt\", \"Brad Pitt\", \"Brad Pitt\", \"Brad Pitt\", \"Brad Pitt\", \"Brad Pitt\", \"Brad Pitt\", \"Brad Pitt\", \"Brad Pitt\", \"Brad Pitt\", \"Brad Pitt\", \"Brad Pitt\", \"Brad Pitt\", \"Brad Pitt\", \"Brad Pitt\", \"Brad Pitt\", \"Brad Pitt\", \"Brad Pitt\", \"Brad Pitt\", \"Brad Pitt\", \"Brad Pitt\", \"Brad Pitt\", \"Brad Pitt\", \"Brad Pitt\", \"Brad Pitt\", \"Brad Pitt\", \"Brad Pitt\", \"Brad Pitt\", \"Brad Pitt\", \"Brad Pitt\", \"Brad Pitt\", \"Brad Pitt\", \"Brad Pitt\", \"Brad Pitt\", \"Brad Pitt\", \"Brad Pitt\", \"Brad Pitt\", \"Brad Pitt\", \"Brad Pitt\", \"Brad Pitt\", \"Brad Pitt\", \"Brad Pitt\", \"Brad Pitt\", \"Brad Pitt\", \"Brad Pitt\", \"Brad Pitt\", \"Brad Pitt\", \"Brad Pitt\", \"Brad Pitt\", \"Brad Pitt\", \"Brad Pitt\", \"Brad Pitt\", \"Brad Pitt\", \"Brad Pitt\", \"Brad Pitt\", \"Brad Pitt\", \"Brad Pitt\", \"Brad Pitt\", \"Brad Pitt\", \"Brad Pitt\", \"Brad Pitt\", \"Brad Pitt\", \"Brad Pitt\", \"Brad Pitt\", \"Brad Pitt\", \"Brad Pitt\", \"Brad Pitt\", \"Brad Pitt\", \"Brad Pitt\", \"Brad Pitt\", \"Brad Pitt\", \"Brad Pitt\", \"Brad Pitt\", \"Brad Pitt\", \"Brad Pitt\", \"Brad Pitt\", \"Brad Pitt\", \"Brad Pitt\", \"Brad Pitt\", \"Brad Pitt\", \"Brad Pitt\", \"Brad Pitt\", \"Brad Pitt\", \"Brad Pitt\", \"Brad Pitt\", \"Brad Pitt\", \"Brad Pitt\", \"Brad Pitt\", \"Brad Pitt\", \"Brad Pitt\", \"Brad Pitt\", \"Brad Pitt\", \"Brad Pitt\", \"Brad Pitt\", \"Brad Pitt\", \"Brad Pitt\", \"Brad Pitt\", \"Brad Pitt\", \"Brad Pitt\", \"Brad Pitt\", \"Brad Pitt\", \"Brad Pitt\", \"Brad Pitt\", \"Brad Pitt\", \"Brad Pitt\", \"Brad Pitt\", \"Brad Pitt\", \"Brad Pitt\", \"Brad Pitt\", \"Brad Pitt\", \"Brad Pitt\", \"Brad Pitt\", \"Brad Pitt\", \"Brad Pitt\", \"Brad Pitt\", \"Brad Pitt\", \"Brad Pitt\", \"Brad Pitt\", \"Brad Pitt\", \"Brad Pitt\", \"Brad Pitt\", \"Brad Pitt\", \"Brad Pitt\", \"Brad Pitt\", \"Brad Pitt\", \"Brad Pitt\", \"Brad Pitt\", \"Brad Pitt\", \"Brad Pitt\", \"Brad Pitt\", \"Brad Pitt\", \"Brad Pitt\", \"Brad Pitt\", \"Brad Pitt\", \"Brad Pitt\", \"Brad Pitt\", \"Brad Pitt\", \"Brad Pitt\", \"Brad Pitt\", \"Brad Pitt\", \"Brad Pitt\", \"Brad Pitt\", \"Brad Pitt\", \"Brad Pitt\", \"Brad Pitt\", \"Brad Pitt\", \"Brad Pitt\", \"Brad Pitt\", \"Brad Pitt\", \"Brad Pitt\", \"Brad Pitt\", \"Brad Pitt\", \"Brad Pitt\", \"Brad Pitt\", \"Brad Pitt\", \"Brad Pitt\", \"Brad Pitt\", \"Brad Pitt\", \"Brad Pitt\", \"Brad Pitt\", \"Brad Pitt\", \"Brad Pitt\", \"Brad Pitt\", \"Brad Pitt\", \"Brad Pitt\", \"Brad Pitt\", \"Brad Pitt\", \"Brad Pitt\", \"Brad Pitt\", \"Brad Pitt\", \"Brad Pitt\", \"Brad Pitt\", \"Brad Pitt\", \"Brad Pitt\", \"Brad Pitt\", \"Brad Pitt\", \"Brad Pitt\", \"Brad Pitt\", \"Brad Pitt\", \"Brad Pitt\", \"Brad Pitt\", \"Brad Pitt\", \"Brad Pitt\", \"Brad Pitt\", \"Brad Pitt\", \"Brad Pitt\", \"Brad Pitt\", \"Brad Pitt\", \"Brad Pitt\", \"Brad Pitt\", \"Brad Pitt\", \"Brad Pitt\", \"Brad Pitt\", \"Brad Pitt\", \"Brad Pitt\", \"Brad Pitt\", \"Brad Pitt\", \"Brad Pitt\", \"Brad Pitt\", \"Brad Pitt\", \"Brad Pitt\", \"Brad Pitt\", \"Brad Pitt\", \"Brad Pitt\", \"Brad Pitt\", \"Brad Pitt\", \"Brad Pitt\", \"Brad Pitt\", \"Brad Pitt\", \"Brad Pitt\", \"Brad Pitt\", \"Brad Pitt\", \"Brad Pitt\", \"Brad Pitt\", \"Brad Pitt\", \"Brad Pitt\", \"Brad Pitt\", \"Brad Pitt\", \"Brad Pitt\", \"Brad Pitt\", \"Brad Pitt\", \"Brad Pitt\", \"Brad Pitt\", \"Brad Pitt\", \"Brad Pitt\", \"Brad Pitt\", \"Brad Pitt\", \"Brad Pitt\", \"Brad Pitt\", \"Brad Pitt\", \"Brad Pitt\", \"Brad Pitt\", \"Brad Pitt\", \"Brad Pitt\", \"Brad Pitt\", \"Brad Pitt\", \"Brad Pitt\", \"Brad Pitt\", \"Brad Pitt\", \"Brad Pitt\", \"Brad Pitt\", \"Brad Pitt\", \"Brad Pitt\", \"Brad Pitt\", \"Brad Pitt\", \"Brad Pitt\", \"Brad Pitt\", \"Brad Pitt\", \"Brad Pitt\", \"Brad Pitt\", \"Brad Pitt\", \"Brad Pitt\", \"Brad Pitt\", \"Brad Pitt\", \"Brad Pitt\", \"Brad Pitt\", \"Brad Pitt\", \"Brad Pitt\", \"Brad Pitt\", \"Brad Pitt\", \"Brad Pitt\", \"Brad Pitt\", \"Brad Pitt\", \"Brad Pitt\", \"Brad Pitt\", \"Brad Pitt\", \"Brad Pitt\", \"Brad Pitt\", \"Brad Pitt\", \"Brad Pitt\", \"Brad Pitt\", \"Brad Pitt\", \"Brad Pitt\", \"Brad Pitt\", \"Brad Pitt\", \"Brad Pitt\", \"Brad Pitt\", \"Brad Pitt\", \"Brad Pitt\", \"Brad Pitt\", \"Brad Pitt\", \"Brad Pitt\", \"Brad Pitt\", \"Brad Pitt\", \"Brad Pitt\", \"Brad Pitt\", \"Brad Pitt\", \"Brad Pitt\", \"Brad Pitt\", \"Brad Pitt\", \"Brad Pitt\", \"Brad Pitt\", \"Brad Pitt\", \"Brad Pitt\", \"Brad Pitt\", \"Brad Pitt\", \"Brad Pitt\", \"Brad Pitt\", \"Brad Pitt\", \"Brad Pitt\", \"Brad Pitt\", \"Brad Pitt\", \"Brad Pitt\", \"Brad Pitt\", \"Brad Pitt\", \"Brad Pitt\", \"Brad Pitt\", \"Brad Pitt\", \"Brad Pitt\", \"Brad Pitt\", \"Brad Pitt\", \"Brad Pitt\", \"Brad Pitt\", \"Brad Pitt\", \"Brad Pitt\", \"Brad Pitt\", \"Brad Pitt\", \"Brad Pitt\", \"Brad Pitt\", \"Brad Pitt\", \"Brad Pitt\", \"Brad Pitt\", \"Brad Pitt\", \"Brad Pitt\", \"Brad Pitt\", \"Brad Pitt\", \"Brad Pitt\", \"Brad Pitt\", \"Brad Pitt\", \"Brad Pitt\", \"Brad Pitt\", \"Brad Pitt\", \"Brad Pitt\", \"Brad Pitt\", \"Brad Pitt\", \"Brad Pitt\", \"Brad Pitt\", \"Brad Pitt\", \"Brad Pitt\", \"Brad Pitt\", \"Brad Pitt\", \"Brad Pitt\"], \n",
    "  \"y\": [\"3.8887692423\", \"3.8887692423\", \"3.8887692423\", \"3.8887692423\", \"3.8887692423\", \"3.8887692423\", \"3.8887692423\", \"3.8887692423\", \"3.8887692423\", \"3.8887692423\", \"3.8887692423\", \"3.8887692423\", \"3.8887692423\", \"3.8887692423\", \"3.8887692423\", \"3.8887692423\", \"3.8887692423\", \"3.8887692423\", \"3.8887692423\", \"3.8887692423\", \"3.8887692423\", \"3.8887692423\", \"3.8887692423\", \"3.8887692423\", \"3.8887692423\", \"3.8887692423\", \"3.8887692423\", \"3.8887692423\", \"3.8887692423\", \"3.8887692423\", \"3.8887692423\", \"3.8887692423\", \"3.8887692423\", \"3.8887692423\", \"3.8887692423\", \"3.8887692423\", \"3.8887692423\", \"3.8887692423\", \"3.8887692423\", \"3.8887692423\", \"3.8887692423\", \"3.8887692423\", \"3.8887692423\", \"3.8887692423\", \"3.8887692423\", \"3.8887692423\", \"3.8887692423\", \"3.8887692423\", \"3.8887692423\", \"3.8887692423\", \"3.8887692423\", \"3.8887692423\", \"3.8887692423\", \"3.8887692423\", \"3.8887692423\", \"3.8887692423\", \"3.8887692423\", \"3.8887692423\", \"3.8887692423\", \"3.8887692423\", \"3.8887692423\", \"3.8887692423\", \"3.8887692423\", \"4.0681282996\", \"4.0681282996\", \"4.0681282996\", \"4.0681282996\", \"4.0681282996\", \"4.0681282996\", \"4.0681282996\", \"4.0681282996\", \"4.0681282996\", \"4.0681282996\", \"4.0681282996\", \"4.0681282996\", \"4.0681282996\", \"4.0681282996\", \"4.0681282996\", \"4.0681282996\", \"4.0681282996\", \"4.0681282996\", \"4.0681282996\", \"4.0681282996\", \"4.0681282996\", \"4.0681282996\", \"4.0681282996\", \"4.0681282996\", \"4.0681282996\", \"4.0681282996\", \"4.0681282996\", \"4.0681282996\", \"4.0681282996\", \"4.0681282996\", \"4.0681282996\", \"4.0681282996\", \"4.0681282996\", \"4.0681282996\", \"4.0681282996\", \"4.0681282996\", \"4.0681282996\", \"4.0681282996\", \"4.0681282996\", \"4.0681282996\", \"4.0681282996\", \"4.0681282996\", \"4.0681282996\", \"4.0681282996\", \"4.0681282996\", \"4.0681282996\", \"4.0681282996\", \"4.0681282996\", \"4.0681282996\", \"4.0681282996\", \"4.0681282996\", \"4.0681282996\", \"4.0681282996\", \"4.0681282996\", \"4.0681282996\", \"4.0681282996\", \"4.0681282996\", \"4.0681282996\", \"4.0681282996\", \"4.0681282996\", \"3.5019296811\", \"3.5019296811\", \"3.5019296811\", \"3.5019296811\", \"3.5019296811\", \"3.5019296811\", \"3.5019296811\", \"3.5019296811\", \"3.5019296811\", \"3.5019296811\", \"3.5019296811\", \"3.5019296811\", \"3.5019296811\", \"3.5019296811\", \"3.5019296811\", \"3.5019296811\", \"3.5019296811\", \"3.5019296811\", \"3.5019296811\", \"3.5019296811\", \"3.5019296811\", \"3.5001401895\", \"3.5001401895\", \"3.5001401895\", \"3.5001401895\", \"3.5001401895\", \"3.5001401895\", \"3.5001401895\", \"3.5001401895\", \"3.5001401895\", \"3.5001401895\", \"3.5001401895\", \"3.5001401895\", \"3.5001401895\", \"3.339386871\", \"3.339386871\", \"3.339386871\", \"3.8041960094\", \"3.8041960094\", \"3.8041960094\", \"3.8041960094\", \"3.8041960094\", \"2.61143629\", \"3.6276606037\", \"3.6276606037\", \"3.6276606037\", \"3.6276606037\", \"3.6276606037\", \"3.6276606037\", \"3.6276606037\", \"3.6276606037\", \"3.6276606037\", \"3.6276606037\", \"3.6276606037\", \"3.6276606037\", \"3.0398048279\", \"3.4321115126\", \"3.4321115126\", \"3.4321115126\", \"3.4321115126\", \"3.4321115126\", \"3.4321115126\", \"3.4321115126\", \"3.4321115126\", \"3.4321115126\", \"3.4321115126\", \"3.4321115126\", \"3.4914337241\", \"3.322573225\", \"3.322573225\", \"3.322573225\", \"3.322573225\", \"3.322573225\", \"3.322573225\", \"3.322573225\", \"3.322573225\", \"3.322573225\", \"3.322573225\", \"3.322573225\", \"3.322573225\", \"3.322573225\", \"4.2307160469\", \"4.2307160469\", \"4.2307160469\", \"4.2307160469\", \"4.2307160469\", \"4.2307160469\", \"4.2307160469\", \"4.2307160469\", \"4.2307160469\", \"4.2307160469\", \"4.2307160469\", \"4.2307160469\", \"4.2307160469\", \"4.2307160469\", \"4.2307160469\", \"4.2307160469\", \"4.2307160469\", \"4.2307160469\", \"4.2307160469\", \"4.2307160469\", \"4.2307160469\", \"4.2307160469\", \"4.2307160469\", \"4.2307160469\", \"4.2307160469\", \"4.2307160469\", \"4.2307160469\", \"4.2307160469\", \"4.2307160469\", \"4.2307160469\", \"4.2307160469\", \"4.2307160469\", \"4.2307160469\", \"4.2307160469\", \"4.2307160469\", \"4.2307160469\", \"4.2307160469\", \"4.2307160469\", \"4.2307160469\", \"4.2307160469\", \"4.2307160469\", \"4.2307160469\", \"4.2307160469\", \"4.2307160469\", \"4.2307160469\", \"4.2307160469\", \"4.2307160469\", \"4.2307160469\", \"4.2307160469\", \"4.2307160469\", \"4.2307160469\", \"4.2307160469\", \"4.2307160469\", \"4.2307160469\", \"4.2307160469\", \"4.2307160469\", \"4.2307160469\", \"4.2307160469\", \"4.2307160469\", \"4.2307160469\", \"4.2307160469\", \"4.2307160469\", \"4.2307160469\", \"4.2307160469\", \"4.2307160469\", \"4.2307160469\", \"4.2307160469\", \"4.2307160469\", \"4.2307160469\", \"4.2307160469\", \"4.2307160469\", \"4.2307160469\", \"4.2307160469\", \"4.2307160469\", \"4.2307160469\", \"4.2307160469\", \"4.2307160469\", \"4.2307160469\", \"4.2307160469\", \"4.2307160469\", \"4.2307160469\", \"4.2307160469\", \"4.2307160469\", \"4.2307160469\", \"4.2307160469\", \"4.2307160469\", \"4.2307160469\", \"4.2307160469\", \"4.2307160469\", \"4.2307160469\", \"4.2307160469\", \"4.2307160469\", \"4.2307160469\", \"4.2307160469\", \"4.2307160469\", \"4.2307160469\", \"4.2307160469\", \"4.2307160469\", \"4.2307160469\", \"4.2307160469\", \"4.2307160469\", \"4.2307160469\", \"4.2307160469\", \"4.2307160469\", \"4.2307160469\", \"4.2307160469\", \"4.2307160469\", \"4.2307160469\", \"4.2307160469\", \"4.2307160469\", \"4.2307160469\", \"4.2307160469\", \"4.2307160469\", \"4.2307160469\", \"4.2307160469\", \"4.2307160469\", \"4.2307160469\", \"4.2307160469\", \"4.2307160469\", \"4.2307160469\", \"4.2307160469\", \"4.2307160469\", \"4.2307160469\", \"4.2307160469\", \"4.2307160469\", \"4.2307160469\", \"4.2307160469\", \"4.2307160469\", \"4.2307160469\", \"4.2307160469\", \"4.2307160469\", \"4.2307160469\", \"4.2307160469\", \"4.2307160469\", \"4.2307160469\", \"4.2307160469\", \"4.2307160469\", \"4.2307160469\", \"4.2307160469\", \"4.2307160469\", \"4.2307160469\", \"4.2307160469\", \"4.2307160469\", \"4.2307160469\", \"4.2307160469\", \"4.2307160469\", \"4.2307160469\", \"4.2307160469\", \"4.2307160469\", \"4.2307160469\", \"4.2307160469\", \"4.2307160469\", \"4.2307160469\", \"4.2307160469\", \"4.2307160469\", \"4.2307160469\", \"4.2307160469\", \"4.2307160469\", \"4.2307160469\", \"4.2307160469\", \"4.2307160469\", \"4.2307160469\", \"4.2307160469\", \"4.2307160469\", \"4.2307160469\", \"4.2307160469\", \"4.2307160469\", \"4.2307160469\", \"4.2307160469\", \"4.2307160469\", \"4.2307160469\", \"4.2307160469\", \"4.2307160469\", \"4.2307160469\", \"4.2307160469\", \"3.6800549786\", \"3.6800549786\", \"3.5853113051\", \"3.5853113051\", \"3.5853113051\", \"3.5853113051\", \"3.5853113051\", \"3.5853113051\", \"3.5853113051\", \"4.0605051289\", \"4.0605051289\", \"4.0605051289\", \"4.0605051289\", \"4.0605051289\", \"4.0605051289\", \"4.0605051289\", \"4.0605051289\", \"4.0605051289\", \"4.0605051289\", \"4.0605051289\", \"4.0605051289\", \"4.0605051289\", \"4.0605051289\", \"4.0605051289\", \"4.0605051289\", \"4.0605051289\", \"4.0605051289\", \"4.0605051289\", \"4.0605051289\", \"4.0605051289\", \"4.0605051289\", \"4.0605051289\", \"4.0605051289\", \"4.0605051289\", \"4.0605051289\", \"4.0605051289\", \"4.0605051289\", \"4.0605051289\", \"4.0605051289\", \"4.0605051289\", \"4.0605051289\", \"4.0605051289\", \"4.0605051289\", \"4.0605051289\", \"4.0605051289\", \"4.0605051289\", \"4.0605051289\", \"4.0605051289\", \"4.0605051289\", \"4.0605051289\", \"4.0605051289\", \"4.0605051289\", \"4.0605051289\", \"4.0605051289\", \"4.0605051289\", \"4.0605051289\", \"4.0605051289\", \"4.0605051289\", \"4.0605051289\", \"4.0605051289\", \"3.4207393484\", \"3.0270809578\", \"3.0270809578\", \"3.0270809578\", \"3.0270809578\", \"3.0270809578\", \"3.0270809578\", \"3.0270809578\", \"3.6148412578\", \"3.6148412578\", \"3.6148412578\", \"3.6148412578\", \"3.6148412578\", \"3.6148412578\", \"3.6148412578\", \"3.6148412578\", \"3.8027608647\", \"3.8027608647\", \"3.8027608647\", \"3.8027608647\", \"3.8027608647\", \"3.8027608647\", \"3.8027608647\", \"3.8027608647\", \"3.8027608647\", \"3.8027608647\", \"3.8027608647\", \"3.8027608647\", \"3.8027608647\", \"3.8027608647\", \"3.8027608647\", \"3.8027608647\", \"3.8027608647\", \"3.8027608647\", \"3.8027608647\", \"3.8027608647\", \"3.8027608647\", \"3.8027608647\", \"3.8027608647\", \"3.8027608647\", \"3.8027608647\", \"3.8027608647\", \"3.8027608647\", \"3.8027608647\", \"3.8027608647\", \"3.8027608647\", \"3.8027608647\", \"3.8027608647\", \"3.8027608647\", \"3.8027608647\", \"3.8027608647\", \"3.8027608647\", \"3.8027608647\", \"3.8027608647\", \"3.8027608647\", \"3.8027608647\", \"3.8027608647\", \"3.8027608647\", \"3.8027608647\", \"3.8027608647\", \"3.8027608647\", \"3.8027608647\", \"3.5813785114\", \"3.5813785114\", \"3.5813785114\", \"3.5813785114\", \"2.4163545568\", \"3.3389251479\", \"3.3389251479\", \"3.3389251479\", \"3.3389251479\", \"3.3389251479\", \"3.3389251479\", \"3.3389251479\", \"3.3389251479\", \"3.3389251479\", \"3.3389251479\", \"3.3389251479\", \"3.3389251479\", \"3.3389251479\", \"3.3389251479\", \"3.3389251479\", \"3.3389251479\", \"3.3389251479\", \"3.3389251479\", \"3.3389251479\", \"3.3389251479\", \"3.3389251479\", \"3.3389251479\", \"3.3389251479\", \"3.3389251479\", \"3.3389251479\", \"3.3389251479\", \"3.3389251479\", \"3.3389251479\", \"3.3389251479\", \"3.3389251479\", \"3.3389251479\", \"3.3389251479\", \"3.3389251479\", \"3.3389251479\", \"3.3389251479\", \"3.3389251479\", \"3.3389251479\", \"3.3389251479\", \"3.310193133\", \"3.310193133\", \"3.310193133\", \"3.310193133\", \"3.310193133\", \"3.310193133\", \"3.310193133\", \"3.310193133\", \"3.310193133\", \"3.310193133\", \"3.310193133\", \"3.310193133\", \"3.310193133\", \"3.310193133\", \"3.310193133\", \"3.310193133\", \"3.310193133\", \"3.310193133\", \"3.310193133\", \"3.310193133\", \"3.310193133\", \"3.310193133\", \"3.310193133\", \"3.310193133\", \"3.310193133\", \"3.310193133\", \"3.2380689538\", \"3.2380689538\", \"3.2380689538\", \"3.2380689538\", \"3.2380689538\", \"3.2380689538\", \"3.2380689538\", \"3.2380689538\", \"3.2380689538\", \"3.2380689538\", \"3.2380689538\", \"3.2380689538\", \"3.2380689538\", \"3.2380689538\", \"3.2380689538\", \"3.2380689538\", \"3.2380689538\", \"3.2380689538\", \"3.2380689538\", \"3.2380689538\", \"3.2380689538\", \"3.2380689538\", \"3.2380689538\", \"3.2380689538\", \"3.2380689538\", \"3.2380689538\", \"3.2380689538\", \"3.2380689538\", \"3.2380689538\", \"3.2380689538\", \"3.6485348602\", \"3.6485348602\", \"3.6485348602\", \"3.6485348602\", \"3.6485348602\", \"3.6485348602\", \"3.6485348602\", \"3.6485348602\", \"3.6485348602\", \"3.6485348602\", \"3.6485348602\", \"3.6485348602\", \"3.6485348602\", \"3.6485348602\", \"3.6485348602\", \"3.6485348602\", \"3.6485348602\", \"3.864280652\", \"3.5186653214\", \"3.5186653214\", \"3.5186653214\", \"3.5186653214\", \"3.5186653214\", \"3.5186653214\", \"3.5186653214\", \"3.5186653214\", \"3.5186653214\", \"3.5186653214\", \"3.63195835\", \"3.63195835\", \"3.63195835\", \"3.63195835\", \"3.63195835\", \"3.63195835\", \"3.63195835\", \"3.63195835\", \"3.63195835\", \"3.63195835\", \"3.63195835\", \"3.63195835\", \"3.5348525469\", \"3.5348525469\", \"3.5348525469\", \"3.5348525469\", \"3.5348525469\", \"3.5348525469\", \"3.5348525469\", \"3.5348525469\", \"3.5348525469\", \"3.5348525469\", \"3.5348525469\", \"3.5348525469\", \"3.5348525469\", \"3.5348525469\", \"3.5348525469\", \"3.5348525469\", \"3.5348525469\", \"3.5348525469\", \"3.5348525469\", \"3.5348525469\", \"3.5348525469\", \"3.5348525469\", \"3.5348525469\", \"3.5348525469\", \"3.5348525469\", \"3.5348525469\", \"3.5348525469\", \"3.5348525469\", \"3.5348525469\", \"3.5348525469\", \"3.5348525469\", \"3.5348525469\", \"3.5348525469\", \"3.6106232598\", \"3.6106232598\", \"3.6106232598\", \"3.6106232598\", \"3.6106232598\", \"3.6106232598\", \"3.6106232598\", \"3.6106232598\", \"3.6106232598\", \"3.6106232598\", \"3.6106232598\", \"3.6106232598\", \"3.6106232598\", \"3.6106232598\", \"3.6106232598\", \"3.6106232598\", \"3.6106232598\", \"3.6106232598\", \"3.6106232598\", \"3.6106232598\", \"3.6106232598\", \"3.6106232598\", \"3.6106232598\", \"3.6106232598\", \"3.6106232598\", \"3.6106232598\", \"3.6106232598\", \"3.6106232598\", \"3.6106232598\", \"3.6106232598\", \"3.6106232598\", \"3.6106232598\", \"3.6106232598\", \"3.6106232598\", \"3.6106232598\", \"3.6106232598\", \"3.6106232598\", \"3.6106232598\", \"3.6106232598\", \"3.6106232598\", \"3.6106232598\", \"3.6106232598\", \"3.6106232598\", \"3.6106232598\", \"3.6106232598\", \"3.6106232598\", \"3.6106232598\", \"3.6106232598\", \"3.6106232598\", \"3.6106232598\", \"3.6106232598\", \"3.6106232598\", \"4.0024241515\", \"4.0024241515\", \"4.0024241515\", \"4.0024241515\", \"4.0024241515\", \"4.0024241515\", \"4.0024241515\", \"4.0024241515\", \"4.0024241515\", \"4.0024241515\", \"4.0024241515\", \"4.0024241515\", \"4.0024241515\", \"4.0024241515\", \"4.0024241515\", \"4.0024241515\", \"4.0024241515\", \"4.0024241515\", \"4.0024241515\", \"4.0024241515\", \"4.0024241515\", \"4.0024241515\", \"4.0024241515\", \"4.0024241515\", \"4.0024241515\", \"4.0024241515\", \"4.0024241515\", \"4.0024241515\", \"4.0024241515\", \"4.0024241515\", \"4.0024241515\", \"4.0024241515\", \"4.0024241515\", \"4.0024241515\", \"4.0024241515\", \"4.0024241515\", \"4.0024241515\", \"4.0024241515\", \"4.0024241515\", \"4.0024241515\", \"4.0024241515\", \"4.0024241515\", \"4.0024241515\", \"4.0024241515\", \"4.0024241515\", \"4.0024241515\", \"4.0024241515\", \"4.0024241515\", \"4.0024241515\", \"4.0024241515\", \"4.0024241515\", \"4.0024241515\", \"4.0024241515\", \"4.0024241515\", \"4.0024241515\", \"4.0024241515\", \"4.0024241515\", \"4.0024241515\", \"4.0024241515\", \"4.0024241515\", \"4.0024241515\", \"4.0024241515\", \"4.0024241515\", \"4.0024241515\", \"4.0024241515\", \"4.0024241515\", \"4.0024241515\", \"4.0024241515\", \"4.0024241515\", \"4.0024241515\", \"4.0024241515\", \"4.0024241515\", \"4.0024241515\", \"4.0024241515\", \"4.0024241515\", \"4.0024241515\", \"4.0024241515\", \"4.0024241515\", \"4.0024241515\", \"4.0024241515\", \"4.0024241515\", \"4.0024241515\", \"4.0024241515\", \"4.0024241515\", \"4.0024241515\", \"4.0024241515\", \"4.0024241515\", \"4.0024241515\", \"4.0024241515\", \"4.0024241515\", \"4.0024241515\", \"4.0024241515\", \"4.0024241515\", \"4.0024241515\", \"4.0024241515\", \"4.0024241515\", \"4.0024241515\", \"3.5924369748\", \"3.3255654558\", \"3.3255654558\", \"3.3255654558\", \"3.3255654558\", \"3.3255654558\", \"3.3255654558\", \"3.3255654558\", \"3.8541548363\", \"3.8541548363\", \"3.8541548363\", \"3.8541548363\", \"3.8541548363\", \"3.8541548363\", \"3.8541548363\", \"3.8541548363\", \"3.8541548363\", \"3.8541548363\", \"3.8541548363\", \"3.8541548363\", \"3.8541548363\", \"3.8541548363\", \"3.8541548363\", \"3.8541548363\", \"3.8541548363\", \"3.8541548363\", \"3.8541548363\", \"3.8541548363\", \"3.8541548363\", \"3.8541548363\", \"3.8541548363\", \"3.8541548363\", \"3.8541548363\", \"3.8541548363\", \"3.8541548363\", \"3.8541548363\", \"3.2147385103\", \"3.2147385103\", \"3.2147385103\", \"3.2832093518\", \"3.2832093518\", \"3.2832093518\", \"3.2832093518\", \"3.2832093518\", \"3.2832093518\", \"3.2832093518\", \"3.2832093518\", \"3.2832093518\", \"3.2832093518\", \"3.2832093518\", \"3.2832093518\", \"3.2832093518\", \"3.2832093518\", \"3.2832093518\", \"3.2832093518\", \"2.6405228758\", \"2.6405228758\", \"3.8758462282\", \"3.8758462282\", \"3.8758462282\", \"3.8758462282\", \"3.8758462282\", \"3.7310750636\", \"3.7310750636\", \"3.7310750636\", \"3.7310750636\", \"3.7310750636\", \"3.7310750636\", \"3.7310750636\", \"3.7310750636\", \"3.7310750636\", \"3.7310750636\", \"3.7310750636\", \"3.7310750636\", \"3.7310750636\", \"3.7310750636\", \"3.7310750636\", \"3.7310750636\", \"3.7310750636\", \"3.7310750636\", \"4.005572937\", \"4.005572937\", \"3.5326797386\", \"3.5326797386\", \"3.006097561\", \"3.006097561\"], \n",
    "  \"name\": \"3.8887692423\", \n",
    "  \"type\": \"box\", \n",
    "  \"uid\": \"c51cf4\", \n",
    "  \"xsrc\": \"bryanb0102:29:d4829a\", \n",
    "  \"ysrc\": \"bryanb0102:29:9b59dc\"\n",
    "}\n",
    "data = Data([trace1, trace2, trace3, trace4, trace5, trace6, trace7, trace8])\n",
    "layout = {\n",
    "  \"autosize\": True, \n",
    "  \"boxmode\": \"group\", \n",
    "  \"hovermode\": \"closest\", \n",
    "  \"showlegend\": False, \n",
    "  \"title\": \"Actor Battle Royale\", \n",
    "  \"xaxis\": {\n",
    "    \"autorange\": True, \n",
    "    \"range\": [-0.5, 3.5], \n",
    "    \"title\": \"Actors\", \n",
    "    \"type\": \"category\"\n",
    "  }, \n",
    "  \"yaxis\": {\n",
    "    \"autorange\": True, \n",
    "    \"range\": [0.906403184656, 4.43969747764], \n",
    "    \"title\": \"Rating\", \n",
    "    \"type\": \"linear\"\n",
    "  }\n",
    "}\n",
    "fig = Figure(data=data, layout=layout)\n",
    "plot_url = py.plot(fig)"
   ]
  },
  {
   "cell_type": "code",
   "execution_count": null,
   "metadata": {
    "collapsed": true
   },
   "outputs": [],
   "source": []
  }
 ],
 "metadata": {
  "kernelspec": {
   "display_name": "Python 3",
   "language": "python",
   "name": "python3"
  },
  "language_info": {
   "codemirror_mode": {
    "name": "ipython",
    "version": 3
   },
   "file_extension": ".py",
   "mimetype": "text/x-python",
   "name": "python",
   "nbconvert_exporter": "python",
   "pygments_lexer": "ipython3",
   "version": "3.6.3"
  }
 },
 "nbformat": 4,
 "nbformat_minor": 2
}
